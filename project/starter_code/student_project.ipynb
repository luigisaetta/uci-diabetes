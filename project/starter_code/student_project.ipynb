{
 "cells": [
  {
   "cell_type": "markdown",
   "metadata": {},
   "source": [
    "# Overview: Project 3\n",
    "#### author: L. Saetta\n",
    "#### last update: 30/01/2021"
   ]
  },
  {
   "cell_type": "markdown",
   "metadata": {},
   "source": [
    "1. Project Instructions & Prerequisites\n",
    "2. Learning Objectives\n",
    "3. Data Preparation\n",
    "4. Create Categorical Features with TF Feature Columns\n",
    "5. Create Continuous/Numerical Features with TF Feature Columns\n",
    "6. Build Deep Learning Regression Model with Sequential API and TF Probability Layers\n",
    "7. Evaluating Potential Model Biases with Aequitas Toolkit\n"
   ]
  },
  {
   "cell_type": "markdown",
   "metadata": {},
   "source": [
    "#  1. Project Instructions & Prerequisites"
   ]
  },
  {
   "cell_type": "markdown",
   "metadata": {},
   "source": [
    "## Project Instructions"
   ]
  },
  {
   "cell_type": "markdown",
   "metadata": {},
   "source": [
    "**Context**: EHR data is becoming a key source of real-world evidence (RWE) for the pharmaceutical industry and regulators to [make decisions on clinical trials](https://www.fda.gov/news-events/speeches-fda-officials/breaking-down-barriers-between-clinical-trials-and-clinical-care-incorporating-real-world-evidence). You are a data scientist for an exciting unicorn healthcare startup that has created a groundbreaking diabetes drug that is ready for clinical trial testing. It is a very unique and sensitive drug that requires administering the drug over at least 5-7 days of time in the hospital with frequent monitoring/testing and patient medication adherence training with a mobile application. You have been provided a patient dataset from a client partner and are tasked with building a predictive model that can identify which type of patients the company should focus their efforts testing this drug on. Target patients are people that are likely to be in the hospital for this duration of time and will not incur significant additional costs for administering this drug to the patient and monitoring.  \n",
    "\n",
    "In order to achieve your goal you must build a regression model that can predict the estimated hospitalization time for a patient and use this to select/filter patients for your study.\n"
   ]
  },
  {
   "cell_type": "markdown",
   "metadata": {},
   "source": [
    "**Expected Hospitalization Time Regression Model:** Utilizing a synthetic dataset(denormalized at the line level augmentation) built off of the UCI Diabetes readmission dataset, students will build a regression model that predicts the expected days of hospitalization time and then convert this to a binary prediction of whether to include or exclude that patient from the clinical trial.\n",
    "\n",
    "This project will demonstrate the importance of building the right data representation at the encounter level, with appropriate filtering and preprocessing/feature engineering of key medical code sets. This project will also require students to analyze and interpret their model for biases across key demographic groups. \n",
    "\n",
    "Please see the project rubric online for more details on the areas your project will be evaluated."
   ]
  },
  {
   "cell_type": "markdown",
   "metadata": {},
   "source": [
    "### Dataset"
   ]
  },
  {
   "cell_type": "markdown",
   "metadata": {},
   "source": [
    "Due to healthcare PHI regulations (HIPAA, HITECH), there are limited number of publicly available datasets and some datasets require training and approval. So, for the purpose of this exercise, we are using a dataset from UC Irvine(https://archive.ics.uci.edu/ml/datasets/Diabetes+130-US+hospitals+for+years+1999-2008) that has been modified for this course. Please note that it is limited in its representation of some key features such as diagnosis codes which are usually an unordered list in 835s/837s (the HL7 standard interchange formats used for claims and remits)."
   ]
  },
  {
   "cell_type": "markdown",
   "metadata": {},
   "source": [
    "**Data Schema**\n",
    "The dataset reference information can be https://github.com/udacity/nd320-c1-emr-data-starter/blob/master/project/data_schema_references/\n",
    ". There are two CSVs that provide more details on the fields and some of the mapped values."
   ]
  },
  {
   "cell_type": "markdown",
   "metadata": {},
   "source": [
    "## Project Submission "
   ]
  },
  {
   "cell_type": "markdown",
   "metadata": {},
   "source": [
    "When submitting this project, make sure to run all the cells before saving the notebook. Save the notebook file as \"student_project_submission.ipynb\" and save another copy as an HTML file by clicking \"File\" -> \"Download as..\"->\"html\". Include the \"utils.py\" and \"student_utils.py\" files in your submission. The student_utils.py should be where you put most of your code that you write and the summary and text explanations should be written inline in the notebook. Once you download these files, compress them into one zip file for submission."
   ]
  },
  {
   "cell_type": "markdown",
   "metadata": {},
   "source": [
    "## Prerequisites "
   ]
  },
  {
   "cell_type": "markdown",
   "metadata": {},
   "source": [
    "- Intermediate level knowledge of Python\n",
    "- Basic knowledge of probability and statistics\n",
    "- Basic knowledge of machine learning concepts\n",
    "- Installation of Tensorflow 2.0 and other dependencies(conda environment.yml or virtualenv requirements.txt file provided)"
   ]
  },
  {
   "cell_type": "markdown",
   "metadata": {},
   "source": [
    "## Environment Setup"
   ]
  },
  {
   "cell_type": "markdown",
   "metadata": {},
   "source": [
    "For step by step instructions on creating your environment, please go to https://github.com/udacity/nd320-c1-emr-data-starter/blob/master/project/README.md."
   ]
  },
  {
   "cell_type": "markdown",
   "metadata": {},
   "source": [
    "# 2.  Learning Objectives"
   ]
  },
  {
   "cell_type": "markdown",
   "metadata": {},
   "source": [
    "By the end of the project, you will be able to \n",
    "   - Use the Tensorflow Dataset API to scalably extract, transform, and load datasets and build datasets aggregated at the line, encounter, and patient data levels(longitudinal)\n",
    "   - Analyze EHR datasets to check for common issues (data leakage, statistical properties, missing values, high cardinality) by performing exploratory data analysis.\n",
    "   - Create categorical features from Key Industry Code Sets (ICD, CPT, NDC) and reduce dimensionality for high cardinality features by using embeddings \n",
    "   - Create derived features(bucketing, cross-features, embeddings) utilizing Tensorflow feature columns on both continuous and categorical input features\n",
    "   - SWBAT use the Tensorflow Probability library to train a model that provides uncertainty range predictions that allow for risk adjustment/prioritization and triaging of predictions\n",
    "   - Analyze and determine biases for a model for key demographic groups by evaluating performance metrics across groups by using the Aequitas framework \n"
   ]
  },
  {
   "cell_type": "markdown",
   "metadata": {},
   "source": [
    "# 3. Data Preparation"
   ]
  },
  {
   "cell_type": "code",
   "execution_count": 1,
   "metadata": {},
   "outputs": [],
   "source": [
    "# from __future__ import absolute_import, division, print_function, unicode_literals\n",
    "import os\n",
    "import numpy as np\n",
    "import time\n",
    "\n",
    "import tensorflow as tf\n",
    "from tensorflow.keras import layers\n",
    "import tensorflow_probability as tfp\n",
    "\n",
    "import matplotlib.pyplot as plt\n",
    "import pandas as pd\n",
    "import aequitas as ae\n",
    "\n",
    "# this allows you to make changes and save in student_utils.py and the file is reloaded every time you run a code block\n",
    "%load_ext autoreload\n",
    "%autoreload\n",
    "\n",
    "# Put all of the helper functions in utils\n",
    "from utils import build_vocab_files, show_group_stats_viz, aggregate_dataset, preprocess_df, df_to_dataset, posterior_mean_field, prior_trainable\n",
    "\n",
    "# added by L.S\n",
    "import seaborn as sns\n",
    "sns.set()\n",
    "\n",
    "# from student_utils\n",
    "from student_utils import count_unique_values, show_dist, plot_hist_numerical, count_missing_values, count_zeros\n",
    "from student_utils import reduce_dimension_ndc\n",
    "from student_utils import patient_dataset_splitter\n",
    "from student_utils import select_first_encounter\n",
    "from student_utils import create_tf_categorical_feature_cols\n",
    "\n",
    "pd.set_option('display.max_columns', 500)\n",
    "\n",
    "# to not display deprecation warnings and futurewarnings\n",
    "import warnings\n",
    "warnings.filterwarnings(\"ignore\", category=DeprecationWarning)\n",
    "warnings.simplefilter(action='ignore', category=FutureWarning)"
   ]
  },
  {
   "cell_type": "code",
   "execution_count": 2,
   "metadata": {},
   "outputs": [],
   "source": [
    "#OPEN ISSUE ON MAC OSX for TF model training\n",
    "import os\n",
    "os.environ['KMP_DUPLICATE_LIB_OK']='True'"
   ]
  },
  {
   "cell_type": "markdown",
   "metadata": {},
   "source": [
    "## Dataset Loading and Schema Review"
   ]
  },
  {
   "cell_type": "markdown",
   "metadata": {},
   "source": [
    "Load the dataset and view a sample of the dataset along with reviewing the schema reference files to gain a deeper understanding of the dataset. The dataset is located at the following path https://github.com/udacity/nd320-c1-emr-data-starter/blob/master/project/starter_code/data/final_project_dataset.csv. Also, review the information found in the data schema https://github.com/udacity/nd320-c1-emr-data-starter/blob/master/project/data_schema_references/"
   ]
  },
  {
   "cell_type": "code",
   "execution_count": 3,
   "metadata": {},
   "outputs": [],
   "source": [
    "dataset_path = \"./data/final_project_dataset.csv\"\n",
    "df = pd.read_csv(dataset_path)"
   ]
  },
  {
   "cell_type": "code",
   "execution_count": 4,
   "metadata": {},
   "outputs": [
    {
     "data": {
      "text/html": [
       "<div>\n",
       "<style scoped>\n",
       "    .dataframe tbody tr th:only-of-type {\n",
       "        vertical-align: middle;\n",
       "    }\n",
       "\n",
       "    .dataframe tbody tr th {\n",
       "        vertical-align: top;\n",
       "    }\n",
       "\n",
       "    .dataframe thead th {\n",
       "        text-align: right;\n",
       "    }\n",
       "</style>\n",
       "<table border=\"1\" class=\"dataframe\">\n",
       "  <thead>\n",
       "    <tr style=\"text-align: right;\">\n",
       "      <th></th>\n",
       "      <th>encounter_id</th>\n",
       "      <th>patient_nbr</th>\n",
       "      <th>race</th>\n",
       "      <th>gender</th>\n",
       "      <th>age</th>\n",
       "      <th>weight</th>\n",
       "      <th>admission_type_id</th>\n",
       "      <th>discharge_disposition_id</th>\n",
       "      <th>admission_source_id</th>\n",
       "      <th>time_in_hospital</th>\n",
       "      <th>payer_code</th>\n",
       "      <th>medical_specialty</th>\n",
       "      <th>primary_diagnosis_code</th>\n",
       "      <th>other_diagnosis_codes</th>\n",
       "      <th>number_outpatient</th>\n",
       "      <th>number_inpatient</th>\n",
       "      <th>number_emergency</th>\n",
       "      <th>num_lab_procedures</th>\n",
       "      <th>number_diagnoses</th>\n",
       "      <th>num_medications</th>\n",
       "      <th>num_procedures</th>\n",
       "      <th>ndc_code</th>\n",
       "      <th>max_glu_serum</th>\n",
       "      <th>A1Cresult</th>\n",
       "      <th>change</th>\n",
       "      <th>readmitted</th>\n",
       "    </tr>\n",
       "  </thead>\n",
       "  <tbody>\n",
       "    <tr>\n",
       "      <th>0</th>\n",
       "      <td>2278392</td>\n",
       "      <td>8222157</td>\n",
       "      <td>Caucasian</td>\n",
       "      <td>Female</td>\n",
       "      <td>[0-10)</td>\n",
       "      <td>?</td>\n",
       "      <td>6</td>\n",
       "      <td>25</td>\n",
       "      <td>1</td>\n",
       "      <td>1</td>\n",
       "      <td>?</td>\n",
       "      <td>Pediatrics-Endocrinology</td>\n",
       "      <td>250.83</td>\n",
       "      <td>?|?</td>\n",
       "      <td>0</td>\n",
       "      <td>0</td>\n",
       "      <td>0</td>\n",
       "      <td>41</td>\n",
       "      <td>1</td>\n",
       "      <td>1</td>\n",
       "      <td>0</td>\n",
       "      <td>NaN</td>\n",
       "      <td>None</td>\n",
       "      <td>None</td>\n",
       "      <td>No</td>\n",
       "      <td>NO</td>\n",
       "    </tr>\n",
       "    <tr>\n",
       "      <th>1</th>\n",
       "      <td>149190</td>\n",
       "      <td>55629189</td>\n",
       "      <td>Caucasian</td>\n",
       "      <td>Female</td>\n",
       "      <td>[10-20)</td>\n",
       "      <td>?</td>\n",
       "      <td>1</td>\n",
       "      <td>1</td>\n",
       "      <td>7</td>\n",
       "      <td>3</td>\n",
       "      <td>?</td>\n",
       "      <td>?</td>\n",
       "      <td>276</td>\n",
       "      <td>250.01|255</td>\n",
       "      <td>0</td>\n",
       "      <td>0</td>\n",
       "      <td>0</td>\n",
       "      <td>59</td>\n",
       "      <td>9</td>\n",
       "      <td>18</td>\n",
       "      <td>0</td>\n",
       "      <td>68071-1701</td>\n",
       "      <td>None</td>\n",
       "      <td>None</td>\n",
       "      <td>Ch</td>\n",
       "      <td>&gt;30</td>\n",
       "    </tr>\n",
       "    <tr>\n",
       "      <th>2</th>\n",
       "      <td>64410</td>\n",
       "      <td>86047875</td>\n",
       "      <td>AfricanAmerican</td>\n",
       "      <td>Female</td>\n",
       "      <td>[20-30)</td>\n",
       "      <td>?</td>\n",
       "      <td>1</td>\n",
       "      <td>1</td>\n",
       "      <td>7</td>\n",
       "      <td>2</td>\n",
       "      <td>?</td>\n",
       "      <td>?</td>\n",
       "      <td>648</td>\n",
       "      <td>250|V27</td>\n",
       "      <td>2</td>\n",
       "      <td>1</td>\n",
       "      <td>0</td>\n",
       "      <td>11</td>\n",
       "      <td>6</td>\n",
       "      <td>13</td>\n",
       "      <td>5</td>\n",
       "      <td>0378-1110</td>\n",
       "      <td>None</td>\n",
       "      <td>None</td>\n",
       "      <td>No</td>\n",
       "      <td>NO</td>\n",
       "    </tr>\n",
       "    <tr>\n",
       "      <th>3</th>\n",
       "      <td>500364</td>\n",
       "      <td>82442376</td>\n",
       "      <td>Caucasian</td>\n",
       "      <td>Male</td>\n",
       "      <td>[30-40)</td>\n",
       "      <td>?</td>\n",
       "      <td>1</td>\n",
       "      <td>1</td>\n",
       "      <td>7</td>\n",
       "      <td>2</td>\n",
       "      <td>?</td>\n",
       "      <td>?</td>\n",
       "      <td>8</td>\n",
       "      <td>250.43|403</td>\n",
       "      <td>0</td>\n",
       "      <td>0</td>\n",
       "      <td>0</td>\n",
       "      <td>44</td>\n",
       "      <td>7</td>\n",
       "      <td>16</td>\n",
       "      <td>1</td>\n",
       "      <td>68071-1701</td>\n",
       "      <td>None</td>\n",
       "      <td>None</td>\n",
       "      <td>Ch</td>\n",
       "      <td>NO</td>\n",
       "    </tr>\n",
       "    <tr>\n",
       "      <th>4</th>\n",
       "      <td>16680</td>\n",
       "      <td>42519267</td>\n",
       "      <td>Caucasian</td>\n",
       "      <td>Male</td>\n",
       "      <td>[40-50)</td>\n",
       "      <td>?</td>\n",
       "      <td>1</td>\n",
       "      <td>1</td>\n",
       "      <td>7</td>\n",
       "      <td>1</td>\n",
       "      <td>?</td>\n",
       "      <td>?</td>\n",
       "      <td>197</td>\n",
       "      <td>157|250</td>\n",
       "      <td>0</td>\n",
       "      <td>0</td>\n",
       "      <td>0</td>\n",
       "      <td>51</td>\n",
       "      <td>5</td>\n",
       "      <td>8</td>\n",
       "      <td>0</td>\n",
       "      <td>0049-4110</td>\n",
       "      <td>None</td>\n",
       "      <td>None</td>\n",
       "      <td>Ch</td>\n",
       "      <td>NO</td>\n",
       "    </tr>\n",
       "  </tbody>\n",
       "</table>\n",
       "</div>"
      ],
      "text/plain": [
       "   encounter_id  patient_nbr             race  gender      age weight  \\\n",
       "0       2278392      8222157        Caucasian  Female   [0-10)      ?   \n",
       "1        149190     55629189        Caucasian  Female  [10-20)      ?   \n",
       "2         64410     86047875  AfricanAmerican  Female  [20-30)      ?   \n",
       "3        500364     82442376        Caucasian    Male  [30-40)      ?   \n",
       "4         16680     42519267        Caucasian    Male  [40-50)      ?   \n",
       "\n",
       "   admission_type_id  discharge_disposition_id  admission_source_id  \\\n",
       "0                  6                        25                    1   \n",
       "1                  1                         1                    7   \n",
       "2                  1                         1                    7   \n",
       "3                  1                         1                    7   \n",
       "4                  1                         1                    7   \n",
       "\n",
       "   time_in_hospital payer_code         medical_specialty  \\\n",
       "0                 1          ?  Pediatrics-Endocrinology   \n",
       "1                 3          ?                         ?   \n",
       "2                 2          ?                         ?   \n",
       "3                 2          ?                         ?   \n",
       "4                 1          ?                         ?   \n",
       "\n",
       "  primary_diagnosis_code other_diagnosis_codes  number_outpatient  \\\n",
       "0                 250.83                   ?|?                  0   \n",
       "1                    276            250.01|255                  0   \n",
       "2                    648               250|V27                  2   \n",
       "3                      8            250.43|403                  0   \n",
       "4                    197               157|250                  0   \n",
       "\n",
       "   number_inpatient  number_emergency  num_lab_procedures  number_diagnoses  \\\n",
       "0                 0                 0                  41                 1   \n",
       "1                 0                 0                  59                 9   \n",
       "2                 1                 0                  11                 6   \n",
       "3                 0                 0                  44                 7   \n",
       "4                 0                 0                  51                 5   \n",
       "\n",
       "   num_medications  num_procedures    ndc_code max_glu_serum A1Cresult change  \\\n",
       "0                1               0         NaN          None      None     No   \n",
       "1               18               0  68071-1701          None      None     Ch   \n",
       "2               13               5   0378-1110          None      None     No   \n",
       "3               16               1  68071-1701          None      None     Ch   \n",
       "4                8               0   0049-4110          None      None     Ch   \n",
       "\n",
       "  readmitted  \n",
       "0         NO  \n",
       "1        >30  \n",
       "2         NO  \n",
       "3         NO  \n",
       "4         NO  "
      ]
     },
     "execution_count": 4,
     "metadata": {},
     "output_type": "execute_result"
    }
   ],
   "source": [
    "df.head()"
   ]
  },
  {
   "cell_type": "code",
   "execution_count": 5,
   "metadata": {},
   "outputs": [],
   "source": [
    "# substitude Nan in ndc_code with ? for uniformity\n",
    "condition = df['ndc_code'].isna()\n",
    "\n",
    "df.loc[condition, 'ndc_code'] = '?'"
   ]
  },
  {
   "cell_type": "markdown",
   "metadata": {},
   "source": [
    "## Determine Level of Dataset (Line or Encounter)"
   ]
  },
  {
   "cell_type": "markdown",
   "metadata": {},
   "source": [
    "**Question 1**: Based off of analysis of the data, what level is this dataset? Is it at the line or encounter level? Are there any key fields besides the encounter_id and patient_nbr fields that we should use to aggregate on? Knowing this information will help inform us what level of aggregation is necessary for future steps and is a step that is often overlooked. "
   ]
  },
  {
   "cell_type": "code",
   "execution_count": 6,
   "metadata": {},
   "outputs": [
    {
     "name": "stdout",
     "output_type": "stream",
     "text": [
      "Number of records: 143424\n",
      "Number of distinct encounter: 101766\n"
     ]
    }
   ],
   "source": [
    "print('Number of records:', df.shape[0])\n",
    "\n",
    "print('Number of distinct encounter:', df['encounter_id'].nunique())"
   ]
  },
  {
   "cell_type": "markdown",
   "metadata": {},
   "source": [
    "**Response 1**: the dataset is at line level. There are 143424 rows and only 101766 distinct encounter_id, therefore for some encounter_id we have more than 1 rows."
   ]
  },
  {
   "cell_type": "markdown",
   "metadata": {},
   "source": [
    "## Analyze Dataset"
   ]
  },
  {
   "cell_type": "markdown",
   "metadata": {},
   "source": [
    "**Question 2**: Utilizing the library of your choice (recommend Pandas and Seaborn or matplotlib though), perform exploratory data analysis on the dataset. In particular be sure to address the following questions:  \n",
    "    - a. Field(s) with high amount of missing/zero values\n",
    "    - b. Based off the frequency histogram for each numerical field, which numerical field(s) has/have a Gaussian(normal) distribution shape?\n",
    "    - c. Which field(s) have high cardinality and why (HINT: ndc_code is one feature)\n",
    "    - d. Please describe the demographic distributions in the dataset for the age and gender fields.\n",
    "    \n"
   ]
  },
  {
   "cell_type": "markdown",
   "metadata": {},
   "source": [
    "**OPTIONAL**: Use the Tensorflow Data Validation and Analysis library to complete. \n",
    "- The Tensorflow Data Validation and Analysis library(https://www.tensorflow.org/tfx/data_validation/get_started) is a useful tool for analyzing and summarizing dataset statistics. It is especially useful because it can scale to large datasets that do not fit into memory. \n",
    "- Note that there are some bugs that are still being resolved with Chrome v80 and we have moved away from using this for the project. "
   ]
  },
  {
   "cell_type": "markdown",
   "metadata": {},
   "source": [
    "### compute num of missing values"
   ]
  },
  {
   "cell_type": "code",
   "execution_count": 7,
   "metadata": {},
   "outputs": [
    {
     "data": {
      "text/html": [
       "<div>\n",
       "<style scoped>\n",
       "    .dataframe tbody tr th:only-of-type {\n",
       "        vertical-align: middle;\n",
       "    }\n",
       "\n",
       "    .dataframe tbody tr th {\n",
       "        vertical-align: top;\n",
       "    }\n",
       "\n",
       "    .dataframe thead th {\n",
       "        text-align: right;\n",
       "    }\n",
       "</style>\n",
       "<table border=\"1\" class=\"dataframe\">\n",
       "  <thead>\n",
       "    <tr style=\"text-align: right;\">\n",
       "      <th></th>\n",
       "      <th>columns</th>\n",
       "      <th># of nulls</th>\n",
       "      <th>perc</th>\n",
       "    </tr>\n",
       "  </thead>\n",
       "  <tbody>\n",
       "    <tr>\n",
       "      <th>0</th>\n",
       "      <td>race</td>\n",
       "      <td>3309</td>\n",
       "      <td>2.3</td>\n",
       "    </tr>\n",
       "    <tr>\n",
       "      <th>1</th>\n",
       "      <td>weight</td>\n",
       "      <td>139122</td>\n",
       "      <td>97.0</td>\n",
       "    </tr>\n",
       "    <tr>\n",
       "      <th>2</th>\n",
       "      <td>payer_code</td>\n",
       "      <td>54190</td>\n",
       "      <td>37.8</td>\n",
       "    </tr>\n",
       "    <tr>\n",
       "      <th>3</th>\n",
       "      <td>medical_specialty</td>\n",
       "      <td>69463</td>\n",
       "      <td>48.4</td>\n",
       "    </tr>\n",
       "    <tr>\n",
       "      <th>4</th>\n",
       "      <td>ndc_code</td>\n",
       "      <td>23462</td>\n",
       "      <td>16.4</td>\n",
       "    </tr>\n",
       "    <tr>\n",
       "      <th>5</th>\n",
       "      <td>other_diagnosis_codes</td>\n",
       "      <td>340</td>\n",
       "      <td>0.2</td>\n",
       "    </tr>\n",
       "    <tr>\n",
       "      <th>6</th>\n",
       "      <td>max_glu_serum</td>\n",
       "      <td>136409</td>\n",
       "      <td>95.1</td>\n",
       "    </tr>\n",
       "    <tr>\n",
       "      <th>7</th>\n",
       "      <td>A1Cresult</td>\n",
       "      <td>117650</td>\n",
       "      <td>82.0</td>\n",
       "    </tr>\n",
       "  </tbody>\n",
       "</table>\n",
       "</div>"
      ],
      "text/plain": [
       "                 columns  # of nulls  perc\n",
       "0                   race        3309   2.3\n",
       "1                 weight      139122  97.0\n",
       "2             payer_code       54190  37.8\n",
       "3      medical_specialty       69463  48.4\n",
       "4               ndc_code       23462  16.4\n",
       "5  other_diagnosis_codes         340   0.2\n",
       "6          max_glu_serum      136409  95.1\n",
       "7              A1Cresult      117650  82.0"
      ]
     },
     "execution_count": 7,
     "metadata": {},
     "output_type": "execute_result"
    }
   ],
   "source": [
    "# field with high number of missing value\n",
    "\n",
    "# we have missing values in: race, weight, payer_code, medical_specialty, other_diagnosis_code, ndc_code, max_glu_serum, A1CResult\n",
    "\n",
    "# fields where missing values have been codified as ?\n",
    "vet_col = ['race', 'weight', 'payer_code', 'medical_specialty', 'ndc_code', \n",
    "       'other_diagnosis_codes','max_glu_serum','A1Cresult']\n",
    "# char used to code null\n",
    "vet_char_null = ['?','?','?','?','?', '?|?', 'None', 'None']\n",
    "\n",
    "# in student_utils\n",
    "df_null = count_missing_values(df, vet_char_null, vet_col)\n",
    "\n",
    "df_null.head(len(vet_col))"
   ]
  },
  {
   "cell_type": "markdown",
   "metadata": {},
   "source": [
    "### compute num. of zeros"
   ]
  },
  {
   "cell_type": "code",
   "execution_count": 8,
   "metadata": {},
   "outputs": [
    {
     "data": {
      "text/html": [
       "<div>\n",
       "<style scoped>\n",
       "    .dataframe tbody tr th:only-of-type {\n",
       "        vertical-align: middle;\n",
       "    }\n",
       "\n",
       "    .dataframe tbody tr th {\n",
       "        vertical-align: top;\n",
       "    }\n",
       "\n",
       "    .dataframe thead th {\n",
       "        text-align: right;\n",
       "    }\n",
       "</style>\n",
       "<table border=\"1\" class=\"dataframe\">\n",
       "  <thead>\n",
       "    <tr style=\"text-align: right;\">\n",
       "      <th></th>\n",
       "      <th>columns</th>\n",
       "      <th># of zeros</th>\n",
       "      <th>perc</th>\n",
       "    </tr>\n",
       "  </thead>\n",
       "  <tbody>\n",
       "    <tr>\n",
       "      <th>0</th>\n",
       "      <td>number_inpatient</td>\n",
       "      <td>96698</td>\n",
       "      <td>67.4</td>\n",
       "    </tr>\n",
       "    <tr>\n",
       "      <th>1</th>\n",
       "      <td>number_outpatient</td>\n",
       "      <td>120027</td>\n",
       "      <td>83.7</td>\n",
       "    </tr>\n",
       "    <tr>\n",
       "      <th>2</th>\n",
       "      <td>number_emergency</td>\n",
       "      <td>127444</td>\n",
       "      <td>88.9</td>\n",
       "    </tr>\n",
       "    <tr>\n",
       "      <th>3</th>\n",
       "      <td>num_lab_procedures</td>\n",
       "      <td>0</td>\n",
       "      <td>0.0</td>\n",
       "    </tr>\n",
       "    <tr>\n",
       "      <th>4</th>\n",
       "      <td>num_procedures</td>\n",
       "      <td>65788</td>\n",
       "      <td>45.9</td>\n",
       "    </tr>\n",
       "    <tr>\n",
       "      <th>5</th>\n",
       "      <td>number_diagnoses</td>\n",
       "      <td>0</td>\n",
       "      <td>0.0</td>\n",
       "    </tr>\n",
       "    <tr>\n",
       "      <th>6</th>\n",
       "      <td>num_medications</td>\n",
       "      <td>0</td>\n",
       "      <td>0.0</td>\n",
       "    </tr>\n",
       "  </tbody>\n",
       "</table>\n",
       "</div>"
      ],
      "text/plain": [
       "              columns  # of zeros  perc\n",
       "0    number_inpatient       96698  67.4\n",
       "1   number_outpatient      120027  83.7\n",
       "2    number_emergency      127444  88.9\n",
       "3  num_lab_procedures           0   0.0\n",
       "4      num_procedures       65788  45.9\n",
       "5    number_diagnoses           0   0.0\n",
       "6     num_medications           0   0.0"
      ]
     },
     "execution_count": 8,
     "metadata": {},
     "output_type": "execute_result"
    }
   ],
   "source": [
    "# field with high number of zeros\n",
    "\n",
    "vet_col = ['number_inpatient', 'number_outpatient', 'number_emergency', 'num_lab_procedures', 'num_procedures', \n",
    "       'number_diagnoses', 'num_medications']\n",
    "\n",
    "# in student_utils\n",
    "df_zeros = count_zeros(df, vet_col)\n",
    "\n",
    "df_zeros.head(len(vet_col))"
   ]
  },
  {
   "cell_type": "markdown",
   "metadata": {},
   "source": [
    "### Comment: we have 3 columns where the percentage of missing values is > 50%.\n",
    "\n",
    "We will drop these columns (weight, max_glu_serum, A1Cresult) , not considering them for the regression model\n",
    "\n",
    "### Comment: we have some numerical features with a high percentage of zeros (number_inpatients, outpatients, emergency, num_procedure) but probably this is not sign of missing values coded as zero.\n",
    "\n",
    "### compute cardinality of categorical columns"
   ]
  },
  {
   "cell_type": "code",
   "execution_count": 9,
   "metadata": {},
   "outputs": [
    {
     "data": {
      "text/html": [
       "<div>\n",
       "<style scoped>\n",
       "    .dataframe tbody tr th:only-of-type {\n",
       "        vertical-align: middle;\n",
       "    }\n",
       "\n",
       "    .dataframe tbody tr th {\n",
       "        vertical-align: top;\n",
       "    }\n",
       "\n",
       "    .dataframe thead th {\n",
       "        text-align: right;\n",
       "    }\n",
       "</style>\n",
       "<table border=\"1\" class=\"dataframe\">\n",
       "  <thead>\n",
       "    <tr style=\"text-align: right;\">\n",
       "      <th></th>\n",
       "      <th>column</th>\n",
       "      <th>cardinality</th>\n",
       "    </tr>\n",
       "  </thead>\n",
       "  <tbody>\n",
       "    <tr>\n",
       "      <th>race</th>\n",
       "      <td>race</td>\n",
       "      <td>6</td>\n",
       "    </tr>\n",
       "    <tr>\n",
       "      <th>gender</th>\n",
       "      <td>gender</td>\n",
       "      <td>3</td>\n",
       "    </tr>\n",
       "    <tr>\n",
       "      <th>age</th>\n",
       "      <td>age</td>\n",
       "      <td>10</td>\n",
       "    </tr>\n",
       "    <tr>\n",
       "      <th>weight</th>\n",
       "      <td>weight</td>\n",
       "      <td>10</td>\n",
       "    </tr>\n",
       "    <tr>\n",
       "      <th>admission_type_id</th>\n",
       "      <td>admission_type_id</td>\n",
       "      <td>8</td>\n",
       "    </tr>\n",
       "    <tr>\n",
       "      <th>discharge_disposition_id</th>\n",
       "      <td>discharge_disposition_id</td>\n",
       "      <td>26</td>\n",
       "    </tr>\n",
       "    <tr>\n",
       "      <th>admission_source_id</th>\n",
       "      <td>admission_source_id</td>\n",
       "      <td>17</td>\n",
       "    </tr>\n",
       "    <tr>\n",
       "      <th>payer_code</th>\n",
       "      <td>payer_code</td>\n",
       "      <td>18</td>\n",
       "    </tr>\n",
       "    <tr>\n",
       "      <th>medical_specialty</th>\n",
       "      <td>medical_specialty</td>\n",
       "      <td>73</td>\n",
       "    </tr>\n",
       "    <tr>\n",
       "      <th>primary_diagnosis_code</th>\n",
       "      <td>primary_diagnosis_code</td>\n",
       "      <td>717</td>\n",
       "    </tr>\n",
       "    <tr>\n",
       "      <th>other_diagnosis_codes</th>\n",
       "      <td>other_diagnosis_codes</td>\n",
       "      <td>19374</td>\n",
       "    </tr>\n",
       "    <tr>\n",
       "      <th>ndc_code</th>\n",
       "      <td>ndc_code</td>\n",
       "      <td>252</td>\n",
       "    </tr>\n",
       "    <tr>\n",
       "      <th>max_glu_serum</th>\n",
       "      <td>max_glu_serum</td>\n",
       "      <td>4</td>\n",
       "    </tr>\n",
       "    <tr>\n",
       "      <th>A1Cresult</th>\n",
       "      <td>A1Cresult</td>\n",
       "      <td>4</td>\n",
       "    </tr>\n",
       "    <tr>\n",
       "      <th>change</th>\n",
       "      <td>change</td>\n",
       "      <td>2</td>\n",
       "    </tr>\n",
       "    <tr>\n",
       "      <th>readmitted</th>\n",
       "      <td>readmitted</td>\n",
       "      <td>3</td>\n",
       "    </tr>\n",
       "  </tbody>\n",
       "</table>\n",
       "</div>"
      ],
      "text/plain": [
       "                                            column  cardinality\n",
       "race                                          race            6\n",
       "gender                                      gender            3\n",
       "age                                            age           10\n",
       "weight                                      weight           10\n",
       "admission_type_id                admission_type_id            8\n",
       "discharge_disposition_id  discharge_disposition_id           26\n",
       "admission_source_id            admission_source_id           17\n",
       "payer_code                              payer_code           18\n",
       "medical_specialty                medical_specialty           73\n",
       "primary_diagnosis_code      primary_diagnosis_code          717\n",
       "other_diagnosis_codes        other_diagnosis_codes        19374\n",
       "ndc_code                                  ndc_code          252\n",
       "max_glu_serum                        max_glu_serum            4\n",
       "A1Cresult                                A1Cresult            4\n",
       "change                                      change            2\n",
       "readmitted                              readmitted            3"
      ]
     },
     "execution_count": 9,
     "metadata": {},
     "output_type": "execute_result"
    }
   ],
   "source": [
    "cat_feature_list = ['race', 'gender', 'age', 'weight', 'admission_type_id', 'discharge_disposition_id', 'admission_source_id',\n",
    "                    'payer_code', 'medical_specialty', \n",
    "                    'primary_diagnosis_code', 'other_diagnosis_codes', \n",
    "                            'ndc_code', 'max_glu_serum', 'A1Cresult','change', 'readmitted']\n",
    "\n",
    "# in student_utils\n",
    "count_unique_values(df, cat_feature_list)"
   ]
  },
  {
   "cell_type": "markdown",
   "metadata": {},
   "source": [
    "### Comment: we have several field with high and very high cardinality: medical_specialty, primary_diagnosis_code, other_diagnosis_code, ndc_code"
   ]
  },
  {
   "cell_type": "markdown",
   "metadata": {},
   "source": [
    "### analyze distribution of numerical columns (features + time_in_hospital)"
   ]
  },
  {
   "cell_type": "code",
   "execution_count": 10,
   "metadata": {},
   "outputs": [
    {
     "data": {
      "image/png": "[encoded data removed]",
      "text/plain": [
       "<Figure size 1152x720 with 11 Axes>"
      ]
     },
     "metadata": {},
     "output_type": "display_data"
    }
   ],
   "source": [
    "# compute histograms for each numerical field\n",
    "\n",
    "numerical_feature_list = ['admission_type_id', 'discharge_disposition_id', 'admission_source_id', \n",
    "                          'number_outpatient', 'number_inpatient', 'number_emergency', \n",
    "                          'num_lab_procedures',\n",
    "                         'number_diagnoses', 'num_medications', 'num_procedures', 'time_in_hospital']\n",
    "\n",
    "# number of bins for corresponding hist.\n",
    "vet_bins = [8, 26, 16, 30, 20, 20, 100, 16, 70, 5, 12]\n",
    "\n",
    "\n",
    "\n",
    "plot_hist_numerical(df, numerical_feature_list, vet_bins)"
   ]
  },
  {
   "cell_type": "markdown",
   "metadata": {},
   "source": [
    "### Comment: TODO add comment on which is gaussian"
   ]
  },
  {
   "cell_type": "markdown",
   "metadata": {},
   "source": [
    "## Reduce Dimensionality of the NDC Code Feature"
   ]
  },
  {
   "cell_type": "markdown",
   "metadata": {},
   "source": [
    "**Question 3**: NDC codes are a common format to represent the wide variety of drugs that are prescribed for patient care in the United States. The challenge is that there are many codes that map to the same or similar drug. You are provided with the ndc drug lookup file https://github.com/udacity/nd320-c1-emr-data-starter/blob/master/project/data_schema_references/ndc_lookup_table.csv derived from the National Drug Codes List site(https://ndclist.com/). Please use this file to come up with a way to reduce the dimensionality of this field and create a new field in the dataset called \"generic_drug_name\" in the output dataframe. "
   ]
  },
  {
   "cell_type": "code",
   "execution_count": 11,
   "metadata": {},
   "outputs": [],
   "source": [
    "#NDC code lookup file\n",
    "ndc_code_path = \"./medication_lookup_tables/final_ndc_lookup_table\"\n",
    "ndc_code_df = pd.read_csv(ndc_code_path)"
   ]
  },
  {
   "cell_type": "code",
   "execution_count": 12,
   "metadata": {},
   "outputs": [],
   "source": [
    "reduce_dim_df = reduce_dimension_ndc(df, ndc_code_df)"
   ]
  },
  {
   "cell_type": "code",
   "execution_count": 13,
   "metadata": {},
   "outputs": [],
   "source": [
    "# Number of unique values should be less for the new output field\n",
    "assert df['ndc_code'].nunique() > reduce_dim_df['generic_drug_name'].nunique()"
   ]
  },
  {
   "cell_type": "markdown",
   "metadata": {},
   "source": [
    "## Select First Encounter for each Patient "
   ]
  },
  {
   "cell_type": "markdown",
   "metadata": {},
   "source": [
    "**Question 4**: In order to simplify the aggregation of data for the model, we will only select the first encounter for each patient in the dataset. This is to reduce the risk of data leakage of future patient encounters and to reduce complexity of the data transformation and modeling steps. We will assume that sorting in numerical order on the encounter_id provides the time horizon for determining which encounters come before and after another."
   ]
  },
  {
   "cell_type": "code",
   "execution_count": 14,
   "metadata": {},
   "outputs": [],
   "source": [
    "# first encounter for a patient is the encounter with lowest encounter_id\n",
    "first_encounter_df = select_first_encounter(reduce_dim_df)"
   ]
  },
  {
   "cell_type": "code",
   "execution_count": 15,
   "metadata": {},
   "outputs": [
    {
     "name": "stdout",
     "output_type": "stream",
     "text": [
      "Number of unique patients:71518\n",
      "Number of unique encounters:71518\n",
      "\n",
      "Tests passed!!\n"
     ]
    }
   ],
   "source": [
    "# unique patients in transformed dataset\n",
    "unique_patients = first_encounter_df['patient_nbr'].nunique()\n",
    "print(\"Number of unique patients:{}\".format(unique_patients))\n",
    "\n",
    "# unique encounters in transformed dataset\n",
    "unique_encounters = first_encounter_df['encounter_id'].nunique()\n",
    "print(\"Number of unique encounters:{}\".format(unique_encounters))\n",
    "\n",
    "original_unique_patient_number = reduce_dim_df['patient_nbr'].nunique()\n",
    "# number of unique patients should be equal to the number of unique encounters and patients in the final dataset\n",
    "assert original_unique_patient_number == unique_patients\n",
    "assert original_unique_patient_number == unique_encounters\n",
    "print('')\n",
    "print(\"Tests passed!!\")"
   ]
  },
  {
   "cell_type": "markdown",
   "metadata": {},
   "source": [
    "## Aggregate Dataset to Right Level for Modeling "
   ]
  },
  {
   "cell_type": "markdown",
   "metadata": {},
   "source": [
    "In order to provide a broad scope of the steps and to prevent students from getting stuck with data transformations, we have selected the aggregation columns and provided a function to build the dataset at the appropriate level. The 'aggregate_dataset\" function that you can find in the 'utils.py' file can take the preceding dataframe with the 'generic_drug_name' field and transform the data appropriately for the project. \n",
    "\n",
    "To make it simpler for students, we are creating dummy columns for each unique generic drug name and adding those are input features to the model. There are other options for data representation but this is out of scope for the time constraints of the course."
   ]
  },
  {
   "cell_type": "code",
   "execution_count": 16,
   "metadata": {},
   "outputs": [],
   "source": [
    "exclusion_list = ['generic_drug_name']\n",
    "grouping_field_list = [c for c in first_encounter_df.columns if c not in exclusion_list]\n",
    "agg_drug_df, ndc_col_list = aggregate_dataset(first_encounter_df, grouping_field_list, 'generic_drug_name')"
   ]
  },
  {
   "cell_type": "code",
   "execution_count": 17,
   "metadata": {},
   "outputs": [],
   "source": [
    "assert len(agg_drug_df) == agg_drug_df['patient_nbr'].nunique() == agg_drug_df['encounter_id'].nunique()"
   ]
  },
  {
   "cell_type": "markdown",
   "metadata": {},
   "source": [
    "## Prepare Fields and Cast Dataset "
   ]
  },
  {
   "cell_type": "markdown",
   "metadata": {},
   "source": [
    "### Feature Selection"
   ]
  },
  {
   "cell_type": "markdown",
   "metadata": {},
   "source": [
    "**Question 5**: After you have aggregated the dataset to the right level, we can do feature selection (we will include the ndc_col_list, dummy column features too). In the block below, please select the categorical and numerical features that you will use for the model, so that we can create a dataset subset. \n",
    "\n",
    "For the payer_code and weight fields, please provide whether you think we should include/exclude the field in our model and give a justification/rationale for this based off of the statistics of the data. Feel free to use visualizations or summary statistics to support your choice."
   ]
  },
  {
   "cell_type": "markdown",
   "metadata": {},
   "source": [
    "Student response: **weight** is missing in more than 97%. It is unpleasant because it could be a feature correlated to the length of hospitalization (higher the weight more severe the diabetes). **payer_code** is missing in 38%. I don't think it has much to do with the severity of the case and required hospitalization time. We can choose to remove it."
   ]
  },
  {
   "cell_type": "code",
   "execution_count": 18,
   "metadata": {},
   "outputs": [],
   "source": [
    "'''\n",
    "Please update the list to include the features you think are appropriate for the model \n",
    "and the field that we will be using to train the model. There are three required demographic features for the model \n",
    "and I have inserted a list with them already in the categorical list. \n",
    "These will be required for later steps when analyzing data splits and model biases.\n",
    "'''\n",
    "required_demo_col_list = ['race', 'gender', 'age']\n",
    "\n",
    "# for now I remove primary_diagnosis_code and other_diagnosis_cod for their high cardinalidy\n",
    "# that would require an approach diferent from one-hot encoding\n",
    "# student_categorical_col_list = [ 'primary_diagnosis_code', 'other_diagnosis_codes', 'change', \n",
    "student_categorical_col_list = [ 'change', \n",
    "                                'readmitted' ] + required_demo_col_list + ndc_col_list\n",
    "student_numerical_col_list = [ 'number_outpatient', 'number_inpatient', 'number_emergency',\n",
    "                             'num_lab_procedures', 'number_diagnoses', 'num_medications',\n",
    "                             'num_procedures']\n",
    "\n",
    "PREDICTOR_FIELD = 'time_in_hospital'"
   ]
  },
  {
   "cell_type": "code",
   "execution_count": 19,
   "metadata": {},
   "outputs": [],
   "source": [
    "def select_model_features(df, categorical_col_list, numerical_col_list, PREDICTOR_FIELD, grouping_key='patient_nbr'):\n",
    "    selected_col_list = [grouping_key] + [PREDICTOR_FIELD] + categorical_col_list + numerical_col_list   \n",
    "    return agg_drug_df[selected_col_list]"
   ]
  },
  {
   "cell_type": "code",
   "execution_count": 20,
   "metadata": {},
   "outputs": [],
   "source": [
    "selected_features_df = select_model_features(agg_drug_df, student_categorical_col_list, student_numerical_col_list,\n",
    "                                            PREDICTOR_FIELD)"
   ]
  },
  {
   "cell_type": "markdown",
   "metadata": {},
   "source": [
    "### Preprocess Dataset - Casting and Imputing  "
   ]
  },
  {
   "cell_type": "markdown",
   "metadata": {},
   "source": [
    "We will cast and impute the dataset before splitting so that we do not have to repeat these steps across the splits in the next step. For imputing, there can be deeper analysis into which features to impute and how to impute but for the sake of time, we are taking a general strategy of imputing zero for only numerical features. \n",
    "\n",
    "OPTIONAL: What are some potential issues with this approach? Can you recommend a better way and also implement it?"
   ]
  },
  {
   "cell_type": "code",
   "execution_count": 21,
   "metadata": {},
   "outputs": [],
   "source": [
    "%autoreload\n",
    "\n",
    "processed_df = preprocess_df(selected_features_df, student_categorical_col_list, \n",
    "        student_numerical_col_list, PREDICTOR_FIELD, categorical_impute_value='nan', numerical_impute_value=0)"
   ]
  },
  {
   "cell_type": "markdown",
   "metadata": {},
   "source": [
    "## Split Dataset into Train, Validation, and Test Partitions"
   ]
  },
  {
   "cell_type": "markdown",
   "metadata": {},
   "source": [
    "**Question 6**: In order to prepare the data for being trained and evaluated by a deep learning model, we will split the dataset into three partitions, with the validation partition used for optimizing the model hyperparameters during training. One of the key parts is that we need to be sure that the data does not accidently leak across partitions.\n",
    "\n",
    "Please complete the function below to split the input dataset into three partitions(train, validation, test) with the following requirements.\n",
    "- Approximately 60%/20%/20%  train/validation/test split\n",
    "- Randomly sample different patients into each data partition\n",
    "- **IMPORTANT** Make sure that a patient's data is not in more than one partition, so that we can avoid possible data leakage.\n",
    "- Make sure that the total number of unique patients across the splits is equal to the total number of unique patients in the original dataset\n",
    "- Total number of rows in original dataset = sum of rows across all three dataset partitions"
   ]
  },
  {
   "cell_type": "code",
   "execution_count": 22,
   "metadata": {},
   "outputs": [
    {
     "name": "stdout",
     "output_type": "stream",
     "text": [
      "Number of records in Train 42910 , fraction is: 60.0 %\n",
      "Number of records in Validation 14304 , fraction is: 20.0 %\n",
      "Number of records in Test 14304 , fraction is: 20.0 %\n"
     ]
    }
   ],
   "source": [
    "%autoreload\n",
    "\n",
    "d_train, d_val, d_test = patient_dataset_splitter(processed_df, 'patient_nbr')"
   ]
  },
  {
   "cell_type": "code",
   "execution_count": 23,
   "metadata": {},
   "outputs": [
    {
     "name": "stdout",
     "output_type": "stream",
     "text": [
      "Test passed for number of total rows equal!\n"
     ]
    }
   ],
   "source": [
    "assert len(d_train) + len(d_val) + len(d_test) == len(processed_df)\n",
    "print(\"Test passed for number of total rows equal!\")"
   ]
  },
  {
   "cell_type": "code",
   "execution_count": 24,
   "metadata": {},
   "outputs": [
    {
     "name": "stdout",
     "output_type": "stream",
     "text": [
      "Test passed for number of unique patients being equal!\n"
     ]
    }
   ],
   "source": [
    "assert (d_train['patient_nbr'].nunique() + d_val['patient_nbr'].nunique() + d_test['patient_nbr'].nunique()) == agg_drug_df['patient_nbr'].nunique()\n",
    "print(\"Test passed for number of unique patients being equal!\")"
   ]
  },
  {
   "cell_type": "code",
   "execution_count": 25,
   "metadata": {},
   "outputs": [],
   "source": [
    "# check that there is no intersection between train, test, validation on patient_nbr\n",
    "\n",
    "# train, validation: check there are no common patients\n",
    "assert len(set(d_train['patient_nbr']).intersection(set(d_val['patient_nbr']))) == 0\n",
    "\n",
    "# train, test\n",
    "assert len(set(d_train['patient_nbr']).intersection(set(d_test['patient_nbr']))) == 0\n",
    "\n",
    "# val, test\n",
    "assert len(set(d_val['patient_nbr']).intersection(set(d_test['patient_nbr']))) == 0"
   ]
  },
  {
   "cell_type": "markdown",
   "metadata": {},
   "source": [
    "## Demographic Representation Analysis of Split"
   ]
  },
  {
   "cell_type": "markdown",
   "metadata": {},
   "source": [
    "After the split, we should check to see the distribution of key features/groups and make sure that there is representative samples across the partitions. The show_group_stats_viz function in the utils.py file can be used to group and visualize different groups and dataframe partitions."
   ]
  },
  {
   "cell_type": "markdown",
   "metadata": {},
   "source": [
    "### Label Distribution Across Partitions"
   ]
  },
  {
   "cell_type": "markdown",
   "metadata": {},
   "source": [
    "Below you can see the distributution of the label across your splits. Are the histogram distribution shapes similar across partitions?"
   ]
  },
  {
   "cell_type": "markdown",
   "metadata": {},
   "source": [
    "#### global dataset"
   ]
  },
  {
   "cell_type": "code",
   "execution_count": 26,
   "metadata": {},
   "outputs": [
    {
     "name": "stdout",
     "output_type": "stream",
     "text": [
      "time_in_hospital\n",
      "1.0     10717\n",
      "2.0     12397\n",
      "3.0     12701\n",
      "4.0      9567\n",
      "5.0      6839\n",
      "6.0      5171\n",
      "7.0      3999\n",
      "8.0      2919\n",
      "9.0      1990\n",
      "10.0     1558\n",
      "11.0     1241\n",
      "12.0      955\n",
      "13.0      795\n",
      "14.0      669\n",
      "dtype: int64\n",
      "AxesSubplot(0.125,0.125;0.775x0.755)\n"
     ]
    },
    {
     "data": {
      "image/png": "[encoded data removed]",
      "text/plain": [
       "<Figure size 432x288 with 1 Axes>"
      ]
     },
     "metadata": {},
     "output_type": "display_data"
    }
   ],
   "source": [
    "show_group_stats_viz(processed_df, PREDICTOR_FIELD)"
   ]
  },
  {
   "cell_type": "markdown",
   "metadata": {},
   "source": [
    "#### train dataset"
   ]
  },
  {
   "cell_type": "code",
   "execution_count": 27,
   "metadata": {},
   "outputs": [
    {
     "name": "stdout",
     "output_type": "stream",
     "text": [
      "time_in_hospital\n",
      "1.0     6411\n",
      "2.0     7391\n",
      "3.0     7607\n",
      "4.0     5750\n",
      "5.0     4113\n",
      "6.0     3128\n",
      "7.0     2367\n",
      "8.0     1794\n",
      "9.0     1218\n",
      "10.0     952\n",
      "11.0     708\n",
      "12.0     581\n",
      "13.0     487\n",
      "14.0     403\n",
      "dtype: int64\n",
      "AxesSubplot(0.125,0.125;0.775x0.755)\n"
     ]
    },
    {
     "data": {
      "image/png": "[encoded data removed]",
      "text/plain": [
       "<Figure size 432x288 with 1 Axes>"
      ]
     },
     "metadata": {},
     "output_type": "display_data"
    }
   ],
   "source": [
    "show_group_stats_viz(d_train, PREDICTOR_FIELD)"
   ]
  },
  {
   "cell_type": "markdown",
   "metadata": {},
   "source": [
    "#### validation dataset"
   ]
  },
  {
   "cell_type": "code",
   "execution_count": 28,
   "metadata": {},
   "outputs": [
    {
     "name": "stdout",
     "output_type": "stream",
     "text": [
      "time_in_hospital\n",
      "1.0     2113\n",
      "2.0     2522\n",
      "3.0     2533\n",
      "4.0     1878\n",
      "5.0     1391\n",
      "6.0     1023\n",
      "7.0      825\n",
      "8.0      595\n",
      "9.0      400\n",
      "10.0     296\n",
      "11.0     268\n",
      "12.0     166\n",
      "13.0     161\n",
      "14.0     133\n",
      "dtype: int64\n",
      "AxesSubplot(0.125,0.125;0.775x0.755)\n"
     ]
    },
    {
     "data": {
      "image/png": "[encoded data removed]",
      "text/plain": [
       "<Figure size 432x288 with 1 Axes>"
      ]
     },
     "metadata": {},
     "output_type": "display_data"
    }
   ],
   "source": [
    "show_group_stats_viz(d_val, PREDICTOR_FIELD)"
   ]
  },
  {
   "cell_type": "markdown",
   "metadata": {},
   "source": [
    "#### test dataset"
   ]
  },
  {
   "cell_type": "code",
   "execution_count": 29,
   "metadata": {},
   "outputs": [
    {
     "name": "stdout",
     "output_type": "stream",
     "text": [
      "time_in_hospital\n",
      "1.0     2193\n",
      "2.0     2484\n",
      "3.0     2561\n",
      "4.0     1939\n",
      "5.0     1335\n",
      "6.0     1020\n",
      "7.0      807\n",
      "8.0      530\n",
      "9.0      372\n",
      "10.0     310\n",
      "11.0     265\n",
      "12.0     208\n",
      "13.0     147\n",
      "14.0     133\n",
      "dtype: int64\n",
      "AxesSubplot(0.125,0.125;0.775x0.755)\n"
     ]
    },
    {
     "data": {
      "image/png": "[encoded data removed]",
      "text/plain": [
       "<Figure size 432x288 with 1 Axes>"
      ]
     },
     "metadata": {},
     "output_type": "display_data"
    }
   ],
   "source": [
    "show_group_stats_viz(d_test, PREDICTOR_FIELD)"
   ]
  },
  {
   "cell_type": "markdown",
   "metadata": {},
   "source": [
    "### Comment: the distribution is the same in all the datasets. Most of the patients spend between 1-4 days in hospital. From the point of view of the drug's study (requiring 5-7 days) this means that not all the patients are good candidate."
   ]
  },
  {
   "cell_type": "markdown",
   "metadata": {},
   "source": [
    "## Demographic Group Analysis"
   ]
  },
  {
   "cell_type": "markdown",
   "metadata": {},
   "source": [
    "We should check that our partitions/splits of the dataset are similar in terms of their demographic profiles. Below you can see how we might visualize and analyze the full dataset vs. the partitions."
   ]
  },
  {
   "cell_type": "code",
   "execution_count": 30,
   "metadata": {},
   "outputs": [
    {
     "name": "stdout",
     "output_type": "stream",
     "text": [
      "gender\n",
      "Female             38025\n",
      "Male               33490\n",
      "Unknown/Invalid        3\n",
      "dtype: int64\n",
      "AxesSubplot(0.125,0.125;0.775x0.755)\n"
     ]
    },
    {
     "data": {
      "image/png": "[encoded data removed]",
      "text/plain": [
       "<Figure size 432x288 with 1 Axes>"
      ]
     },
     "metadata": {},
     "output_type": "display_data"
    }
   ],
   "source": [
    "# Full dataset before splitting\n",
    "patient_demo_features = ['race', 'gender', 'age', 'patient_nbr']\n",
    "patient_group_analysis_df = processed_df[patient_demo_features].groupby('patient_nbr').head(1).reset_index(drop=True)\n",
    "show_group_stats_viz(patient_group_analysis_df, 'gender')"
   ]
  },
  {
   "cell_type": "code",
   "execution_count": 31,
   "metadata": {},
   "outputs": [
    {
     "name": "stdout",
     "output_type": "stream",
     "text": [
      "gender\n",
      "Female    22779\n",
      "Male      20131\n",
      "dtype: int64\n",
      "AxesSubplot(0.125,0.125;0.775x0.755)\n"
     ]
    },
    {
     "data": {
      "image/png": "[encoded data removed]",
      "text/plain": [
       "<Figure size 432x288 with 1 Axes>"
      ]
     },
     "metadata": {},
     "output_type": "display_data"
    }
   ],
   "source": [
    "# Training partition\n",
    "show_group_stats_viz(d_train, 'gender')"
   ]
  },
  {
   "cell_type": "code",
   "execution_count": 32,
   "metadata": {},
   "outputs": [
    {
     "name": "stdout",
     "output_type": "stream",
     "text": [
      "gender\n",
      "Female             7566\n",
      "Male               6737\n",
      "Unknown/Invalid       1\n",
      "dtype: int64\n",
      "AxesSubplot(0.125,0.125;0.775x0.755)\n"
     ]
    },
    {
     "data": {
      "image/png": "[encoded data removed]",
      "text/plain": [
       "<Figure size 432x288 with 1 Axes>"
      ]
     },
     "metadata": {},
     "output_type": "display_data"
    }
   ],
   "source": [
    "# validation partition\n",
    "show_group_stats_viz(d_val, 'gender')"
   ]
  },
  {
   "cell_type": "code",
   "execution_count": 33,
   "metadata": {},
   "outputs": [
    {
     "name": "stdout",
     "output_type": "stream",
     "text": [
      "gender\n",
      "Female             7680\n",
      "Male               6622\n",
      "Unknown/Invalid       2\n",
      "dtype: int64\n",
      "AxesSubplot(0.125,0.125;0.775x0.755)\n"
     ]
    },
    {
     "data": {
      "image/png": "[encoded data removed]",
      "text/plain": [
       "<Figure size 432x288 with 1 Axes>"
      ]
     },
     "metadata": {},
     "output_type": "display_data"
    }
   ],
   "source": [
    "# Test partition\n",
    "show_group_stats_viz(d_test, 'gender')"
   ]
  },
  {
   "cell_type": "markdown",
   "metadata": {},
   "source": [
    "## Convert Dataset Splits to TF Dataset"
   ]
  },
  {
   "cell_type": "markdown",
   "metadata": {},
   "source": [
    "We have provided you the function to convert the Pandas dataframe to TF tensors using the TF Dataset API. \n",
    "Please note that this is not a scalable method and for larger datasets, the 'make_csv_dataset' method is recommended -https://www.tensorflow.org/api_docs/python/tf/data/experimental/make_csv_dataset."
   ]
  },
  {
   "cell_type": "code",
   "execution_count": 34,
   "metadata": {},
   "outputs": [],
   "source": [
    "# Convert dataset from Pandas dataframes to TF dataset \n",
    "batch_size = 128\n",
    "diabetes_train_ds = df_to_dataset(d_train, PREDICTOR_FIELD, batch_size=batch_size)\n",
    "diabetes_val_ds = df_to_dataset(d_val, PREDICTOR_FIELD, batch_size=batch_size)\n",
    "diabetes_test_ds = df_to_dataset(d_test, PREDICTOR_FIELD, batch_size=batch_size)"
   ]
  },
  {
   "cell_type": "code",
   "execution_count": 35,
   "metadata": {},
   "outputs": [],
   "source": [
    "# We use this sample of the dataset to show transformations later\n",
    "diabetes_batch = next(iter(diabetes_train_ds))[0]\n",
    "\n",
    "def demo(feature_column, example_batch):\n",
    "    feature_layer = layers.DenseFeatures(feature_column)\n",
    "    print(feature_layer(example_batch))"
   ]
  },
  {
   "cell_type": "markdown",
   "metadata": {},
   "source": [
    "# 4. Create Categorical Features with TF Feature Columns"
   ]
  },
  {
   "cell_type": "markdown",
   "metadata": {},
   "source": [
    "## Build Vocabulary for Categorical Features"
   ]
  },
  {
   "cell_type": "markdown",
   "metadata": {},
   "source": [
    "Before we can create the TF categorical features, we must first create the vocab files with the unique values for a given field that are from the **training** dataset. Below we have provided a function that you can use that only requires providing the pandas train dataset partition and the list of the categorical columns in a list format. The output variable 'vocab_file_list' will be a list of the file paths that can be used in the next step for creating the categorical features."
   ]
  },
  {
   "cell_type": "code",
   "execution_count": 36,
   "metadata": {},
   "outputs": [],
   "source": [
    "# create the dir before\n",
    "vocab_file_list = build_vocab_files(d_train, student_categorical_col_list)"
   ]
  },
  {
   "cell_type": "markdown",
   "metadata": {},
   "source": [
    "## Create Categorical Features with Tensorflow Feature Column API"
   ]
  },
  {
   "cell_type": "markdown",
   "metadata": {},
   "source": [
    "**Question 7**: Using the vocab file list from above that was derived fromt the features you selected earlier, please create categorical features with the Tensorflow Feature Column API, https://www.tensorflow.org/api_docs/python/tf/feature_column. Below is a function to help guide you."
   ]
  },
  {
   "cell_type": "code",
   "execution_count": 37,
   "metadata": {},
   "outputs": [
    {
     "data": {
      "text/plain": [
       "['change',\n",
       " 'readmitted',\n",
       " 'race',\n",
       " 'gender',\n",
       " 'age',\n",
       " 'Acarbose',\n",
       " 'Glimepiride',\n",
       " 'Glipizide',\n",
       " 'Glipizide_And_Metformin_Hcl',\n",
       " 'Glipizide_And_Metformin_Hydrochloride',\n",
       " 'Glyburide',\n",
       " 'Glyburide_And_Metformin_Hydrochloride',\n",
       " 'Glyburide-metformin_Hydrochloride',\n",
       " 'Human_Insulin',\n",
       " 'Insulin_Human',\n",
       " 'Metformin_Hcl',\n",
       " 'Metformin_Hydrochloride',\n",
       " 'Miglitol',\n",
       " 'NA',\n",
       " 'Nateglinide',\n",
       " 'Pioglitazone',\n",
       " 'Pioglitazone_Hydrochloride_And_Glimepiride',\n",
       " 'Repaglinide',\n",
       " 'Rosiglitazone_Maleate',\n",
       " 'Tolazamide',\n",
       " 'Tolbutamide']"
      ]
     },
     "execution_count": 37,
     "metadata": {},
     "output_type": "execute_result"
    }
   ],
   "source": [
    "student_categorical_col_list"
   ]
  },
  {
   "cell_type": "code",
   "execution_count": 38,
   "metadata": {},
   "outputs": [
    {
     "name": "stdout",
     "output_type": "stream",
     "text": [
      "change 3\n",
      "readmitted 4\n",
      "race 7\n",
      "gender 3\n",
      "age 11\n",
      "Acarbose 3\n",
      "Glimepiride 3\n",
      "Glipizide 3\n",
      "Glipizide_And_Metformin_Hcl 2\n",
      "Glipizide_And_Metformin_Hydrochloride 3\n",
      "Glyburide 3\n",
      "Glyburide_And_Metformin_Hydrochloride 3\n",
      "Glyburide-metformin_Hydrochloride 3\n",
      "Human_Insulin 3\n",
      "Insulin_Human 3\n",
      "Metformin_Hcl 3\n",
      "Metformin_Hydrochloride 3\n",
      "Miglitol 3\n",
      "NA 3\n",
      "Nateglinide 3\n",
      "Pioglitazone 3\n",
      "Pioglitazone_Hydrochloride_And_Glimepiride 3\n",
      "Repaglinide 3\n",
      "Rosiglitazone_Maleate 3\n",
      "Tolazamide 3\n",
      "Tolbutamide 3\n"
     ]
    }
   ],
   "source": [
    "%autoreload\n",
    "\n",
    "tf_cat_col_list = create_tf_categorical_feature_cols(student_categorical_col_list)"
   ]
  },
  {
   "cell_type": "code",
   "execution_count": 39,
   "metadata": {},
   "outputs": [
    {
     "name": "stdout",
     "output_type": "stream",
     "text": [
      "Example categorical field:\n",
      "IndicatorColumn(categorical_column=VocabularyFileCategoricalColumn(key='change', vocabulary_file='./diabetes_vocab/change_vocab.txt', vocabulary_size=3, num_oov_buckets=1, dtype=tf.string, default_value=-1))\n",
      "tf.Tensor(\n",
      "[[0. 1. 0. 0.]\n",
      " [0. 1. 0. 0.]\n",
      " [0. 0. 1. 0.]\n",
      " [0. 1. 0. 0.]\n",
      " [0. 0. 1. 0.]\n",
      " [0. 1. 0. 0.]\n",
      " [0. 1. 0. 0.]\n",
      " [0. 1. 0. 0.]\n",
      " [0. 1. 0. 0.]\n",
      " [0. 0. 1. 0.]\n",
      " [0. 0. 1. 0.]\n",
      " [0. 0. 1. 0.]\n",
      " [0. 1. 0. 0.]\n",
      " [0. 1. 0. 0.]\n",
      " [0. 1. 0. 0.]\n",
      " [0. 1. 0. 0.]\n",
      " [0. 1. 0. 0.]\n",
      " [0. 0. 1. 0.]\n",
      " [0. 0. 1. 0.]\n",
      " [0. 1. 0. 0.]\n",
      " [0. 1. 0. 0.]\n",
      " [0. 1. 0. 0.]\n",
      " [0. 0. 1. 0.]\n",
      " [0. 0. 1. 0.]\n",
      " [0. 1. 0. 0.]\n",
      " [0. 0. 1. 0.]\n",
      " [0. 0. 1. 0.]\n",
      " [0. 1. 0. 0.]\n",
      " [0. 1. 0. 0.]\n",
      " [0. 0. 1. 0.]\n",
      " [0. 0. 1. 0.]\n",
      " [0. 1. 0. 0.]\n",
      " [0. 1. 0. 0.]\n",
      " [0. 1. 0. 0.]\n",
      " [0. 1. 0. 0.]\n",
      " [0. 1. 0. 0.]\n",
      " [0. 1. 0. 0.]\n",
      " [0. 0. 1. 0.]\n",
      " [0. 0. 1. 0.]\n",
      " [0. 0. 1. 0.]\n",
      " [0. 1. 0. 0.]\n",
      " [0. 1. 0. 0.]\n",
      " [0. 0. 1. 0.]\n",
      " [0. 1. 0. 0.]\n",
      " [0. 0. 1. 0.]\n",
      " [0. 0. 1. 0.]\n",
      " [0. 0. 1. 0.]\n",
      " [0. 0. 1. 0.]\n",
      " [0. 0. 1. 0.]\n",
      " [0. 1. 0. 0.]\n",
      " [0. 0. 1. 0.]\n",
      " [0. 1. 0. 0.]\n",
      " [0. 1. 0. 0.]\n",
      " [0. 1. 0. 0.]\n",
      " [0. 1. 0. 0.]\n",
      " [0. 1. 0. 0.]\n",
      " [0. 0. 1. 0.]\n",
      " [0. 1. 0. 0.]\n",
      " [0. 0. 1. 0.]\n",
      " [0. 1. 0. 0.]\n",
      " [0. 1. 0. 0.]\n",
      " [0. 0. 1. 0.]\n",
      " [0. 1. 0. 0.]\n",
      " [0. 1. 0. 0.]\n",
      " [0. 0. 1. 0.]\n",
      " [0. 1. 0. 0.]\n",
      " [0. 1. 0. 0.]\n",
      " [0. 1. 0. 0.]\n",
      " [0. 0. 1. 0.]\n",
      " [0. 1. 0. 0.]\n",
      " [0. 0. 1. 0.]\n",
      " [0. 1. 0. 0.]\n",
      " [0. 0. 1. 0.]\n",
      " [0. 0. 1. 0.]\n",
      " [0. 0. 1. 0.]\n",
      " [0. 0. 1. 0.]\n",
      " [0. 1. 0. 0.]\n",
      " [0. 1. 0. 0.]\n",
      " [0. 0. 1. 0.]\n",
      " [0. 0. 1. 0.]\n",
      " [0. 0. 1. 0.]\n",
      " [0. 1. 0. 0.]\n",
      " [0. 0. 1. 0.]\n",
      " [0. 1. 0. 0.]\n",
      " [0. 0. 1. 0.]\n",
      " [0. 1. 0. 0.]\n",
      " [0. 1. 0. 0.]\n",
      " [0. 1. 0. 0.]\n",
      " [0. 0. 1. 0.]\n",
      " [0. 1. 0. 0.]\n",
      " [0. 1. 0. 0.]\n",
      " [0. 1. 0. 0.]\n",
      " [0. 0. 1. 0.]\n",
      " [0. 1. 0. 0.]\n",
      " [0. 1. 0. 0.]\n",
      " [0. 0. 1. 0.]\n",
      " [0. 1. 0. 0.]\n",
      " [0. 0. 1. 0.]\n",
      " [0. 0. 1. 0.]\n",
      " [0. 1. 0. 0.]\n",
      " [0. 1. 0. 0.]\n",
      " [0. 1. 0. 0.]\n",
      " [0. 0. 1. 0.]\n",
      " [0. 0. 1. 0.]\n",
      " [0. 1. 0. 0.]\n",
      " [0. 1. 0. 0.]\n",
      " [0. 0. 1. 0.]\n",
      " [0. 0. 1. 0.]\n",
      " [0. 0. 1. 0.]\n",
      " [0. 0. 1. 0.]\n",
      " [0. 0. 1. 0.]\n",
      " [0. 0. 1. 0.]\n",
      " [0. 0. 1. 0.]\n",
      " [0. 1. 0. 0.]\n",
      " [0. 0. 1. 0.]\n",
      " [0. 0. 1. 0.]\n",
      " [0. 0. 1. 0.]\n",
      " [0. 1. 0. 0.]\n",
      " [0. 1. 0. 0.]\n",
      " [0. 0. 1. 0.]\n",
      " [0. 1. 0. 0.]\n",
      " [0. 0. 1. 0.]\n",
      " [0. 0. 1. 0.]\n",
      " [0. 1. 0. 0.]\n",
      " [0. 1. 0. 0.]\n",
      " [0. 1. 0. 0.]\n",
      " [0. 0. 1. 0.]\n",
      " [0. 0. 1. 0.]], shape=(128, 4), dtype=float32)\n"
     ]
    }
   ],
   "source": [
    "test_cat_var1 = tf_cat_col_list[0]\n",
    "print(\"Example categorical field:\\n{}\".format(test_cat_var1))\n",
    "demo(test_cat_var1, diabetes_batch)"
   ]
  },
  {
   "cell_type": "markdown",
   "metadata": {},
   "source": [
    "# 5. Create Numerical Features with TF Feature Columns"
   ]
  },
  {
   "cell_type": "markdown",
   "metadata": {},
   "source": [
    "**Question 8**: Using the TF Feature Column API(https://www.tensorflow.org/api_docs/python/tf/feature_column/), please create normalized Tensorflow numeric features for the model. Try to use the z-score normalizer function below to help as well as the 'calculate_stats_from_train_data' function."
   ]
  },
  {
   "cell_type": "code",
   "execution_count": 40,
   "metadata": {},
   "outputs": [],
   "source": [
    "from student_utils import create_tf_numeric_feature"
   ]
  },
  {
   "cell_type": "markdown",
   "metadata": {},
   "source": [
    "For simplicity the create_tf_numerical_feature_cols function below uses the same normalizer function across all features(z-score normalization) but if you have time feel free to analyze and adapt the normalizer based off the statistical distributions. You may find this as a good resource in determining which transformation fits best for the data https://developers.google.com/machine-learning/data-prep/transform/normalization.\n"
   ]
  },
  {
   "cell_type": "code",
   "execution_count": 41,
   "metadata": {},
   "outputs": [],
   "source": [
    "%autoreload\n",
    "\n",
    "def calculate_stats_from_train_data(df, col):\n",
    "    mean = df[col].describe()['mean']\n",
    "    std = df[col].describe()['std']\n",
    "    return mean, std\n",
    "\n",
    "def create_tf_numerical_feature_cols(numerical_col_list, train_df):\n",
    "    tf_numeric_col_list = []\n",
    "    for c in numerical_col_list:\n",
    "        mean, std = calculate_stats_from_train_data(train_df, c)\n",
    "\n",
    "        tf_numeric_feature = create_tf_numeric_feature(c, mean, std)\n",
    "        tf_numeric_col_list.append(tf_numeric_feature)\n",
    "    return tf_numeric_col_list"
   ]
  },
  {
   "cell_type": "code",
   "execution_count": 42,
   "metadata": {},
   "outputs": [],
   "source": [
    "%autoreload\n",
    "\n",
    "tf_cont_col_list = create_tf_numerical_feature_cols(student_numerical_col_list, d_train)"
   ]
  },
  {
   "cell_type": "code",
   "execution_count": 43,
   "metadata": {},
   "outputs": [
    {
     "name": "stdout",
     "output_type": "stream",
     "text": [
      "Example continuous field:\n",
      "NumericColumn(key='number_outpatient', shape=(1,), default_value=(0,), dtype=tf.float32, normalizer_fn=<function normalize_numeric_with_zscore.<locals>.norm_func at 0x7ff2dbcc2440>)\n",
      "\n",
      "tf.Tensor(\n",
      "[[-0.26764515]\n",
      " [-0.26764515]\n",
      " [-0.26764515]\n",
      " [-0.26764515]\n",
      " [-0.26764515]\n",
      " [-0.26764515]\n",
      " [-0.26764515]\n",
      " [-0.26764515]\n",
      " [ 2.6145666 ]\n",
      " [-0.26764515]\n",
      " [ 3.5753038 ]\n",
      " [-0.26764515]\n",
      " [-0.26764515]\n",
      " [-0.26764515]\n",
      " [-0.26764515]\n",
      " [-0.26764515]\n",
      " [ 1.6538293 ]\n",
      " [-0.26764515]\n",
      " [-0.26764515]\n",
      " [-0.26764515]\n",
      " [ 1.6538293 ]\n",
      " [-0.26764515]\n",
      " [-0.26764515]\n",
      " [ 0.6930921 ]\n",
      " [-0.26764515]\n",
      " [-0.26764515]\n",
      " [ 1.6538293 ]\n",
      " [-0.26764515]\n",
      " [-0.26764515]\n",
      " [-0.26764515]\n",
      " [-0.26764515]\n",
      " [-0.26764515]\n",
      " [-0.26764515]\n",
      " [-0.26764515]\n",
      " [-0.26764515]\n",
      " [-0.26764515]\n",
      " [-0.26764515]\n",
      " [ 0.6930921 ]\n",
      " [-0.26764515]\n",
      " [-0.26764515]\n",
      " [-0.26764515]\n",
      " [-0.26764515]\n",
      " [-0.26764515]\n",
      " [-0.26764515]\n",
      " [-0.26764515]\n",
      " [ 1.6538293 ]\n",
      " [-0.26764515]\n",
      " [-0.26764515]\n",
      " [ 2.6145666 ]\n",
      " [-0.26764515]\n",
      " [-0.26764515]\n",
      " [-0.26764515]\n",
      " [-0.26764515]\n",
      " [-0.26764515]\n",
      " [ 3.5753038 ]\n",
      " [ 1.6538293 ]\n",
      " [-0.26764515]\n",
      " [-0.26764515]\n",
      " [-0.26764515]\n",
      " [-0.26764515]\n",
      " [-0.26764515]\n",
      " [-0.26764515]\n",
      " [-0.26764515]\n",
      " [-0.26764515]\n",
      " [-0.26764515]\n",
      " [-0.26764515]\n",
      " [-0.26764515]\n",
      " [-0.26764515]\n",
      " [-0.26764515]\n",
      " [-0.26764515]\n",
      " [-0.26764515]\n",
      " [-0.26764515]\n",
      " [-0.26764515]\n",
      " [-0.26764515]\n",
      " [-0.26764515]\n",
      " [-0.26764515]\n",
      " [ 1.6538293 ]\n",
      " [-0.26764515]\n",
      " [-0.26764515]\n",
      " [-0.26764515]\n",
      " [ 3.5753038 ]\n",
      " [-0.26764515]\n",
      " [-0.26764515]\n",
      " [-0.26764515]\n",
      " [-0.26764515]\n",
      " [-0.26764515]\n",
      " [-0.26764515]\n",
      " [-0.26764515]\n",
      " [-0.26764515]\n",
      " [-0.26764515]\n",
      " [-0.26764515]\n",
      " [ 1.6538293 ]\n",
      " [-0.26764515]\n",
      " [-0.26764515]\n",
      " [-0.26764515]\n",
      " [ 2.6145666 ]\n",
      " [-0.26764515]\n",
      " [-0.26764515]\n",
      " [-0.26764515]\n",
      " [-0.26764515]\n",
      " [-0.26764515]\n",
      " [-0.26764515]\n",
      " [-0.26764515]\n",
      " [-0.26764515]\n",
      " [-0.26764515]\n",
      " [-0.26764515]\n",
      " [-0.26764515]\n",
      " [-0.26764515]\n",
      " [ 3.5753038 ]\n",
      " [-0.26764515]\n",
      " [-0.26764515]\n",
      " [-0.26764515]\n",
      " [-0.26764515]\n",
      " [-0.26764515]\n",
      " [-0.26764515]\n",
      " [ 0.6930921 ]\n",
      " [-0.26764515]\n",
      " [-0.26764515]\n",
      " [-0.26764515]\n",
      " [-0.26764515]\n",
      " [-0.26764515]\n",
      " [-0.26764515]\n",
      " [-0.26764515]\n",
      " [-0.26764515]\n",
      " [-0.26764515]\n",
      " [-0.26764515]\n",
      " [-0.26764515]\n",
      " [-0.26764515]], shape=(128, 1), dtype=float32)\n"
     ]
    }
   ],
   "source": [
    "test_cont_var1 = tf_cont_col_list[0]\n",
    "print(\"Example continuous field:\\n{}\\n\".format(test_cont_var1))\n",
    "demo(test_cont_var1, diabetes_batch)"
   ]
  },
  {
   "cell_type": "markdown",
   "metadata": {},
   "source": [
    "# 6. Build Deep Learning Regression Model with Sequential API and TF Probability Layers"
   ]
  },
  {
   "cell_type": "markdown",
   "metadata": {},
   "source": [
    "## Use DenseFeatures to combine features for model"
   ]
  },
  {
   "cell_type": "markdown",
   "metadata": {},
   "source": [
    "Now that we have prepared categorical and numerical features using Tensorflow's Feature Column API, we can combine them into a dense vector representation for the model. Below we will create this new input layer, which we will call 'claim_feature_layer'."
   ]
  },
  {
   "cell_type": "code",
   "execution_count": 44,
   "metadata": {},
   "outputs": [],
   "source": [
    "claim_feature_columns = tf_cat_col_list + tf_cont_col_list\n",
    "claim_feature_layer = tf.keras.layers.DenseFeatures(claim_feature_columns, name='layer0')"
   ]
  },
  {
   "cell_type": "markdown",
   "metadata": {},
   "source": [
    "## Build Sequential API Model from DenseFeatures and TF Probability Layers"
   ]
  },
  {
   "cell_type": "markdown",
   "metadata": {},
   "source": [
    "Below we have provided some boilerplate code for building a model that connects the Sequential API, DenseFeatures, and Tensorflow Probability layers into a deep learning model. There are many opportunities to further optimize and explore different architectures through benchmarking and testing approaches in various research papers, loss and evaluation metrics, learning curves, hyperparameter tuning, TF probability layers, etc. Feel free to modify and explore as you wish."
   ]
  },
  {
   "cell_type": "markdown",
   "metadata": {},
   "source": [
    "**OPTIONAL**: Come up with a more optimal neural network architecture and hyperparameters. Share the process in discovering the architecture and hyperparameters."
   ]
  },
  {
   "cell_type": "code",
   "execution_count": 46,
   "metadata": {},
   "outputs": [],
   "source": [
    "import logging\n",
    "# added to remove TF warnings !\n",
    "logger = tf.get_logger()\n",
    "logger.setLevel(logging.ERROR)\n",
    "        \n",
    "def build_sequential_model(feature_layer, n_units):\n",
    "    model = tf.keras.Sequential([\n",
    "        feature_layer,\n",
    "        tf.keras.layers.Dense(n_units, activation='relu', name='layer1'),\n",
    "        tf.keras.layers.Dropout(0.2),\n",
    "        # I prefer same number in the layers... the NN will decide\n",
    "        tf.keras.layers.Dense(n_units, activation='relu', name='layer2'),\n",
    "        tf.keras.layers.Dropout(0.2),\n",
    "        tf.keras.layers.Dense(n_units, activation='relu', name='layer3'),\n",
    "        \n",
    "        tfp.layers.DenseVariational(1+1, posterior_mean_field, prior_trainable, name='layer4'),\n",
    "        tfp.layers.DistributionLambda(\n",
    "            lambda t:tfp.distributions.Normal(loc=t[..., :1],\n",
    "                                             scale=1e-3 + tf.math.softplus(0.01 * t[...,1:])\n",
    "                                             )\n",
    "        , name='layer5'),\n",
    "    ])\n",
    "    return model\n",
    "\n",
    "# separate build from train, because I need to save the weights with best val_mse (with the Checkpoint callback)\n",
    "def build_diabetes_model(feature_layer, loss_metric='mse', n_units=128):\n",
    "    print('')\n",
    "    print('Training with n_units =', n_units)\n",
    "    \n",
    "    model = build_sequential_model(feature_layer, n_units)\n",
    "    model.compile(optimizer='adam', loss=loss_metric, metrics=[loss_metric])\n",
    "    \n",
    "    return model"
   ]
  },
  {
   "cell_type": "code",
   "execution_count": 47,
   "metadata": {},
   "outputs": [
    {
     "name": "stdout",
     "output_type": "stream",
     "text": [
      "\n",
      "Training with n_units = 192\n",
      "Epoch 1/50\n",
      "336/336 [==============================] - 7s 13ms/step - loss: 28.0590 - mse: 27.9275 - val_loss: 17.0770 - val_mse: 16.4850\n",
      "\n",
      "Epoch 00001: val_mse improved from inf to 16.48496, saving model to model_prob\n",
      "Epoch 2/50\n",
      "336/336 [==============================] - 3s 8ms/step - loss: 16.4139 - mse: 15.4881 - val_loss: 16.2526 - val_mse: 15.5764\n",
      "\n",
      "Epoch 00002: val_mse improved from 16.48496 to 15.57642, saving model to model_prob\n",
      "Epoch 3/50\n",
      "336/336 [==============================] - 3s 9ms/step - loss: 13.3881 - mse: 12.4164 - val_loss: 12.6444 - val_mse: 11.8657\n",
      "\n",
      "Epoch 00003: val_mse improved from 15.57642 to 11.86567, saving model to model_prob\n",
      "Epoch 4/50\n",
      "336/336 [==============================] - 4s 11ms/step - loss: 12.4871 - mse: 11.5962 - val_loss: 10.4352 - val_mse: 9.5665\n",
      "\n",
      "Epoch 00004: val_mse improved from 11.86567 to 9.56647, saving model to model_prob\n",
      "Epoch 5/50\n",
      "336/336 [==============================] - 3s 9ms/step - loss: 11.2419 - mse: 10.3236 - val_loss: 10.5897 - val_mse: 9.5929\n",
      "\n",
      "Epoch 00005: val_mse did not improve from 9.56647\n",
      "Epoch 6/50\n",
      "336/336 [==============================] - 3s 8ms/step - loss: 10.9437 - mse: 10.2603 - val_loss: 9.5622 - val_mse: 8.8763\n",
      "\n",
      "Epoch 00006: val_mse improved from 9.56647 to 8.87633, saving model to model_prob\n",
      "Epoch 7/50\n",
      "336/336 [==============================] - 4s 9ms/step - loss: 10.0702 - mse: 9.2565 - val_loss: 9.6241 - val_mse: 9.0257\n",
      "\n",
      "Epoch 00007: val_mse did not improve from 8.87633\n",
      "Epoch 8/50\n",
      "336/336 [==============================] - 3s 9ms/step - loss: 9.2975 - mse: 8.7276 - val_loss: 9.5198 - val_mse: 8.9684\n",
      "\n",
      "Epoch 00008: val_mse did not improve from 8.87633\n",
      "Epoch 9/50\n",
      "336/336 [==============================] - 4s 9ms/step - loss: 9.5104 - mse: 8.8972 - val_loss: 8.9670 - val_mse: 8.4003\n",
      "\n",
      "Epoch 00009: val_mse improved from 8.87633 to 8.40034, saving model to model_prob\n",
      "Epoch 10/50\n",
      "336/336 [==============================] - 5s 12ms/step - loss: 9.4222 - mse: 8.7625 - val_loss: 8.5274 - val_mse: 8.1537\n",
      "\n",
      "Epoch 00010: val_mse improved from 8.40034 to 8.15368, saving model to model_prob\n",
      "Epoch 11/50\n",
      "336/336 [==============================] - 3s 8ms/step - loss: 8.9386 - mse: 8.5005 - val_loss: 9.1883 - val_mse: 8.7605\n",
      "\n",
      "Epoch 00011: val_mse did not improve from 8.15368\n",
      "Epoch 12/50\n",
      "336/336 [==============================] - 4s 9ms/step - loss: 8.6877 - mse: 8.1242 - val_loss: 8.6454 - val_mse: 8.1726\n",
      "\n",
      "Epoch 00012: val_mse did not improve from 8.15368\n",
      "Epoch 13/50\n",
      "336/336 [==============================] - 4s 11ms/step - loss: 8.5108 - mse: 8.0533 - val_loss: 8.1040 - val_mse: 7.6394\n",
      "\n",
      "Epoch 00013: val_mse improved from 8.15368 to 7.63940, saving model to model_prob\n",
      "Epoch 14/50\n",
      "336/336 [==============================] - 4s 9ms/step - loss: 8.2052 - mse: 7.6669 - val_loss: 8.3223 - val_mse: 7.8084\n",
      "\n",
      "Epoch 00014: val_mse did not improve from 7.63940\n",
      "Epoch 15/50\n",
      "336/336 [==============================] - 3s 9ms/step - loss: 8.4495 - mse: 7.9638 - val_loss: 8.6689 - val_mse: 8.0770\n",
      "\n",
      "Epoch 00015: val_mse did not improve from 7.63940\n",
      "Epoch 16/50\n",
      "336/336 [==============================] - 4s 9ms/step - loss: 8.2830 - mse: 7.8168 - val_loss: 8.0656 - val_mse: 7.6161\n",
      "\n",
      "Epoch 00016: val_mse improved from 7.63940 to 7.61615, saving model to model_prob\n",
      "Epoch 17/50\n",
      "336/336 [==============================] - 4s 9ms/step - loss: 8.3195 - mse: 7.6871 - val_loss: 8.1630 - val_mse: 7.6486\n",
      "\n",
      "Epoch 00017: val_mse did not improve from 7.61615\n",
      "Epoch 18/50\n",
      "336/336 [==============================] - 4s 9ms/step - loss: 8.0768 - mse: 7.4955 - val_loss: 8.2187 - val_mse: 7.6722\n",
      "\n",
      "Epoch 00018: val_mse did not improve from 7.61615\n",
      "Epoch 19/50\n",
      "336/336 [==============================] - 3s 9ms/step - loss: 8.0376 - mse: 7.6017 - val_loss: 8.1056 - val_mse: 7.5351\n",
      "\n",
      "Epoch 00019: val_mse improved from 7.61615 to 7.53507, saving model to model_prob\n",
      "Epoch 20/50\n",
      "336/336 [==============================] - 3s 8ms/step - loss: 8.1232 - mse: 7.6478 - val_loss: 8.4627 - val_mse: 7.9238\n",
      "\n",
      "Epoch 00020: val_mse did not improve from 7.53507\n",
      "Epoch 21/50\n",
      "336/336 [==============================] - 3s 8ms/step - loss: 8.2501 - mse: 7.6953 - val_loss: 8.4138 - val_mse: 7.7641\n",
      "\n",
      "Epoch 00021: val_mse did not improve from 7.53507\n",
      "Epoch 22/50\n",
      "336/336 [==============================] - 3s 8ms/step - loss: 8.2025 - mse: 7.7368 - val_loss: 8.0319 - val_mse: 7.6089\n",
      "\n",
      "Epoch 00022: val_mse did not improve from 7.53507\n",
      "Epoch 23/50\n",
      "336/336 [==============================] - 3s 8ms/step - loss: 8.0493 - mse: 7.3147 - val_loss: 7.8465 - val_mse: 7.3494\n",
      "\n",
      "Epoch 00023: val_mse improved from 7.53507 to 7.34940, saving model to model_prob\n",
      "Epoch 24/50\n",
      "336/336 [==============================] - 5s 10ms/step - loss: 8.0882 - mse: 7.5490 - val_loss: 8.1550 - val_mse: 7.6244\n",
      "\n",
      "Epoch 00024: val_mse did not improve from 7.34940\n",
      "Epoch 25/50\n",
      "336/336 [==============================] - 4s 9ms/step - loss: 8.0582 - mse: 7.4944 - val_loss: 7.8007 - val_mse: 7.4114\n",
      "\n",
      "Epoch 00025: val_mse did not improve from 7.34940\n",
      "Epoch 26/50\n",
      "336/336 [==============================] - 4s 11ms/step - loss: 7.6974 - mse: 7.2879 - val_loss: 7.8258 - val_mse: 7.3098\n",
      "\n",
      "Epoch 00026: val_mse improved from 7.34940 to 7.30980, saving model to model_prob\n",
      "Epoch 27/50\n",
      "336/336 [==============================] - 4s 9ms/step - loss: 7.8547 - mse: 7.4462 - val_loss: 7.8228 - val_mse: 7.2841\n",
      "\n",
      "Epoch 00027: val_mse improved from 7.30980 to 7.28415, saving model to model_prob\n",
      "Epoch 28/50\n",
      "336/336 [==============================] - 4s 10ms/step - loss: 7.7427 - mse: 7.1851 - val_loss: 8.1567 - val_mse: 7.6862\n",
      "\n",
      "Epoch 00028: val_mse did not improve from 7.28415\n",
      "Epoch 29/50\n",
      "336/336 [==============================] - 4s 10ms/step - loss: 7.8660 - mse: 7.3480 - val_loss: 7.7691 - val_mse: 7.3180\n",
      "\n",
      "Epoch 00029: val_mse did not improve from 7.28415\n",
      "Epoch 30/50\n",
      "336/336 [==============================] - 4s 10ms/step - loss: 7.7795 - mse: 7.2187 - val_loss: 7.9335 - val_mse: 7.3018\n",
      "\n",
      "Epoch 00030: val_mse did not improve from 7.28415\n",
      "Epoch 31/50\n",
      "336/336 [==============================] - 4s 11ms/step - loss: 7.7040 - mse: 7.1765 - val_loss: 7.8582 - val_mse: 7.3217\n",
      "\n",
      "Epoch 00031: val_mse did not improve from 7.28415\n",
      "Epoch 32/50\n",
      "336/336 [==============================] - 4s 9ms/step - loss: 7.5640 - mse: 7.0571 - val_loss: 8.1072 - val_mse: 7.5146\n",
      "\n",
      "Epoch 00032: val_mse did not improve from 7.28415\n",
      "Epoch 33/50\n",
      "336/336 [==============================] - 4s 9ms/step - loss: 7.8048 - mse: 7.2651 - val_loss: 7.8597 - val_mse: 7.2114\n",
      "\n",
      "Epoch 00033: val_mse improved from 7.28415 to 7.21136, saving model to model_prob\n",
      "Epoch 34/50\n",
      "336/336 [==============================] - 5s 12ms/step - loss: 7.6386 - mse: 7.1215 - val_loss: 7.7364 - val_mse: 7.3370\n",
      "\n",
      "Epoch 00034: val_mse did not improve from 7.21136\n",
      "Epoch 35/50\n",
      "336/336 [==============================] - 4s 9ms/step - loss: 7.5213 - mse: 7.0645 - val_loss: 7.7470 - val_mse: 7.1129\n",
      "\n",
      "Epoch 00035: val_mse improved from 7.21136 to 7.11291, saving model to model_prob\n",
      "Epoch 36/50\n",
      "336/336 [==============================] - 4s 9ms/step - loss: 7.5306 - mse: 7.0169 - val_loss: 7.8246 - val_mse: 7.4035\n",
      "\n",
      "Epoch 00036: val_mse did not improve from 7.11291\n",
      "Epoch 37/50\n",
      "336/336 [==============================] - 4s 10ms/step - loss: 7.7218 - mse: 7.1473 - val_loss: 7.8173 - val_mse: 7.2547\n",
      "\n",
      "Epoch 00037: val_mse did not improve from 7.11291\n",
      "Epoch 38/50\n",
      "336/336 [==============================] - 4s 10ms/step - loss: 7.6146 - mse: 7.1900 - val_loss: 7.7381 - val_mse: 7.1948\n",
      "\n",
      "Epoch 00038: val_mse did not improve from 7.11291\n",
      "Epoch 39/50\n",
      "336/336 [==============================] - 4s 11ms/step - loss: 7.5975 - mse: 7.0292 - val_loss: 7.7942 - val_mse: 7.1759\n",
      "\n",
      "Epoch 00039: val_mse did not improve from 7.11291\n",
      "Epoch 40/50\n",
      "336/336 [==============================] - 4s 10ms/step - loss: 7.7866 - mse: 7.2811 - val_loss: 7.8669 - val_mse: 7.1976\n",
      "\n",
      "Epoch 00040: val_mse did not improve from 7.11291\n",
      "Epoch 41/50\n",
      "336/336 [==============================] - 5s 13ms/step - loss: 7.4670 - mse: 6.9190 - val_loss: 7.8487 - val_mse: 7.3859\n",
      "\n",
      "Epoch 00041: val_mse did not improve from 7.11291\n",
      "Epoch 42/50\n",
      "336/336 [==============================] - 4s 9ms/step - loss: 7.2661 - mse: 6.7646 - val_loss: 7.6065 - val_mse: 7.0767\n",
      "\n",
      "Epoch 00042: val_mse improved from 7.11291 to 7.07669, saving model to model_prob\n",
      "Epoch 43/50\n",
      "336/336 [==============================] - 3s 9ms/step - loss: 7.5146 - mse: 6.8678 - val_loss: 7.8495 - val_mse: 7.2378\n",
      "\n",
      "Epoch 00043: val_mse did not improve from 7.07669\n",
      "Epoch 44/50\n",
      "336/336 [==============================] - 4s 9ms/step - loss: 7.3011 - mse: 6.8384 - val_loss: 7.5568 - val_mse: 7.0623\n",
      "\n",
      "Epoch 00044: val_mse improved from 7.07669 to 7.06225, saving model to model_prob\n",
      "Epoch 45/50\n",
      "336/336 [==============================] - 4s 9ms/step - loss: 7.5657 - mse: 6.9986 - val_loss: 7.6856 - val_mse: 7.1488\n",
      "\n",
      "Epoch 00045: val_mse did not improve from 7.06225\n",
      "Epoch 46/50\n",
      "336/336 [==============================] - 4s 9ms/step - loss: 7.4441 - mse: 6.8804 - val_loss: 7.6448 - val_mse: 7.1212\n",
      "\n",
      "Epoch 00046: val_mse did not improve from 7.06225\n",
      "Epoch 47/50\n",
      "336/336 [==============================] - 4s 11ms/step - loss: 7.2893 - mse: 6.7919 - val_loss: 7.8035 - val_mse: 7.2807\n",
      "\n",
      "Epoch 00047: val_mse did not improve from 7.06225\n",
      "Epoch 48/50\n",
      "336/336 [==============================] - 4s 9ms/step - loss: 7.4425 - mse: 6.9070 - val_loss: 7.6675 - val_mse: 7.1276\n",
      "\n",
      "Epoch 00048: val_mse did not improve from 7.06225\n",
      "Epoch 49/50\n",
      "336/336 [==============================] - 4s 9ms/step - loss: 7.3022 - mse: 6.7665 - val_loss: 7.7380 - val_mse: 7.1768\n",
      "\n",
      "Epoch 00049: val_mse did not improve from 7.06225\n",
      "Epoch 50/50\n",
      "336/336 [==============================] - 4s 9ms/step - loss: 7.0990 - mse: 6.6232 - val_loss: 7.7047 - val_mse: 7.1809\n",
      "\n",
      "Epoch 00050: val_mse did not improve from 7.06225\n",
      "\n",
      "Elapsed time: 190.8\n"
     ]
    }
   ],
   "source": [
    "# from hyper-parameters' tuning work\n",
    "N_UNITS = 192\n",
    "\n",
    "tStart = time.time()\n",
    "\n",
    "loss_metric='mse'\n",
    "\n",
    "diabetes_model = build_diabetes_model(claim_feature_layer, n_units=N_UNITS)\n",
    "\n",
    "early_stop = tf.keras.callbacks.EarlyStopping(monitor='mse', patience=10, verbose=1)\n",
    "    \n",
    "sv = tf.keras.callbacks.ModelCheckpoint('model_prob', monitor='val_mse', verbose=1, save_best_only=True,\n",
    "                                            save_weights_only=True, mode='min', save_freq='epoch')\n",
    "    \n",
    "history = diabetes_model.fit(diabetes_train_ds, validation_data=diabetes_val_ds,\n",
    "                        callbacks=[early_stop, sv],\n",
    "                        epochs=50, verbose=1)\n",
    "    \n",
    "tEla = round(time.time() - tStart, 1)\n",
    "print('')\n",
    "print('Elapsed time:', tEla)"
   ]
  },
  {
   "cell_type": "code",
   "execution_count": 48,
   "metadata": {},
   "outputs": [],
   "source": [
    "def plot_loss(hist, skip):\n",
    "    plt.figure(figsize=(14,6))\n",
    "    \n",
    "    plt.plot(hist.history['loss'][skip:], label='Training loss')\n",
    "    plt.plot(hist.history['val_loss'][skip:], label='Validation loss')\n",
    "    plt.title('Loss')\n",
    "    plt.legend(loc='upper right')\n",
    "    plt.ylabel('loss')\n",
    "    plt.xlabel('epoch')\n",
    "    plt.grid(True)\n",
    "    plt.show();"
   ]
  },
  {
   "cell_type": "code",
   "execution_count": 49,
   "metadata": {},
   "outputs": [
    {
     "data": {
      "image/png": "[encoded data removed]",
      "text/plain": [
       "<Figure size 1008x432 with 1 Axes>"
      ]
     },
     "metadata": {},
     "output_type": "display_data"
    }
   ],
   "source": [
    "plot_loss(history, 2)"
   ]
  },
  {
   "cell_type": "code",
   "execution_count": 50,
   "metadata": {},
   "outputs": [],
   "source": [
    "def plot_mse(hist, skip):\n",
    "    plt.figure(figsize=(14,6))\n",
    "    \n",
    "    plt.plot(hist.history['mse'][skip:], label='Training mse')\n",
    "    plt.plot(hist.history['val_mse'][skip:], label='Validation mse')\n",
    "    plt.title('Mse')\n",
    "    plt.legend(loc='upper right')\n",
    "    plt.ylabel('mse')\n",
    "    plt.xlabel('epoch')\n",
    "    plt.grid(True)\n",
    "    plt.show();"
   ]
  },
  {
   "cell_type": "code",
   "execution_count": 51,
   "metadata": {},
   "outputs": [
    {
     "data": {
      "image/png": "[encoded data removed]",
      "text/plain": [
       "<Figure size 1008x432 with 1 Axes>"
      ]
     },
     "metadata": {},
     "output_type": "display_data"
    }
   ],
   "source": [
    "plot_mse(history, 2)"
   ]
  },
  {
   "cell_type": "code",
   "execution_count": 52,
   "metadata": {},
   "outputs": [
    {
     "name": "stdout",
     "output_type": "stream",
     "text": [
      "Loading best model...\n",
      "\n",
      "Training with n_units = 192\n"
     ]
    },
    {
     "data": {
      "text/plain": [
       "<tensorflow.python.training.tracking.util.CheckpointLoadStatus at 0x7ff2dfad1e50>"
      ]
     },
     "execution_count": 52,
     "metadata": {},
     "output_type": "execute_result"
    }
   ],
   "source": [
    "# loading best weights\n",
    "print('Loading best model...')\n",
    "\n",
    "diabetes_model = build_diabetes_model(claim_feature_layer,  n_units=N_UNITS)\n",
    "\n",
    "diabetes_model.load_weights('model_prob')"
   ]
  },
  {
   "cell_type": "markdown",
   "metadata": {},
   "source": [
    "## Show Model Uncertainty Range with TF Probability"
   ]
  },
  {
   "cell_type": "markdown",
   "metadata": {},
   "source": [
    "**Question 9**: Now that we have trained a model with TF Probability layers, we can extract the mean and standard deviation for each prediction. Please fill in the answer for the m and s variables below. The code for getting the predictions is provided for you below."
   ]
  },
  {
   "cell_type": "code",
   "execution_count": 82,
   "metadata": {},
   "outputs": [],
   "source": [
    "feature_list = student_categorical_col_list + student_numerical_col_list\n",
    "diabetes_x_tst = dict(d_test[feature_list])\n",
    "\n",
    "# diabetes_yhat = diabetes_model(diabetes_x_tst)\n",
    "preds = diabetes_model.predict(diabetes_test_ds)"
   ]
  },
  {
   "cell_type": "code",
   "execution_count": 83,
   "metadata": {},
   "outputs": [],
   "source": [
    "%autoreload\n",
    "\n",
    "from student_utils import get_mean_std_from_preds\n",
    "\n",
    "# every time I apply the model I have a different value, for the DenseVariational layer\n",
    "# therefore I need to average\n",
    "# see: https://blog.tensorflow.org/2019/03/regression-with-probabilistic-layers-in.html\n",
    "N = 512\n",
    "\n",
    "avg_m = 0. \n",
    "avg_s = 0.\n",
    "\n",
    "for i in range(N):\n",
    "    diabetes_yhat = diabetes_model(diabetes_x_tst)\n",
    "    m, s = get_mean_std_from_preds(diabetes_yhat)\n",
    "    avg_m += m\n",
    "    avg_s += s\n",
    "\n",
    "avg_m = avg_m/tf.cast(N, tf.float32)\n",
    "avg_s = avg_s/tf.cast(N, tf.float32)"
   ]
  },
  {
   "cell_type": "markdown",
   "metadata": {},
   "source": [
    "## Show Prediction Output "
   ]
  },
  {
   "cell_type": "code",
   "execution_count": 84,
   "metadata": {},
   "outputs": [],
   "source": [
    "prob_outputs = {\n",
    "    \"pred\": preds.flatten(),\n",
    "    \"actual_value\": d_test['time_in_hospital'].values,\n",
    "    \"pred_mean\": avg_m.numpy().flatten(),\n",
    "    \"pred_std\": avg_s.numpy().flatten()\n",
    "}\n",
    "prob_output_df = pd.DataFrame(prob_outputs)"
   ]
  },
  {
   "cell_type": "code",
   "execution_count": 85,
   "metadata": {},
   "outputs": [
    {
     "data": {
      "text/html": [
       "<div>\n",
       "<style scoped>\n",
       "    .dataframe tbody tr th:only-of-type {\n",
       "        vertical-align: middle;\n",
       "    }\n",
       "\n",
       "    .dataframe tbody tr th {\n",
       "        vertical-align: top;\n",
       "    }\n",
       "\n",
       "    .dataframe thead th {\n",
       "        text-align: right;\n",
       "    }\n",
       "</style>\n",
       "<table border=\"1\" class=\"dataframe\">\n",
       "  <thead>\n",
       "    <tr style=\"text-align: right;\">\n",
       "      <th></th>\n",
       "      <th>pred</th>\n",
       "      <th>actual_value</th>\n",
       "      <th>pred_mean</th>\n",
       "      <th>pred_std</th>\n",
       "    </tr>\n",
       "  </thead>\n",
       "  <tbody>\n",
       "    <tr>\n",
       "      <th>0</th>\n",
       "      <td>4.139413</td>\n",
       "      <td>2.0</td>\n",
       "      <td>2.601246</td>\n",
       "      <td>0.694289</td>\n",
       "    </tr>\n",
       "    <tr>\n",
       "      <th>1</th>\n",
       "      <td>5.137177</td>\n",
       "      <td>4.0</td>\n",
       "      <td>3.868461</td>\n",
       "      <td>0.694166</td>\n",
       "    </tr>\n",
       "    <tr>\n",
       "      <th>2</th>\n",
       "      <td>2.167633</td>\n",
       "      <td>3.0</td>\n",
       "      <td>3.619202</td>\n",
       "      <td>0.694190</td>\n",
       "    </tr>\n",
       "    <tr>\n",
       "      <th>3</th>\n",
       "      <td>2.781577</td>\n",
       "      <td>2.0</td>\n",
       "      <td>3.064349</td>\n",
       "      <td>0.694300</td>\n",
       "    </tr>\n",
       "    <tr>\n",
       "      <th>4</th>\n",
       "      <td>8.660755</td>\n",
       "      <td>1.0</td>\n",
       "      <td>2.611325</td>\n",
       "      <td>0.694290</td>\n",
       "    </tr>\n",
       "    <tr>\n",
       "      <th>5</th>\n",
       "      <td>5.825388</td>\n",
       "      <td>7.0</td>\n",
       "      <td>6.367150</td>\n",
       "      <td>0.694025</td>\n",
       "    </tr>\n",
       "    <tr>\n",
       "      <th>6</th>\n",
       "      <td>5.330690</td>\n",
       "      <td>1.0</td>\n",
       "      <td>5.486508</td>\n",
       "      <td>0.694099</td>\n",
       "    </tr>\n",
       "    <tr>\n",
       "      <th>7</th>\n",
       "      <td>4.925118</td>\n",
       "      <td>5.0</td>\n",
       "      <td>7.266345</td>\n",
       "      <td>0.694016</td>\n",
       "    </tr>\n",
       "    <tr>\n",
       "      <th>8</th>\n",
       "      <td>5.868902</td>\n",
       "      <td>1.0</td>\n",
       "      <td>3.096134</td>\n",
       "      <td>0.694300</td>\n",
       "    </tr>\n",
       "    <tr>\n",
       "      <th>9</th>\n",
       "      <td>7.247068</td>\n",
       "      <td>2.0</td>\n",
       "      <td>2.889152</td>\n",
       "      <td>0.694271</td>\n",
       "    </tr>\n",
       "    <tr>\n",
       "      <th>10</th>\n",
       "      <td>4.779837</td>\n",
       "      <td>4.0</td>\n",
       "      <td>3.265341</td>\n",
       "      <td>0.694193</td>\n",
       "    </tr>\n",
       "    <tr>\n",
       "      <th>11</th>\n",
       "      <td>10.951508</td>\n",
       "      <td>6.0</td>\n",
       "      <td>6.123396</td>\n",
       "      <td>0.694037</td>\n",
       "    </tr>\n",
       "    <tr>\n",
       "      <th>12</th>\n",
       "      <td>4.239840</td>\n",
       "      <td>1.0</td>\n",
       "      <td>6.533280</td>\n",
       "      <td>0.694041</td>\n",
       "    </tr>\n",
       "    <tr>\n",
       "      <th>13</th>\n",
       "      <td>6.142653</td>\n",
       "      <td>11.0</td>\n",
       "      <td>5.079807</td>\n",
       "      <td>0.694102</td>\n",
       "    </tr>\n",
       "    <tr>\n",
       "      <th>14</th>\n",
       "      <td>6.062424</td>\n",
       "      <td>3.0</td>\n",
       "      <td>2.953717</td>\n",
       "      <td>0.694299</td>\n",
       "    </tr>\n",
       "    <tr>\n",
       "      <th>15</th>\n",
       "      <td>4.195832</td>\n",
       "      <td>7.0</td>\n",
       "      <td>6.096992</td>\n",
       "      <td>0.694100</td>\n",
       "    </tr>\n",
       "    <tr>\n",
       "      <th>16</th>\n",
       "      <td>2.804742</td>\n",
       "      <td>12.0</td>\n",
       "      <td>5.189530</td>\n",
       "      <td>0.694111</td>\n",
       "    </tr>\n",
       "    <tr>\n",
       "      <th>17</th>\n",
       "      <td>8.011353</td>\n",
       "      <td>2.0</td>\n",
       "      <td>4.043773</td>\n",
       "      <td>0.694172</td>\n",
       "    </tr>\n",
       "    <tr>\n",
       "      <th>18</th>\n",
       "      <td>9.772893</td>\n",
       "      <td>8.0</td>\n",
       "      <td>5.065898</td>\n",
       "      <td>0.694107</td>\n",
       "    </tr>\n",
       "    <tr>\n",
       "      <th>19</th>\n",
       "      <td>6.012757</td>\n",
       "      <td>3.0</td>\n",
       "      <td>3.182933</td>\n",
       "      <td>0.694213</td>\n",
       "    </tr>\n",
       "  </tbody>\n",
       "</table>\n",
       "</div>"
      ],
      "text/plain": [
       "         pred  actual_value  pred_mean  pred_std\n",
       "0    4.139413           2.0   2.601246  0.694289\n",
       "1    5.137177           4.0   3.868461  0.694166\n",
       "2    2.167633           3.0   3.619202  0.694190\n",
       "3    2.781577           2.0   3.064349  0.694300\n",
       "4    8.660755           1.0   2.611325  0.694290\n",
       "5    5.825388           7.0   6.367150  0.694025\n",
       "6    5.330690           1.0   5.486508  0.694099\n",
       "7    4.925118           5.0   7.266345  0.694016\n",
       "8    5.868902           1.0   3.096134  0.694300\n",
       "9    7.247068           2.0   2.889152  0.694271\n",
       "10   4.779837           4.0   3.265341  0.694193\n",
       "11  10.951508           6.0   6.123396  0.694037\n",
       "12   4.239840           1.0   6.533280  0.694041\n",
       "13   6.142653          11.0   5.079807  0.694102\n",
       "14   6.062424           3.0   2.953717  0.694299\n",
       "15   4.195832           7.0   6.096992  0.694100\n",
       "16   2.804742          12.0   5.189530  0.694111\n",
       "17   8.011353           2.0   4.043773  0.694172\n",
       "18   9.772893           8.0   5.065898  0.694107\n",
       "19   6.012757           3.0   3.182933  0.694213"
      ]
     },
     "execution_count": 85,
     "metadata": {},
     "output_type": "execute_result"
    }
   ],
   "source": [
    "prob_output_df.head(20)"
   ]
  },
  {
   "cell_type": "markdown",
   "metadata": {},
   "source": [
    "## Convert Regression Output to Classification Output for Patient Selection"
   ]
  },
  {
   "cell_type": "markdown",
   "metadata": {},
   "source": [
    "**Question 10**: Given the output predictions, convert it to a binary label for whether the patient meets the time criteria or does not (HINT: use the mean prediction numpy array). The expected output is a numpy array with a 1 or 0 based off if the prediction meets or doesnt meet the criteria."
   ]
  },
  {
   "cell_type": "code",
   "execution_count": 86,
   "metadata": {},
   "outputs": [
    {
     "name": "stdout",
     "output_type": "stream",
     "text": [
      "get_student_binary_prediction---> Predicted positive: 3329\n"
     ]
    }
   ],
   "source": [
    "%autoreload\n",
    "\n",
    "from student_utils import get_student_binary_prediction\n",
    "student_binary_prediction = get_student_binary_prediction(prob_output_df, 'pred_mean')"
   ]
  },
  {
   "cell_type": "markdown",
   "metadata": {},
   "source": [
    "### Add Binary Prediction to Test Dataframe"
   ]
  },
  {
   "cell_type": "markdown",
   "metadata": {},
   "source": [
    "Using the student_binary_prediction output that is a numpy array with binary labels, we can use this to add to a dataframe to better visualize and also to prepare the data for the Aequitas toolkit. The Aequitas toolkit requires that the predictions be mapped to a binary label for the predictions (called 'score' field) and the actual value (called 'label_value')."
   ]
  },
  {
   "cell_type": "code",
   "execution_count": 87,
   "metadata": {},
   "outputs": [],
   "source": [
    "def add_pred_to_test(test_df, pred_np, demo_col_list):\n",
    "    for c in demo_col_list:\n",
    "        test_df[c] = test_df[c].astype(str)\n",
    "    test_df['score'] = pred_np\n",
    "    test_df['label_value'] = test_df['time_in_hospital'].apply(lambda x: 1 if x >=5 else 0)\n",
    "    return test_df\n",
    "\n",
    "pred_test_df = add_pred_to_test(d_test, student_binary_prediction, ['race', 'gender'])"
   ]
  },
  {
   "cell_type": "code",
   "execution_count": 88,
   "metadata": {},
   "outputs": [
    {
     "data": {
      "text/html": [
       "<div>\n",
       "<style scoped>\n",
       "    .dataframe tbody tr th:only-of-type {\n",
       "        vertical-align: middle;\n",
       "    }\n",
       "\n",
       "    .dataframe tbody tr th {\n",
       "        vertical-align: top;\n",
       "    }\n",
       "\n",
       "    .dataframe thead th {\n",
       "        text-align: right;\n",
       "    }\n",
       "</style>\n",
       "<table border=\"1\" class=\"dataframe\">\n",
       "  <thead>\n",
       "    <tr style=\"text-align: right;\">\n",
       "      <th></th>\n",
       "      <th>patient_nbr</th>\n",
       "      <th>gender</th>\n",
       "      <th>race</th>\n",
       "      <th>time_in_hospital</th>\n",
       "      <th>score</th>\n",
       "      <th>label_value</th>\n",
       "    </tr>\n",
       "  </thead>\n",
       "  <tbody>\n",
       "    <tr>\n",
       "      <th>71465</th>\n",
       "      <td>157554707</td>\n",
       "      <td>Male</td>\n",
       "      <td>Caucasian</td>\n",
       "      <td>2.0</td>\n",
       "      <td>0</td>\n",
       "      <td>0</td>\n",
       "    </tr>\n",
       "    <tr>\n",
       "      <th>57503</th>\n",
       "      <td>40465350</td>\n",
       "      <td>Female</td>\n",
       "      <td>Caucasian</td>\n",
       "      <td>4.0</td>\n",
       "      <td>0</td>\n",
       "      <td>0</td>\n",
       "    </tr>\n",
       "    <tr>\n",
       "      <th>17405</th>\n",
       "      <td>5813577</td>\n",
       "      <td>Male</td>\n",
       "      <td>Caucasian</td>\n",
       "      <td>3.0</td>\n",
       "      <td>0</td>\n",
       "      <td>0</td>\n",
       "    </tr>\n",
       "    <tr>\n",
       "      <th>45634</th>\n",
       "      <td>25335207</td>\n",
       "      <td>Female</td>\n",
       "      <td>AfricanAmerican</td>\n",
       "      <td>2.0</td>\n",
       "      <td>0</td>\n",
       "      <td>0</td>\n",
       "    </tr>\n",
       "    <tr>\n",
       "      <th>32336</th>\n",
       "      <td>24062499</td>\n",
       "      <td>Male</td>\n",
       "      <td>AfricanAmerican</td>\n",
       "      <td>1.0</td>\n",
       "      <td>0</td>\n",
       "      <td>0</td>\n",
       "    </tr>\n",
       "    <tr>\n",
       "      <th>47486</th>\n",
       "      <td>54489582</td>\n",
       "      <td>Female</td>\n",
       "      <td>Caucasian</td>\n",
       "      <td>7.0</td>\n",
       "      <td>1</td>\n",
       "      <td>1</td>\n",
       "    </tr>\n",
       "    <tr>\n",
       "      <th>49867</th>\n",
       "      <td>22741488</td>\n",
       "      <td>Male</td>\n",
       "      <td>Caucasian</td>\n",
       "      <td>1.0</td>\n",
       "      <td>1</td>\n",
       "      <td>0</td>\n",
       "    </tr>\n",
       "    <tr>\n",
       "      <th>1430</th>\n",
       "      <td>54373995</td>\n",
       "      <td>Female</td>\n",
       "      <td>Caucasian</td>\n",
       "      <td>5.0</td>\n",
       "      <td>1</td>\n",
       "      <td>1</td>\n",
       "    </tr>\n",
       "    <tr>\n",
       "      <th>67998</th>\n",
       "      <td>38812941</td>\n",
       "      <td>Female</td>\n",
       "      <td>Caucasian</td>\n",
       "      <td>1.0</td>\n",
       "      <td>0</td>\n",
       "      <td>0</td>\n",
       "    </tr>\n",
       "    <tr>\n",
       "      <th>58239</th>\n",
       "      <td>44246853</td>\n",
       "      <td>Female</td>\n",
       "      <td>Caucasian</td>\n",
       "      <td>2.0</td>\n",
       "      <td>0</td>\n",
       "      <td>0</td>\n",
       "    </tr>\n",
       "    <tr>\n",
       "      <th>23464</th>\n",
       "      <td>5598351</td>\n",
       "      <td>Male</td>\n",
       "      <td>Caucasian</td>\n",
       "      <td>4.0</td>\n",
       "      <td>0</td>\n",
       "      <td>0</td>\n",
       "    </tr>\n",
       "    <tr>\n",
       "      <th>41272</th>\n",
       "      <td>56498742</td>\n",
       "      <td>Male</td>\n",
       "      <td>AfricanAmerican</td>\n",
       "      <td>6.0</td>\n",
       "      <td>1</td>\n",
       "      <td>1</td>\n",
       "    </tr>\n",
       "    <tr>\n",
       "      <th>20448</th>\n",
       "      <td>57762954</td>\n",
       "      <td>Male</td>\n",
       "      <td>AfricanAmerican</td>\n",
       "      <td>1.0</td>\n",
       "      <td>1</td>\n",
       "      <td>0</td>\n",
       "    </tr>\n",
       "    <tr>\n",
       "      <th>36917</th>\n",
       "      <td>95506605</td>\n",
       "      <td>Female</td>\n",
       "      <td>Caucasian</td>\n",
       "      <td>11.0</td>\n",
       "      <td>1</td>\n",
       "      <td>1</td>\n",
       "    </tr>\n",
       "    <tr>\n",
       "      <th>12831</th>\n",
       "      <td>71882910</td>\n",
       "      <td>Female</td>\n",
       "      <td>Caucasian</td>\n",
       "      <td>3.0</td>\n",
       "      <td>0</td>\n",
       "      <td>0</td>\n",
       "    </tr>\n",
       "    <tr>\n",
       "      <th>26393</th>\n",
       "      <td>2646090</td>\n",
       "      <td>Male</td>\n",
       "      <td>?</td>\n",
       "      <td>7.0</td>\n",
       "      <td>1</td>\n",
       "      <td>1</td>\n",
       "    </tr>\n",
       "    <tr>\n",
       "      <th>66223</th>\n",
       "      <td>133738745</td>\n",
       "      <td>Female</td>\n",
       "      <td>Caucasian</td>\n",
       "      <td>12.0</td>\n",
       "      <td>1</td>\n",
       "      <td>1</td>\n",
       "    </tr>\n",
       "    <tr>\n",
       "      <th>49182</th>\n",
       "      <td>25467813</td>\n",
       "      <td>Female</td>\n",
       "      <td>AfricanAmerican</td>\n",
       "      <td>2.0</td>\n",
       "      <td>0</td>\n",
       "      <td>0</td>\n",
       "    </tr>\n",
       "    <tr>\n",
       "      <th>9408</th>\n",
       "      <td>15100821</td>\n",
       "      <td>Female</td>\n",
       "      <td>AfricanAmerican</td>\n",
       "      <td>8.0</td>\n",
       "      <td>1</td>\n",
       "      <td>1</td>\n",
       "    </tr>\n",
       "    <tr>\n",
       "      <th>31070</th>\n",
       "      <td>28814274</td>\n",
       "      <td>Female</td>\n",
       "      <td>Caucasian</td>\n",
       "      <td>3.0</td>\n",
       "      <td>0</td>\n",
       "      <td>0</td>\n",
       "    </tr>\n",
       "  </tbody>\n",
       "</table>\n",
       "</div>"
      ],
      "text/plain": [
       "       patient_nbr  gender             race  time_in_hospital  score  \\\n",
       "71465    157554707    Male        Caucasian               2.0      0   \n",
       "57503     40465350  Female        Caucasian               4.0      0   \n",
       "17405      5813577    Male        Caucasian               3.0      0   \n",
       "45634     25335207  Female  AfricanAmerican               2.0      0   \n",
       "32336     24062499    Male  AfricanAmerican               1.0      0   \n",
       "47486     54489582  Female        Caucasian               7.0      1   \n",
       "49867     22741488    Male        Caucasian               1.0      1   \n",
       "1430      54373995  Female        Caucasian               5.0      1   \n",
       "67998     38812941  Female        Caucasian               1.0      0   \n",
       "58239     44246853  Female        Caucasian               2.0      0   \n",
       "23464      5598351    Male        Caucasian               4.0      0   \n",
       "41272     56498742    Male  AfricanAmerican               6.0      1   \n",
       "20448     57762954    Male  AfricanAmerican               1.0      1   \n",
       "36917     95506605  Female        Caucasian              11.0      1   \n",
       "12831     71882910  Female        Caucasian               3.0      0   \n",
       "26393      2646090    Male                ?               7.0      1   \n",
       "66223    133738745  Female        Caucasian              12.0      1   \n",
       "49182     25467813  Female  AfricanAmerican               2.0      0   \n",
       "9408      15100821  Female  AfricanAmerican               8.0      1   \n",
       "31070     28814274  Female        Caucasian               3.0      0   \n",
       "\n",
       "       label_value  \n",
       "71465            0  \n",
       "57503            0  \n",
       "17405            0  \n",
       "45634            0  \n",
       "32336            0  \n",
       "47486            1  \n",
       "49867            0  \n",
       "1430             1  \n",
       "67998            0  \n",
       "58239            0  \n",
       "23464            0  \n",
       "41272            1  \n",
       "20448            0  \n",
       "36917            1  \n",
       "12831            0  \n",
       "26393            1  \n",
       "66223            1  \n",
       "49182            0  \n",
       "9408             1  \n",
       "31070            0  "
      ]
     },
     "execution_count": 88,
     "metadata": {},
     "output_type": "execute_result"
    }
   ],
   "source": [
    "pred_test_df[['patient_nbr', 'gender', 'race', 'time_in_hospital', 'score', 'label_value']].head(20)"
   ]
  },
  {
   "cell_type": "markdown",
   "metadata": {},
   "source": [
    "## Model Evaluation Metrics "
   ]
  },
  {
   "cell_type": "markdown",
   "metadata": {},
   "source": [
    "**Question 11**: Now it is time to use the newly created binary labels in the 'pred_test_df' dataframe to evaluate the model with some common classification metrics. Please create a report summary of the performance of the model and be sure to give the ROC AUC, F1 score(weighted), class precision and recall scores. "
   ]
  },
  {
   "cell_type": "markdown",
   "metadata": {},
   "source": [
    "For the report please be sure to include the following three parts:\n",
    "- With a non-technical audience in mind, explain the precision-recall tradeoff in regard to how you have optimized your model.\n",
    "\n",
    "- What are some areas of improvement for future iterations?"
   ]
  },
  {
   "cell_type": "code",
   "execution_count": 90,
   "metadata": {},
   "outputs": [
    {
     "name": "stdout",
     "output_type": "stream",
     "text": [
      "Compute for THRESHOLD: 3.8\n",
      "get_student_binary_prediction---> Predicted positive: 7266\n",
      "Confusion matrix (tn, fp, fn, tp): (5845, 3332, 1193, 3934)\n",
      "\n",
      "Accuracy:  0.684\n",
      "Precision:  0.727\n",
      "Recall:  0.684\n",
      "F1-score:  0.69\n",
      "\n",
      "Compute for THRESHOLD: 4.0\n",
      "get_student_binary_prediction---> Predicted positive: 6604\n",
      "Confusion matrix (tn, fp, fn, tp): (6301, 2876, 1399, 3728)\n",
      "\n",
      "Accuracy:  0.701\n",
      "Precision:  0.727\n",
      "Recall:  0.701\n",
      "F1-score:  0.707\n",
      "\n",
      "Compute for THRESHOLD: 4.2\n",
      "get_student_binary_prediction---> Predicted positive: 5867\n",
      "Confusion matrix (tn, fp, fn, tp): (6784, 2393, 1653, 3474)\n",
      "\n",
      "Accuracy:  0.717\n",
      "Precision:  0.728\n",
      "Recall:  0.717\n",
      "F1-score:  0.721\n",
      "\n",
      "Compute for THRESHOLD: 4.4\n",
      "get_student_binary_prediction---> Predicted positive: 5079\n",
      "Confusion matrix (tn, fp, fn, tp): (7256, 1921, 1969, 3158)\n",
      "\n",
      "Accuracy:  0.728\n",
      "Precision:  0.727\n",
      "Recall:  0.728\n",
      "F1-score:  0.728\n",
      "\n",
      "Compute for THRESHOLD: 4.6\n",
      "get_student_binary_prediction---> Predicted positive: 4326\n",
      "Confusion matrix (tn, fp, fn, tp): (7690, 1487, 2288, 2839)\n",
      "\n",
      "Accuracy:  0.736\n",
      "Precision:  0.73\n",
      "Recall:  0.736\n",
      "F1-score:  0.73\n",
      "\n",
      "Compute for THRESHOLD: 4.8\n",
      "get_student_binary_prediction---> Predicted positive: 3757\n",
      "Confusion matrix (tn, fp, fn, tp): (8009, 1168, 2538, 2589)\n",
      "\n",
      "Accuracy:  0.741\n",
      "Precision:  0.734\n",
      "Recall:  0.741\n",
      "F1-score:  0.73\n",
      "\n",
      "Compute for THRESHOLD: 5.0\n",
      "get_student_binary_prediction---> Predicted positive: 3329\n",
      "Confusion matrix (tn, fp, fn, tp): (8216, 961, 2759, 2368)\n",
      "\n",
      "Accuracy:  0.74\n",
      "Precision:  0.735\n",
      "Recall:  0.74\n",
      "F1-score:  0.724\n",
      "\n",
      "Compute for THRESHOLD: 5.2\n",
      "get_student_binary_prediction---> Predicted positive: 2976\n",
      "Confusion matrix (tn, fp, fn, tp): (8374, 803, 2954, 2173)\n",
      "\n",
      "Accuracy:  0.737\n",
      "Precision:  0.736\n",
      "Recall:  0.737\n",
      "F1-score:  0.716\n",
      "\n"
     ]
    }
   ],
   "source": [
    "%autoreload\n",
    "from sklearn.metrics import confusion_matrix, precision_score, recall_score, f1_score, accuracy_score\n",
    "\n",
    "# do the computation for different thresholds\n",
    "threshold_list = [3.8, 4.0, 4.2, 4.4, 4.6, 4.8, 5.0, 5.2]\n",
    "\n",
    "for thr in threshold_list:\n",
    "    print('Compute for THRESHOLD:', thr)\n",
    "    \n",
    "    student_binary_prediction = get_student_binary_prediction(prob_output_df, 'pred_mean', threshold=thr)\n",
    "    \n",
    "    pred_test_df = add_pred_to_test(d_test, student_binary_prediction, ['race', 'gender'])\n",
    "    \n",
    "    y_true = pred_test_df['label_value'].values\n",
    "    y_preds = pred_test_df['score'].values\n",
    "    \n",
    "    conf_mat = confusion_matrix(y_true, y_preds)\n",
    "    tn, fp, fn, tp = conf_mat.ravel()\n",
    "    \n",
    "    acc = accuracy_score(y_true, y_preds)\n",
    "    precision = precision_score(y_true, y_preds, average='weighted')\n",
    "    recall = recall_score(y_true, y_preds, average='weighted')\n",
    "    f1 = f1_score(y_true, y_preds, average='weighted')\n",
    "    \n",
    "    print('Confusion matrix (tn, fp, fn, tp):', (tn, fp, fn, tp))\n",
    "    print('')\n",
    "    print('Accuracy: ', round(acc, 3))\n",
    "    print('Precision: ', round(precision, 3))\n",
    "    print('Recall: ', round(recall, 3))\n",
    "    print('F1-score: ', round(f1, 3))\n",
    "    print('')"
   ]
  },
  {
   "cell_type": "markdown",
   "metadata": {},
   "source": [
    "### TODO add summary here"
   ]
  },
  {
   "cell_type": "markdown",
   "metadata": {},
   "source": [
    "# 7. Evaluating Potential Model Biases with Aequitas Toolkit"
   ]
  },
  {
   "cell_type": "markdown",
   "metadata": {},
   "source": [
    "## Prepare Data For Aequitas Bias Toolkit "
   ]
  },
  {
   "cell_type": "markdown",
   "metadata": {},
   "source": [
    "Using the gender and race fields, we will prepare the data for the Aequitas Toolkit."
   ]
  },
  {
   "cell_type": "code",
   "execution_count": null,
   "metadata": {},
   "outputs": [],
   "source": [
    "# Aequitas\n",
    "from aequitas.preprocessing import preprocess_input_df\n",
    "from aequitas.group import Group\n",
    "from aequitas.plotting import Plot\n",
    "from aequitas.bias import Bias\n",
    "from aequitas.fairness import Fairness\n",
    "\n",
    "ae_subset_df = pred_test_df[['race', 'gender', 'score', 'label_value']]\n",
    "ae_df, _ = preprocess_input_df(ae_subset_df)\n",
    "g = Group()\n",
    "xtab, _ = g.get_crosstabs(ae_df)\n",
    "absolute_metrics = g.list_absolute_metrics(xtab)\n",
    "clean_xtab = xtab.fillna(-1)\n",
    "aqp = Plot()\n",
    "b = Bias()\n"
   ]
  },
  {
   "cell_type": "markdown",
   "metadata": {},
   "source": [
    "## Reference Group Selection"
   ]
  },
  {
   "cell_type": "markdown",
   "metadata": {},
   "source": [
    "Below we have chosen the reference group for our analysis but feel free to select another one."
   ]
  },
  {
   "cell_type": "code",
   "execution_count": null,
   "metadata": {},
   "outputs": [],
   "source": [
    "# test reference group with Caucasian Male\n",
    "bdf = b.get_disparity_predefined_groups(clean_xtab, \n",
    "                    original_df=ae_df, \n",
    "                    ref_groups_dict={'race':'Caucasian', 'gender':'Male'\n",
    "                                     }, \n",
    "                    alpha=0.05, \n",
    "                    check_significance=False)\n",
    "\n",
    "\n",
    "f = Fairness()\n",
    "fdf = f.get_group_value_fairness(bdf)"
   ]
  },
  {
   "cell_type": "markdown",
   "metadata": {},
   "source": [
    "## Race and Gender Bias Analysis for Patient Selection"
   ]
  },
  {
   "cell_type": "markdown",
   "metadata": {},
   "source": [
    "**Question 12**: For the gender and race fields, please plot two metrics that are important for patient selection below and state whether there is a significant bias in your model across any of the groups along with justification for your statement."
   ]
  },
  {
   "cell_type": "code",
   "execution_count": null,
   "metadata": {},
   "outputs": [],
   "source": [
    "# Plot two metrics\n",
    "\n",
    "# Is there significant bias in your model for either race or gender?"
   ]
  },
  {
   "cell_type": "markdown",
   "metadata": {},
   "source": [
    "## Fairness Analysis Example - Relative to a Reference Group "
   ]
  },
  {
   "cell_type": "markdown",
   "metadata": {},
   "source": [
    "**Question 13**: Earlier we defined our reference group and then calculated disparity metrics relative to this grouping. Please provide a visualization of the fairness evaluation for this reference group and analyze whether there is disparity."
   ]
  },
  {
   "cell_type": "code",
   "execution_count": null,
   "metadata": {},
   "outputs": [],
   "source": [
    "# Reference group fairness plot"
   ]
  },
  {
   "cell_type": "code",
   "execution_count": null,
   "metadata": {},
   "outputs": [],
   "source": []
  }
 ],
 "metadata": {
  "kernelspec": {
   "display_name": "udacity-ehr-env",
   "language": "python",
   "name": "udacity-ehr-env"
  },
  "language_info": {
   "codemirror_mode": {
    "name": "ipython",
    "version": 3
   },
   "file_extension": ".py",
   "mimetype": "text/x-python",
   "name": "python",
   "nbconvert_exporter": "python",
   "pygments_lexer": "ipython3",
   "version": "3.7.9"
  }
 },
 "nbformat": 4,
 "nbformat_minor": 4
}
