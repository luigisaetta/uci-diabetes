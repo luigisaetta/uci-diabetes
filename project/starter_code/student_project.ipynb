{
 "cells": [
  {
   "cell_type": "markdown",
   "metadata": {},
   "source": [
    "# Overview: Project 3\n",
    "#### author: L. Saetta\n",
    "#### last update: 30/01/2021"
   ]
  },
  {
   "cell_type": "markdown",
   "metadata": {},
   "source": [
    "1. Project Instructions & Prerequisites\n",
    "2. Learning Objectives\n",
    "3. Data Preparation\n",
    "4. Create Categorical Features with TF Feature Columns\n",
    "5. Create Continuous/Numerical Features with TF Feature Columns\n",
    "6. Build Deep Learning Regression Model with Sequential API and TF Probability Layers\n",
    "7. Evaluating Potential Model Biases with Aequitas Toolkit\n"
   ]
  },
  {
   "cell_type": "markdown",
   "metadata": {},
   "source": [
    "#  1. Project Instructions & Prerequisites"
   ]
  },
  {
   "cell_type": "markdown",
   "metadata": {},
   "source": [
    "## Project Instructions"
   ]
  },
  {
   "cell_type": "markdown",
   "metadata": {},
   "source": [
    "**Context**: EHR data is becoming a key source of real-world evidence (RWE) for the pharmaceutical industry and regulators to [make decisions on clinical trials](https://www.fda.gov/news-events/speeches-fda-officials/breaking-down-barriers-between-clinical-trials-and-clinical-care-incorporating-real-world-evidence). You are a data scientist for an exciting unicorn healthcare startup that has created a groundbreaking diabetes drug that is ready for clinical trial testing. It is a very unique and sensitive drug that requires administering the drug over at least 5-7 days of time in the hospital with frequent monitoring/testing and patient medication adherence training with a mobile application. You have been provided a patient dataset from a client partner and are tasked with building a predictive model that can identify which type of patients the company should focus their efforts testing this drug on. Target patients are people that are likely to be in the hospital for this duration of time and will not incur significant additional costs for administering this drug to the patient and monitoring.  \n",
    "\n",
    "In order to achieve your goal you must build a regression model that can predict the estimated hospitalization time for a patient and use this to select/filter patients for your study.\n"
   ]
  },
  {
   "cell_type": "markdown",
   "metadata": {},
   "source": [
    "**Expected Hospitalization Time Regression Model:** Utilizing a synthetic dataset(denormalized at the line level augmentation) built off of the UCI Diabetes readmission dataset, students will build a regression model that predicts the expected days of hospitalization time and then convert this to a binary prediction of whether to include or exclude that patient from the clinical trial.\n",
    "\n",
    "This project will demonstrate the importance of building the right data representation at the encounter level, with appropriate filtering and preprocessing/feature engineering of key medical code sets. This project will also require students to analyze and interpret their model for biases across key demographic groups. \n",
    "\n",
    "Please see the project rubric online for more details on the areas your project will be evaluated."
   ]
  },
  {
   "cell_type": "markdown",
   "metadata": {},
   "source": [
    "### Dataset"
   ]
  },
  {
   "cell_type": "markdown",
   "metadata": {},
   "source": [
    "Due to healthcare PHI regulations (HIPAA, HITECH), there are limited number of publicly available datasets and some datasets require training and approval. So, for the purpose of this exercise, we are using a dataset from UC Irvine(https://archive.ics.uci.edu/ml/datasets/Diabetes+130-US+hospitals+for+years+1999-2008) that has been modified for this course. Please note that it is limited in its representation of some key features such as diagnosis codes which are usually an unordered list in 835s/837s (the HL7 standard interchange formats used for claims and remits)."
   ]
  },
  {
   "cell_type": "markdown",
   "metadata": {},
   "source": [
    "**Data Schema**\n",
    "The dataset reference information can be https://github.com/udacity/nd320-c1-emr-data-starter/blob/master/project/data_schema_references/\n",
    ". There are two CSVs that provide more details on the fields and some of the mapped values."
   ]
  },
  {
   "cell_type": "markdown",
   "metadata": {},
   "source": [
    "## Project Submission "
   ]
  },
  {
   "cell_type": "markdown",
   "metadata": {},
   "source": [
    "When submitting this project, make sure to run all the cells before saving the notebook. Save the notebook file as \"student_project_submission.ipynb\" and save another copy as an HTML file by clicking \"File\" -> \"Download as..\"->\"html\". Include the \"utils.py\" and \"student_utils.py\" files in your submission. The student_utils.py should be where you put most of your code that you write and the summary and text explanations should be written inline in the notebook. Once you download these files, compress them into one zip file for submission."
   ]
  },
  {
   "cell_type": "markdown",
   "metadata": {},
   "source": [
    "## Prerequisites "
   ]
  },
  {
   "cell_type": "markdown",
   "metadata": {},
   "source": [
    "- Intermediate level knowledge of Python\n",
    "- Basic knowledge of probability and statistics\n",
    "- Basic knowledge of machine learning concepts\n",
    "- Installation of Tensorflow 2.0 and other dependencies(conda environment.yml or virtualenv requirements.txt file provided)"
   ]
  },
  {
   "cell_type": "markdown",
   "metadata": {},
   "source": [
    "## Environment Setup"
   ]
  },
  {
   "cell_type": "markdown",
   "metadata": {},
   "source": [
    "For step by step instructions on creating your environment, please go to https://github.com/udacity/nd320-c1-emr-data-starter/blob/master/project/README.md."
   ]
  },
  {
   "cell_type": "markdown",
   "metadata": {},
   "source": [
    "# 2.  Learning Objectives"
   ]
  },
  {
   "cell_type": "markdown",
   "metadata": {},
   "source": [
    "By the end of the project, you will be able to \n",
    "   - Use the Tensorflow Dataset API to scalably extract, transform, and load datasets and build datasets aggregated at the line, encounter, and patient data levels(longitudinal)\n",
    "   - Analyze EHR datasets to check for common issues (data leakage, statistical properties, missing values, high cardinality) by performing exploratory data analysis.\n",
    "   - Create categorical features from Key Industry Code Sets (ICD, CPT, NDC) and reduce dimensionality for high cardinality features by using embeddings \n",
    "   - Create derived features(bucketing, cross-features, embeddings) utilizing Tensorflow feature columns on both continuous and categorical input features\n",
    "   - SWBAT use the Tensorflow Probability library to train a model that provides uncertainty range predictions that allow for risk adjustment/prioritization and triaging of predictions\n",
    "   - Analyze and determine biases for a model for key demographic groups by evaluating performance metrics across groups by using the Aequitas framework \n"
   ]
  },
  {
   "cell_type": "markdown",
   "metadata": {},
   "source": [
    "# 3. Data Preparation"
   ]
  },
  {
   "cell_type": "code",
   "execution_count": 179,
   "metadata": {},
   "outputs": [
    {
     "name": "stdout",
     "output_type": "stream",
     "text": [
      "The autoreload extension is already loaded. To reload it, use:\n",
      "  %reload_ext autoreload\n"
     ]
    }
   ],
   "source": [
    "# from __future__ import absolute_import, division, print_function, unicode_literals\n",
    "import os\n",
    "import random as rn\n",
    "import numpy as np\n",
    "import time\n",
    "\n",
    "import tensorflow as tf\n",
    "from tensorflow.keras import layers\n",
    "import tensorflow_probability as tfp\n",
    "\n",
    "import matplotlib.pyplot as plt\n",
    "import pandas as pd\n",
    "import aequitas as ae\n",
    "\n",
    "# this allows you to make changes and save in student_utils.py and the file is reloaded every time you run a code block\n",
    "%load_ext autoreload\n",
    "%autoreload\n",
    "\n",
    "# Put all of the helper functions in utils\n",
    "from utils import build_vocab_files, show_group_stats_viz, aggregate_dataset, preprocess_df, df_to_dataset, posterior_mean_field, prior_trainable\n",
    "\n",
    "# added by L.S\n",
    "import seaborn as sns\n",
    "sns.set()\n",
    "\n",
    "# from student_utils\n",
    "from student_utils import count_unique_values, show_dist, plot_hist_numerical, count_missing_values, count_zeros\n",
    "from student_utils import reduce_dimension_ndc, patient_dataset_splitter, select_first_encounter, create_tf_categorical_feature_cols, compute_area\n",
    "\n",
    "pd.set_option('display.max_columns', 500)\n",
    "\n",
    "# to not display deprecation warnings and futurewarnings\n",
    "import warnings\n",
    "warnings.filterwarnings(\"ignore\", category=DeprecationWarning)\n",
    "warnings.simplefilter(action='ignore', category=FutureWarning)"
   ]
  },
  {
   "cell_type": "code",
   "execution_count": 2,
   "metadata": {},
   "outputs": [],
   "source": [
    "#OPEN ISSUE ON MAC OSX for TF model training\n",
    "import os\n",
    "os.environ['KMP_DUPLICATE_LIB_OK']='True'"
   ]
  },
  {
   "cell_type": "code",
   "execution_count": 3,
   "metadata": {},
   "outputs": [],
   "source": [
    "# to add reproducibility for TF results\n",
    "SEED = 1234\n",
    "\n",
    "os.environ['PYTHONHASHSEED'] = '0'\n",
    "\n",
    "# The below is necessary for starting Numpy generated random numbers\n",
    "# in a well-defined initial state.\n",
    "np.random.seed(SEED)\n",
    "\n",
    "# The below is necessary for starting core Python generated random numbers\n",
    "# in a well-defined state.\n",
    "rn.seed(SEED)\n",
    "\n",
    "tf.random.set_seed(SEED)"
   ]
  },
  {
   "cell_type": "markdown",
   "metadata": {},
   "source": [
    "## Dataset Loading and Schema Review"
   ]
  },
  {
   "cell_type": "markdown",
   "metadata": {},
   "source": [
    "Load the dataset and view a sample of the dataset along with reviewing the schema reference files to gain a deeper understanding of the dataset. The dataset is located at the following path https://github.com/udacity/nd320-c1-emr-data-starter/blob/master/project/starter_code/data/final_project_dataset.csv. Also, review the information found in the data schema https://github.com/udacity/nd320-c1-emr-data-starter/blob/master/project/data_schema_references/"
   ]
  },
  {
   "cell_type": "code",
   "execution_count": 4,
   "metadata": {},
   "outputs": [],
   "source": [
    "dataset_path = \"./data/final_project_dataset.csv\"\n",
    "df = pd.read_csv(dataset_path)"
   ]
  },
  {
   "cell_type": "code",
   "execution_count": 5,
   "metadata": {},
   "outputs": [
    {
     "data": {
      "text/html": [
       "<div>\n",
       "<style scoped>\n",
       "    .dataframe tbody tr th:only-of-type {\n",
       "        vertical-align: middle;\n",
       "    }\n",
       "\n",
       "    .dataframe tbody tr th {\n",
       "        vertical-align: top;\n",
       "    }\n",
       "\n",
       "    .dataframe thead th {\n",
       "        text-align: right;\n",
       "    }\n",
       "</style>\n",
       "<table border=\"1\" class=\"dataframe\">\n",
       "  <thead>\n",
       "    <tr style=\"text-align: right;\">\n",
       "      <th></th>\n",
       "      <th>encounter_id</th>\n",
       "      <th>patient_nbr</th>\n",
       "      <th>race</th>\n",
       "      <th>gender</th>\n",
       "      <th>age</th>\n",
       "      <th>weight</th>\n",
       "      <th>admission_type_id</th>\n",
       "      <th>discharge_disposition_id</th>\n",
       "      <th>admission_source_id</th>\n",
       "      <th>time_in_hospital</th>\n",
       "      <th>payer_code</th>\n",
       "      <th>medical_specialty</th>\n",
       "      <th>primary_diagnosis_code</th>\n",
       "      <th>other_diagnosis_codes</th>\n",
       "      <th>number_outpatient</th>\n",
       "      <th>number_inpatient</th>\n",
       "      <th>number_emergency</th>\n",
       "      <th>num_lab_procedures</th>\n",
       "      <th>number_diagnoses</th>\n",
       "      <th>num_medications</th>\n",
       "      <th>num_procedures</th>\n",
       "      <th>ndc_code</th>\n",
       "      <th>max_glu_serum</th>\n",
       "      <th>A1Cresult</th>\n",
       "      <th>change</th>\n",
       "      <th>readmitted</th>\n",
       "    </tr>\n",
       "  </thead>\n",
       "  <tbody>\n",
       "    <tr>\n",
       "      <th>0</th>\n",
       "      <td>2278392</td>\n",
       "      <td>8222157</td>\n",
       "      <td>Caucasian</td>\n",
       "      <td>Female</td>\n",
       "      <td>[0-10)</td>\n",
       "      <td>?</td>\n",
       "      <td>6</td>\n",
       "      <td>25</td>\n",
       "      <td>1</td>\n",
       "      <td>1</td>\n",
       "      <td>?</td>\n",
       "      <td>Pediatrics-Endocrinology</td>\n",
       "      <td>250.83</td>\n",
       "      <td>?|?</td>\n",
       "      <td>0</td>\n",
       "      <td>0</td>\n",
       "      <td>0</td>\n",
       "      <td>41</td>\n",
       "      <td>1</td>\n",
       "      <td>1</td>\n",
       "      <td>0</td>\n",
       "      <td>NaN</td>\n",
       "      <td>None</td>\n",
       "      <td>None</td>\n",
       "      <td>No</td>\n",
       "      <td>NO</td>\n",
       "    </tr>\n",
       "    <tr>\n",
       "      <th>1</th>\n",
       "      <td>149190</td>\n",
       "      <td>55629189</td>\n",
       "      <td>Caucasian</td>\n",
       "      <td>Female</td>\n",
       "      <td>[10-20)</td>\n",
       "      <td>?</td>\n",
       "      <td>1</td>\n",
       "      <td>1</td>\n",
       "      <td>7</td>\n",
       "      <td>3</td>\n",
       "      <td>?</td>\n",
       "      <td>?</td>\n",
       "      <td>276</td>\n",
       "      <td>250.01|255</td>\n",
       "      <td>0</td>\n",
       "      <td>0</td>\n",
       "      <td>0</td>\n",
       "      <td>59</td>\n",
       "      <td>9</td>\n",
       "      <td>18</td>\n",
       "      <td>0</td>\n",
       "      <td>68071-1701</td>\n",
       "      <td>None</td>\n",
       "      <td>None</td>\n",
       "      <td>Ch</td>\n",
       "      <td>&gt;30</td>\n",
       "    </tr>\n",
       "    <tr>\n",
       "      <th>2</th>\n",
       "      <td>64410</td>\n",
       "      <td>86047875</td>\n",
       "      <td>AfricanAmerican</td>\n",
       "      <td>Female</td>\n",
       "      <td>[20-30)</td>\n",
       "      <td>?</td>\n",
       "      <td>1</td>\n",
       "      <td>1</td>\n",
       "      <td>7</td>\n",
       "      <td>2</td>\n",
       "      <td>?</td>\n",
       "      <td>?</td>\n",
       "      <td>648</td>\n",
       "      <td>250|V27</td>\n",
       "      <td>2</td>\n",
       "      <td>1</td>\n",
       "      <td>0</td>\n",
       "      <td>11</td>\n",
       "      <td>6</td>\n",
       "      <td>13</td>\n",
       "      <td>5</td>\n",
       "      <td>0378-1110</td>\n",
       "      <td>None</td>\n",
       "      <td>None</td>\n",
       "      <td>No</td>\n",
       "      <td>NO</td>\n",
       "    </tr>\n",
       "    <tr>\n",
       "      <th>3</th>\n",
       "      <td>500364</td>\n",
       "      <td>82442376</td>\n",
       "      <td>Caucasian</td>\n",
       "      <td>Male</td>\n",
       "      <td>[30-40)</td>\n",
       "      <td>?</td>\n",
       "      <td>1</td>\n",
       "      <td>1</td>\n",
       "      <td>7</td>\n",
       "      <td>2</td>\n",
       "      <td>?</td>\n",
       "      <td>?</td>\n",
       "      <td>8</td>\n",
       "      <td>250.43|403</td>\n",
       "      <td>0</td>\n",
       "      <td>0</td>\n",
       "      <td>0</td>\n",
       "      <td>44</td>\n",
       "      <td>7</td>\n",
       "      <td>16</td>\n",
       "      <td>1</td>\n",
       "      <td>68071-1701</td>\n",
       "      <td>None</td>\n",
       "      <td>None</td>\n",
       "      <td>Ch</td>\n",
       "      <td>NO</td>\n",
       "    </tr>\n",
       "    <tr>\n",
       "      <th>4</th>\n",
       "      <td>16680</td>\n",
       "      <td>42519267</td>\n",
       "      <td>Caucasian</td>\n",
       "      <td>Male</td>\n",
       "      <td>[40-50)</td>\n",
       "      <td>?</td>\n",
       "      <td>1</td>\n",
       "      <td>1</td>\n",
       "      <td>7</td>\n",
       "      <td>1</td>\n",
       "      <td>?</td>\n",
       "      <td>?</td>\n",
       "      <td>197</td>\n",
       "      <td>157|250</td>\n",
       "      <td>0</td>\n",
       "      <td>0</td>\n",
       "      <td>0</td>\n",
       "      <td>51</td>\n",
       "      <td>5</td>\n",
       "      <td>8</td>\n",
       "      <td>0</td>\n",
       "      <td>0049-4110</td>\n",
       "      <td>None</td>\n",
       "      <td>None</td>\n",
       "      <td>Ch</td>\n",
       "      <td>NO</td>\n",
       "    </tr>\n",
       "  </tbody>\n",
       "</table>\n",
       "</div>"
      ],
      "text/plain": [
       "   encounter_id  patient_nbr             race  gender      age weight  \\\n",
       "0       2278392      8222157        Caucasian  Female   [0-10)      ?   \n",
       "1        149190     55629189        Caucasian  Female  [10-20)      ?   \n",
       "2         64410     86047875  AfricanAmerican  Female  [20-30)      ?   \n",
       "3        500364     82442376        Caucasian    Male  [30-40)      ?   \n",
       "4         16680     42519267        Caucasian    Male  [40-50)      ?   \n",
       "\n",
       "   admission_type_id  discharge_disposition_id  admission_source_id  \\\n",
       "0                  6                        25                    1   \n",
       "1                  1                         1                    7   \n",
       "2                  1                         1                    7   \n",
       "3                  1                         1                    7   \n",
       "4                  1                         1                    7   \n",
       "\n",
       "   time_in_hospital payer_code         medical_specialty  \\\n",
       "0                 1          ?  Pediatrics-Endocrinology   \n",
       "1                 3          ?                         ?   \n",
       "2                 2          ?                         ?   \n",
       "3                 2          ?                         ?   \n",
       "4                 1          ?                         ?   \n",
       "\n",
       "  primary_diagnosis_code other_diagnosis_codes  number_outpatient  \\\n",
       "0                 250.83                   ?|?                  0   \n",
       "1                    276            250.01|255                  0   \n",
       "2                    648               250|V27                  2   \n",
       "3                      8            250.43|403                  0   \n",
       "4                    197               157|250                  0   \n",
       "\n",
       "   number_inpatient  number_emergency  num_lab_procedures  number_diagnoses  \\\n",
       "0                 0                 0                  41                 1   \n",
       "1                 0                 0                  59                 9   \n",
       "2                 1                 0                  11                 6   \n",
       "3                 0                 0                  44                 7   \n",
       "4                 0                 0                  51                 5   \n",
       "\n",
       "   num_medications  num_procedures    ndc_code max_glu_serum A1Cresult change  \\\n",
       "0                1               0         NaN          None      None     No   \n",
       "1               18               0  68071-1701          None      None     Ch   \n",
       "2               13               5   0378-1110          None      None     No   \n",
       "3               16               1  68071-1701          None      None     Ch   \n",
       "4                8               0   0049-4110          None      None     Ch   \n",
       "\n",
       "  readmitted  \n",
       "0         NO  \n",
       "1        >30  \n",
       "2         NO  \n",
       "3         NO  \n",
       "4         NO  "
      ]
     },
     "execution_count": 5,
     "metadata": {},
     "output_type": "execute_result"
    }
   ],
   "source": [
    "df.head()"
   ]
  },
  {
   "cell_type": "code",
   "execution_count": 6,
   "metadata": {},
   "outputs": [],
   "source": [
    "# substitude Nan in ndc_code with ? for uniformity\n",
    "condition = df['ndc_code'].isna()\n",
    "\n",
    "df.loc[condition, 'ndc_code'] = '?'"
   ]
  },
  {
   "cell_type": "markdown",
   "metadata": {},
   "source": [
    "## Determine Level of Dataset (Line or Encounter)"
   ]
  },
  {
   "cell_type": "markdown",
   "metadata": {},
   "source": [
    "**Question 1**: Based off of analysis of the data, what level is this dataset? Is it at the line or encounter level? Are there any key fields besides the encounter_id and patient_nbr fields that we should use to aggregate on? Knowing this information will help inform us what level of aggregation is necessary for future steps and is a step that is often overlooked. "
   ]
  },
  {
   "cell_type": "code",
   "execution_count": 7,
   "metadata": {},
   "outputs": [
    {
     "name": "stdout",
     "output_type": "stream",
     "text": [
      "Number of records: 143424\n",
      "Number of distinct encounter: 101766\n"
     ]
    }
   ],
   "source": [
    "print('Number of records:', df.shape[0])\n",
    "\n",
    "print('Number of distinct encounter:', df['encounter_id'].nunique())"
   ]
  },
  {
   "cell_type": "markdown",
   "metadata": {},
   "source": [
    "**Response 1**: the dataset is at **line level**. There are 143424 rows and only 101766 distinct encounter_id, therefore for some encounter_id we have more than 1 rows."
   ]
  },
  {
   "cell_type": "markdown",
   "metadata": {},
   "source": [
    "## Analyze Dataset"
   ]
  },
  {
   "cell_type": "markdown",
   "metadata": {},
   "source": [
    "**Question 2**: Utilizing the library of your choice (recommend Pandas and Seaborn or matplotlib though), perform exploratory data analysis on the dataset. In particular be sure to address the following questions:  \n",
    "    - a. Field(s) with high amount of missing/zero values\n",
    "    - b. Based off the frequency histogram for each numerical field, which numerical field(s) has/have a Gaussian(normal) distribution shape?\n",
    "    - c. Which field(s) have high cardinality and why (HINT: ndc_code is one feature)\n",
    "    - d. Please describe the demographic distributions in the dataset for the age and gender fields.\n",
    "    \n"
   ]
  },
  {
   "cell_type": "markdown",
   "metadata": {},
   "source": [
    "**OPTIONAL**: Use the Tensorflow Data Validation and Analysis library to complete. \n",
    "- The Tensorflow Data Validation and Analysis library(https://www.tensorflow.org/tfx/data_validation/get_started) is a useful tool for analyzing and summarizing dataset statistics. It is especially useful because it can scale to large datasets that do not fit into memory. \n",
    "- Note that there are some bugs that are still being resolved with Chrome v80 and we have moved away from using this for the project. "
   ]
  },
  {
   "cell_type": "markdown",
   "metadata": {},
   "source": [
    "### compute num of missing values"
   ]
  },
  {
   "cell_type": "code",
   "execution_count": 8,
   "metadata": {},
   "outputs": [
    {
     "data": {
      "text/html": [
       "<div>\n",
       "<style scoped>\n",
       "    .dataframe tbody tr th:only-of-type {\n",
       "        vertical-align: middle;\n",
       "    }\n",
       "\n",
       "    .dataframe tbody tr th {\n",
       "        vertical-align: top;\n",
       "    }\n",
       "\n",
       "    .dataframe thead th {\n",
       "        text-align: right;\n",
       "    }\n",
       "</style>\n",
       "<table border=\"1\" class=\"dataframe\">\n",
       "  <thead>\n",
       "    <tr style=\"text-align: right;\">\n",
       "      <th></th>\n",
       "      <th>columns</th>\n",
       "      <th># of nulls</th>\n",
       "      <th>perc</th>\n",
       "    </tr>\n",
       "  </thead>\n",
       "  <tbody>\n",
       "    <tr>\n",
       "      <th>0</th>\n",
       "      <td>race</td>\n",
       "      <td>3309</td>\n",
       "      <td>2.3</td>\n",
       "    </tr>\n",
       "    <tr>\n",
       "      <th>1</th>\n",
       "      <td>weight</td>\n",
       "      <td>139122</td>\n",
       "      <td>97.0</td>\n",
       "    </tr>\n",
       "    <tr>\n",
       "      <th>2</th>\n",
       "      <td>payer_code</td>\n",
       "      <td>54190</td>\n",
       "      <td>37.8</td>\n",
       "    </tr>\n",
       "    <tr>\n",
       "      <th>3</th>\n",
       "      <td>medical_specialty</td>\n",
       "      <td>69463</td>\n",
       "      <td>48.4</td>\n",
       "    </tr>\n",
       "    <tr>\n",
       "      <th>4</th>\n",
       "      <td>ndc_code</td>\n",
       "      <td>23462</td>\n",
       "      <td>16.4</td>\n",
       "    </tr>\n",
       "    <tr>\n",
       "      <th>5</th>\n",
       "      <td>other_diagnosis_codes</td>\n",
       "      <td>340</td>\n",
       "      <td>0.2</td>\n",
       "    </tr>\n",
       "    <tr>\n",
       "      <th>6</th>\n",
       "      <td>max_glu_serum</td>\n",
       "      <td>136409</td>\n",
       "      <td>95.1</td>\n",
       "    </tr>\n",
       "    <tr>\n",
       "      <th>7</th>\n",
       "      <td>A1Cresult</td>\n",
       "      <td>117650</td>\n",
       "      <td>82.0</td>\n",
       "    </tr>\n",
       "  </tbody>\n",
       "</table>\n",
       "</div>"
      ],
      "text/plain": [
       "                 columns  # of nulls  perc\n",
       "0                   race        3309   2.3\n",
       "1                 weight      139122  97.0\n",
       "2             payer_code       54190  37.8\n",
       "3      medical_specialty       69463  48.4\n",
       "4               ndc_code       23462  16.4\n",
       "5  other_diagnosis_codes         340   0.2\n",
       "6          max_glu_serum      136409  95.1\n",
       "7              A1Cresult      117650  82.0"
      ]
     },
     "execution_count": 8,
     "metadata": {},
     "output_type": "execute_result"
    }
   ],
   "source": [
    "# field with high number of missing value\n",
    "\n",
    "# we have missing values in: race, weight, payer_code, medical_specialty, other_diagnosis_code, ndc_code, max_glu_serum, A1CResult\n",
    "\n",
    "# fields where missing values have been codified as ?\n",
    "vet_col = ['race', 'weight', 'payer_code', 'medical_specialty', 'ndc_code', \n",
    "       'other_diagnosis_codes','max_glu_serum','A1Cresult']\n",
    "# char used to code null\n",
    "vet_char_null = ['?','?','?','?','?', '?|?', 'None', 'None']\n",
    "\n",
    "# in student_utils\n",
    "df_null = count_missing_values(df, vet_char_null, vet_col)\n",
    "\n",
    "df_null.head(len(vet_col))"
   ]
  },
  {
   "cell_type": "markdown",
   "metadata": {},
   "source": [
    "### compute num. of zeros"
   ]
  },
  {
   "cell_type": "code",
   "execution_count": 9,
   "metadata": {},
   "outputs": [
    {
     "data": {
      "text/html": [
       "<div>\n",
       "<style scoped>\n",
       "    .dataframe tbody tr th:only-of-type {\n",
       "        vertical-align: middle;\n",
       "    }\n",
       "\n",
       "    .dataframe tbody tr th {\n",
       "        vertical-align: top;\n",
       "    }\n",
       "\n",
       "    .dataframe thead th {\n",
       "        text-align: right;\n",
       "    }\n",
       "</style>\n",
       "<table border=\"1\" class=\"dataframe\">\n",
       "  <thead>\n",
       "    <tr style=\"text-align: right;\">\n",
       "      <th></th>\n",
       "      <th>columns</th>\n",
       "      <th># of zeros</th>\n",
       "      <th>perc</th>\n",
       "    </tr>\n",
       "  </thead>\n",
       "  <tbody>\n",
       "    <tr>\n",
       "      <th>0</th>\n",
       "      <td>number_inpatient</td>\n",
       "      <td>96698</td>\n",
       "      <td>67.4</td>\n",
       "    </tr>\n",
       "    <tr>\n",
       "      <th>1</th>\n",
       "      <td>number_outpatient</td>\n",
       "      <td>120027</td>\n",
       "      <td>83.7</td>\n",
       "    </tr>\n",
       "    <tr>\n",
       "      <th>2</th>\n",
       "      <td>number_emergency</td>\n",
       "      <td>127444</td>\n",
       "      <td>88.9</td>\n",
       "    </tr>\n",
       "    <tr>\n",
       "      <th>3</th>\n",
       "      <td>num_lab_procedures</td>\n",
       "      <td>0</td>\n",
       "      <td>0.0</td>\n",
       "    </tr>\n",
       "    <tr>\n",
       "      <th>4</th>\n",
       "      <td>num_procedures</td>\n",
       "      <td>65788</td>\n",
       "      <td>45.9</td>\n",
       "    </tr>\n",
       "    <tr>\n",
       "      <th>5</th>\n",
       "      <td>number_diagnoses</td>\n",
       "      <td>0</td>\n",
       "      <td>0.0</td>\n",
       "    </tr>\n",
       "    <tr>\n",
       "      <th>6</th>\n",
       "      <td>num_medications</td>\n",
       "      <td>0</td>\n",
       "      <td>0.0</td>\n",
       "    </tr>\n",
       "  </tbody>\n",
       "</table>\n",
       "</div>"
      ],
      "text/plain": [
       "              columns  # of zeros  perc\n",
       "0    number_inpatient       96698  67.4\n",
       "1   number_outpatient      120027  83.7\n",
       "2    number_emergency      127444  88.9\n",
       "3  num_lab_procedures           0   0.0\n",
       "4      num_procedures       65788  45.9\n",
       "5    number_diagnoses           0   0.0\n",
       "6     num_medications           0   0.0"
      ]
     },
     "execution_count": 9,
     "metadata": {},
     "output_type": "execute_result"
    }
   ],
   "source": [
    "# field with high number of zeros\n",
    "\n",
    "vet_col = ['number_inpatient', 'number_outpatient', 'number_emergency', 'num_lab_procedures', 'num_procedures', \n",
    "       'number_diagnoses', 'num_medications']\n",
    "\n",
    "# in student_utils\n",
    "df_zeros = count_zeros(df, vet_col)\n",
    "\n",
    "df_zeros.head(len(vet_col))"
   ]
  },
  {
   "cell_type": "markdown",
   "metadata": {},
   "source": [
    "### Comment: we have 3 columns where the percentage of missing values is > 50%.\n",
    "\n",
    "We will drop these columns (weight, max_glu_serum, A1Cresult) , not considering them for the regression model\n",
    "\n",
    "### Comment: we have some numerical features with a high percentage of zeros (number_inpatients, outpatients, emergency, num_procedure) but probably this is not sign of missing values coded as zero.\n",
    "\n",
    "### Compute cardinality of categorical columns"
   ]
  },
  {
   "cell_type": "code",
   "execution_count": 10,
   "metadata": {},
   "outputs": [
    {
     "data": {
      "text/html": [
       "<div>\n",
       "<style scoped>\n",
       "    .dataframe tbody tr th:only-of-type {\n",
       "        vertical-align: middle;\n",
       "    }\n",
       "\n",
       "    .dataframe tbody tr th {\n",
       "        vertical-align: top;\n",
       "    }\n",
       "\n",
       "    .dataframe thead th {\n",
       "        text-align: right;\n",
       "    }\n",
       "</style>\n",
       "<table border=\"1\" class=\"dataframe\">\n",
       "  <thead>\n",
       "    <tr style=\"text-align: right;\">\n",
       "      <th></th>\n",
       "      <th>column</th>\n",
       "      <th>cardinality</th>\n",
       "    </tr>\n",
       "  </thead>\n",
       "  <tbody>\n",
       "    <tr>\n",
       "      <th>race</th>\n",
       "      <td>race</td>\n",
       "      <td>6</td>\n",
       "    </tr>\n",
       "    <tr>\n",
       "      <th>gender</th>\n",
       "      <td>gender</td>\n",
       "      <td>3</td>\n",
       "    </tr>\n",
       "    <tr>\n",
       "      <th>age</th>\n",
       "      <td>age</td>\n",
       "      <td>10</td>\n",
       "    </tr>\n",
       "    <tr>\n",
       "      <th>weight</th>\n",
       "      <td>weight</td>\n",
       "      <td>10</td>\n",
       "    </tr>\n",
       "    <tr>\n",
       "      <th>admission_type_id</th>\n",
       "      <td>admission_type_id</td>\n",
       "      <td>8</td>\n",
       "    </tr>\n",
       "    <tr>\n",
       "      <th>discharge_disposition_id</th>\n",
       "      <td>discharge_disposition_id</td>\n",
       "      <td>26</td>\n",
       "    </tr>\n",
       "    <tr>\n",
       "      <th>admission_source_id</th>\n",
       "      <td>admission_source_id</td>\n",
       "      <td>17</td>\n",
       "    </tr>\n",
       "    <tr>\n",
       "      <th>payer_code</th>\n",
       "      <td>payer_code</td>\n",
       "      <td>18</td>\n",
       "    </tr>\n",
       "    <tr>\n",
       "      <th>medical_specialty</th>\n",
       "      <td>medical_specialty</td>\n",
       "      <td>73</td>\n",
       "    </tr>\n",
       "    <tr>\n",
       "      <th>primary_diagnosis_code</th>\n",
       "      <td>primary_diagnosis_code</td>\n",
       "      <td>717</td>\n",
       "    </tr>\n",
       "    <tr>\n",
       "      <th>other_diagnosis_codes</th>\n",
       "      <td>other_diagnosis_codes</td>\n",
       "      <td>19374</td>\n",
       "    </tr>\n",
       "    <tr>\n",
       "      <th>ndc_code</th>\n",
       "      <td>ndc_code</td>\n",
       "      <td>252</td>\n",
       "    </tr>\n",
       "    <tr>\n",
       "      <th>max_glu_serum</th>\n",
       "      <td>max_glu_serum</td>\n",
       "      <td>4</td>\n",
       "    </tr>\n",
       "    <tr>\n",
       "      <th>A1Cresult</th>\n",
       "      <td>A1Cresult</td>\n",
       "      <td>4</td>\n",
       "    </tr>\n",
       "    <tr>\n",
       "      <th>change</th>\n",
       "      <td>change</td>\n",
       "      <td>2</td>\n",
       "    </tr>\n",
       "    <tr>\n",
       "      <th>readmitted</th>\n",
       "      <td>readmitted</td>\n",
       "      <td>3</td>\n",
       "    </tr>\n",
       "  </tbody>\n",
       "</table>\n",
       "</div>"
      ],
      "text/plain": [
       "                                            column  cardinality\n",
       "race                                          race            6\n",
       "gender                                      gender            3\n",
       "age                                            age           10\n",
       "weight                                      weight           10\n",
       "admission_type_id                admission_type_id            8\n",
       "discharge_disposition_id  discharge_disposition_id           26\n",
       "admission_source_id            admission_source_id           17\n",
       "payer_code                              payer_code           18\n",
       "medical_specialty                medical_specialty           73\n",
       "primary_diagnosis_code      primary_diagnosis_code          717\n",
       "other_diagnosis_codes        other_diagnosis_codes        19374\n",
       "ndc_code                                  ndc_code          252\n",
       "max_glu_serum                        max_glu_serum            4\n",
       "A1Cresult                                A1Cresult            4\n",
       "change                                      change            2\n",
       "readmitted                              readmitted            3"
      ]
     },
     "execution_count": 10,
     "metadata": {},
     "output_type": "execute_result"
    }
   ],
   "source": [
    "cat_feature_list = ['race', 'gender', 'age', 'weight', 'admission_type_id', 'discharge_disposition_id', 'admission_source_id',\n",
    "                    'payer_code', 'medical_specialty', \n",
    "                    'primary_diagnosis_code', 'other_diagnosis_codes', \n",
    "                            'ndc_code', 'max_glu_serum', 'A1Cresult','change', 'readmitted']\n",
    "\n",
    "# in student_utils\n",
    "count_unique_values(df, cat_feature_list)"
   ]
  },
  {
   "cell_type": "markdown",
   "metadata": {},
   "source": [
    "### Comment: we have several field with high and very high cardinality: medical_specialty, primary_diagnosis_code, other_diagnosis_code, ndc_code"
   ]
  },
  {
   "cell_type": "markdown",
   "metadata": {},
   "source": [
    "### analyze distribution of numerical columns (features + time_in_hospital)"
   ]
  },
  {
   "cell_type": "code",
   "execution_count": 11,
   "metadata": {},
   "outputs": [
    {
     "data": {
      "image/png": "[encoded data removed]",
      "text/plain": [
       "<Figure size 1152x720 with 11 Axes>"
      ]
     },
     "metadata": {},
     "output_type": "display_data"
    }
   ],
   "source": [
    "# compute histograms for each numerical field\n",
    "\n",
    "numerical_feature_list = ['admission_type_id', 'discharge_disposition_id', 'admission_source_id', \n",
    "                          'number_outpatient', 'number_inpatient', 'number_emergency', \n",
    "                          'num_lab_procedures',\n",
    "                         'number_diagnoses', 'num_medications', 'num_procedures', 'time_in_hospital']\n",
    "\n",
    "# number of bins for corresponding hist.\n",
    "vet_bins = [8, 26, 16, 30, 20, 20, 100, 16, 70, 5, 12]\n",
    "\n",
    "\n",
    "\n",
    "plot_hist_numerical(df, numerical_feature_list, vet_bins)"
   ]
  },
  {
   "cell_type": "markdown",
   "metadata": {},
   "source": [
    "### Comment: num_lab_procedures, num_medications have a gaussian distribution. For no columns ditribution is uniform"
   ]
  },
  {
   "cell_type": "markdown",
   "metadata": {},
   "source": [
    "## Reduce Dimensionality of the NDC Code Feature"
   ]
  },
  {
   "cell_type": "markdown",
   "metadata": {},
   "source": [
    "**Question 3**: NDC codes are a common format to represent the wide variety of drugs that are prescribed for patient care in the United States. The challenge is that there are many codes that map to the same or similar drug. You are provided with the ndc drug lookup file https://github.com/udacity/nd320-c1-emr-data-starter/blob/master/project/data_schema_references/ndc_lookup_table.csv derived from the National Drug Codes List site(https://ndclist.com/). Please use this file to come up with a way to reduce the dimensionality of this field and create a new field in the dataset called \"generic_drug_name\" in the output dataframe. "
   ]
  },
  {
   "cell_type": "code",
   "execution_count": 12,
   "metadata": {},
   "outputs": [],
   "source": [
    "#NDC code lookup file\n",
    "ndc_code_path = \"./medication_lookup_tables/final_ndc_lookup_table\"\n",
    "ndc_code_df = pd.read_csv(ndc_code_path)"
   ]
  },
  {
   "cell_type": "code",
   "execution_count": 13,
   "metadata": {},
   "outputs": [],
   "source": [
    "reduce_dim_df = reduce_dimension_ndc(df, ndc_code_df)"
   ]
  },
  {
   "cell_type": "code",
   "execution_count": 14,
   "metadata": {},
   "outputs": [],
   "source": [
    "# Number of unique values should be less for the new output field\n",
    "assert df['ndc_code'].nunique() > reduce_dim_df['generic_drug_name'].nunique()"
   ]
  },
  {
   "cell_type": "markdown",
   "metadata": {},
   "source": [
    "## Select First Encounter for each Patient "
   ]
  },
  {
   "cell_type": "markdown",
   "metadata": {},
   "source": [
    "**Question 4**: In order to simplify the aggregation of data for the model, we will only select the first encounter for each patient in the dataset. This is to reduce the risk of data leakage of future patient encounters and to reduce complexity of the data transformation and modeling steps. We will assume that sorting in numerical order on the encounter_id provides the time horizon for determining which encounters come before and after another."
   ]
  },
  {
   "cell_type": "code",
   "execution_count": 15,
   "metadata": {},
   "outputs": [],
   "source": [
    "# first encounter for a patient is the encounter with lowest encounter_id\n",
    "first_encounter_df = select_first_encounter(reduce_dim_df)"
   ]
  },
  {
   "cell_type": "code",
   "execution_count": 16,
   "metadata": {},
   "outputs": [
    {
     "name": "stdout",
     "output_type": "stream",
     "text": [
      "Number of unique patients:71518\n",
      "Number of unique encounters:71518\n",
      "\n",
      "Tests passed!!\n"
     ]
    }
   ],
   "source": [
    "# unique patients in transformed dataset\n",
    "unique_patients = first_encounter_df['patient_nbr'].nunique()\n",
    "print(\"Number of unique patients:{}\".format(unique_patients))\n",
    "\n",
    "# unique encounters in transformed dataset\n",
    "unique_encounters = first_encounter_df['encounter_id'].nunique()\n",
    "print(\"Number of unique encounters:{}\".format(unique_encounters))\n",
    "\n",
    "original_unique_patient_number = reduce_dim_df['patient_nbr'].nunique()\n",
    "# number of unique patients should be equal to the number of unique encounters and patients in the final dataset\n",
    "assert original_unique_patient_number == unique_patients\n",
    "assert original_unique_patient_number == unique_encounters\n",
    "print('')\n",
    "print(\"Tests passed!!\")"
   ]
  },
  {
   "cell_type": "markdown",
   "metadata": {},
   "source": [
    "## Aggregate Dataset to Right Level for Modeling "
   ]
  },
  {
   "cell_type": "markdown",
   "metadata": {},
   "source": [
    "In order to provide a broad scope of the steps and to prevent students from getting stuck with data transformations, we have selected the aggregation columns and provided a function to build the dataset at the appropriate level. The 'aggregate_dataset\" function that you can find in the 'utils.py' file can take the preceding dataframe with the 'generic_drug_name' field and transform the data appropriately for the project. \n",
    "\n",
    "To make it simpler for students, we are creating dummy columns for each unique generic drug name and adding those are input features to the model. There are other options for data representation but this is out of scope for the time constraints of the course."
   ]
  },
  {
   "cell_type": "code",
   "execution_count": 17,
   "metadata": {},
   "outputs": [],
   "source": [
    "exclusion_list = ['generic_drug_name']\n",
    "grouping_field_list = [c for c in first_encounter_df.columns if c not in exclusion_list]\n",
    "agg_drug_df, ndc_col_list = aggregate_dataset(first_encounter_df, grouping_field_list, 'generic_drug_name')"
   ]
  },
  {
   "cell_type": "code",
   "execution_count": 18,
   "metadata": {},
   "outputs": [],
   "source": [
    "assert len(agg_drug_df) == agg_drug_df['patient_nbr'].nunique() == agg_drug_df['encounter_id'].nunique()"
   ]
  },
  {
   "cell_type": "markdown",
   "metadata": {},
   "source": [
    "## Prepare Fields and Cast Dataset "
   ]
  },
  {
   "cell_type": "markdown",
   "metadata": {},
   "source": [
    "### Feature Selection"
   ]
  },
  {
   "cell_type": "markdown",
   "metadata": {},
   "source": [
    "**Question 5**: After you have aggregated the dataset to the right level, we can do feature selection (we will include the ndc_col_list, dummy column features too). In the block below, please select the categorical and numerical features that you will use for the model, so that we can create a dataset subset. \n",
    "\n",
    "For the payer_code and weight fields, please provide whether you think we should include/exclude the field in our model and give a justification/rationale for this based off of the statistics of the data. Feel free to use visualizations or summary statistics to support your choice."
   ]
  },
  {
   "cell_type": "markdown",
   "metadata": {},
   "source": [
    "Student response: **weight** is missing in more than 97%. It is unpleasant because it could be a feature correlated to the length of hospitalization (higher the weight more severe the diabetes). **payer_code** is missing in 38%. I don't think it has much to do with the severity of the case and required hospitalization time. We can choose to remove it."
   ]
  },
  {
   "cell_type": "code",
   "execution_count": 19,
   "metadata": {},
   "outputs": [],
   "source": [
    "'''\n",
    "Please update the list to include the features you think are appropriate for the model \n",
    "and the field that we will be using to train the model. There are three required demographic features for the model \n",
    "and I have inserted a list with them already in the categorical list. \n",
    "These will be required for later steps when analyzing data splits and model biases.\n",
    "'''\n",
    "required_demo_col_list = ['race', 'gender', 'age']\n",
    "\n",
    "# for now I remove primary_diagnosis_code and other_diagnosis_cod for their high cardinalidy\n",
    "# that would require an approach diferent from one-hot encoding\n",
    "# student_categorical_col_list = [ 'primary_diagnosis_code', 'other_diagnosis_codes', 'change', \n",
    "student_categorical_col_list = [ 'change', \n",
    "                                'readmitted' ] + required_demo_col_list + ndc_col_list\n",
    "student_numerical_col_list = [ 'number_outpatient', 'number_inpatient', 'number_emergency',\n",
    "                             'num_lab_procedures', 'number_diagnoses', 'num_medications',\n",
    "                             'num_procedures']\n",
    "\n",
    "PREDICTOR_FIELD = 'time_in_hospital'"
   ]
  },
  {
   "cell_type": "code",
   "execution_count": 20,
   "metadata": {},
   "outputs": [],
   "source": [
    "def select_model_features(df, categorical_col_list, numerical_col_list, PREDICTOR_FIELD, grouping_key='patient_nbr'):\n",
    "    selected_col_list = [grouping_key] + [PREDICTOR_FIELD] + categorical_col_list + numerical_col_list   \n",
    "    return agg_drug_df[selected_col_list]"
   ]
  },
  {
   "cell_type": "code",
   "execution_count": 21,
   "metadata": {},
   "outputs": [],
   "source": [
    "selected_features_df = select_model_features(agg_drug_df, student_categorical_col_list, student_numerical_col_list,\n",
    "                                            PREDICTOR_FIELD)"
   ]
  },
  {
   "cell_type": "markdown",
   "metadata": {},
   "source": [
    "### Preprocess Dataset - Casting and Imputing  "
   ]
  },
  {
   "cell_type": "markdown",
   "metadata": {},
   "source": [
    "We will cast and impute the dataset before splitting so that we do not have to repeat these steps across the splits in the next step. For imputing, there can be deeper analysis into which features to impute and how to impute but for the sake of time, we are taking a general strategy of imputing zero for only numerical features. \n",
    "\n",
    "OPTIONAL: What are some potential issues with this approach? Can you recommend a better way and also implement it?"
   ]
  },
  {
   "cell_type": "code",
   "execution_count": 22,
   "metadata": {},
   "outputs": [],
   "source": [
    "%autoreload\n",
    "\n",
    "processed_df = preprocess_df(selected_features_df, student_categorical_col_list, \n",
    "        student_numerical_col_list, PREDICTOR_FIELD, categorical_impute_value='nan', numerical_impute_value=0)"
   ]
  },
  {
   "cell_type": "markdown",
   "metadata": {},
   "source": [
    "## Split Dataset into Train, Validation, and Test Partitions"
   ]
  },
  {
   "cell_type": "markdown",
   "metadata": {},
   "source": [
    "**Question 6**: In order to prepare the data for being trained and evaluated by a deep learning model, we will split the dataset into three partitions, with the validation partition used for optimizing the model hyperparameters during training. One of the key parts is that we need to be sure that the data does not accidently leak across partitions.\n",
    "\n",
    "Please complete the function below to split the input dataset into three partitions(train, validation, test) with the following requirements.\n",
    "- Approximately 60%/20%/20%  train/validation/test split\n",
    "- Randomly sample different patients into each data partition\n",
    "- **IMPORTANT** Make sure that a patient's data is not in more than one partition, so that we can avoid possible data leakage.\n",
    "- Make sure that the total number of unique patients across the splits is equal to the total number of unique patients in the original dataset\n",
    "- Total number of rows in original dataset = sum of rows across all three dataset partitions"
   ]
  },
  {
   "cell_type": "code",
   "execution_count": 23,
   "metadata": {},
   "outputs": [
    {
     "name": "stdout",
     "output_type": "stream",
     "text": [
      "Number of records in Train 42910 , fraction is: 60.0 %\n",
      "Number of records in Validation 14304 , fraction is: 20.0 %\n",
      "Number of records in Test 14304 , fraction is: 20.0 %\n"
     ]
    }
   ],
   "source": [
    "%autoreload\n",
    "\n",
    "d_train, d_val, d_test = patient_dataset_splitter(processed_df, 'patient_nbr')"
   ]
  },
  {
   "cell_type": "code",
   "execution_count": 24,
   "metadata": {},
   "outputs": [
    {
     "name": "stdout",
     "output_type": "stream",
     "text": [
      "Test passed for number of total rows equal!\n"
     ]
    }
   ],
   "source": [
    "assert len(d_train) + len(d_val) + len(d_test) == len(processed_df)\n",
    "print(\"Test passed for number of total rows equal!\")"
   ]
  },
  {
   "cell_type": "code",
   "execution_count": 25,
   "metadata": {},
   "outputs": [
    {
     "name": "stdout",
     "output_type": "stream",
     "text": [
      "Test passed for number of unique patients being equal!\n"
     ]
    }
   ],
   "source": [
    "assert (d_train['patient_nbr'].nunique() + d_val['patient_nbr'].nunique() + d_test['patient_nbr'].nunique()) == agg_drug_df['patient_nbr'].nunique()\n",
    "print(\"Test passed for number of unique patients being equal!\")"
   ]
  },
  {
   "cell_type": "code",
   "execution_count": 27,
   "metadata": {},
   "outputs": [
    {
     "name": "stdout",
     "output_type": "stream",
     "text": [
      "Test passed for no intersection on patient_nbr between train, validation and test set\n"
     ]
    }
   ],
   "source": [
    "# check that there is no intersection between train, test, validation on patient_nbr\n",
    "\n",
    "# train, validation: check there are no common patients\n",
    "assert len(set(d_train['patient_nbr']).intersection(set(d_val['patient_nbr']))) == 0\n",
    "\n",
    "# train, test\n",
    "assert len(set(d_train['patient_nbr']).intersection(set(d_test['patient_nbr']))) == 0\n",
    "\n",
    "# val, test\n",
    "assert len(set(d_val['patient_nbr']).intersection(set(d_test['patient_nbr']))) == 0\n",
    "\n",
    "print(\"Test passed for no intersection on patient_nbr between train, validation and test set\")"
   ]
  },
  {
   "cell_type": "markdown",
   "metadata": {},
   "source": [
    "## Demographic Representation Analysis of Split"
   ]
  },
  {
   "cell_type": "markdown",
   "metadata": {},
   "source": [
    "After the split, we should check to see the distribution of key features/groups and make sure that there is representative samples across the partitions. The show_group_stats_viz function in the utils.py file can be used to group and visualize different groups and dataframe partitions."
   ]
  },
  {
   "cell_type": "markdown",
   "metadata": {},
   "source": [
    "### Label Distribution Across Partitions"
   ]
  },
  {
   "cell_type": "markdown",
   "metadata": {},
   "source": [
    "Below you can see the distributution of the label across your splits. Are the histogram distribution shapes similar across partitions?"
   ]
  },
  {
   "cell_type": "markdown",
   "metadata": {},
   "source": [
    "#### entire (global) dataset, before splitting"
   ]
  },
  {
   "cell_type": "code",
   "execution_count": 28,
   "metadata": {},
   "outputs": [
    {
     "name": "stdout",
     "output_type": "stream",
     "text": [
      "time_in_hospital\n",
      "1.0     10717\n",
      "2.0     12397\n",
      "3.0     12701\n",
      "4.0      9567\n",
      "5.0      6839\n",
      "6.0      5171\n",
      "7.0      3999\n",
      "8.0      2919\n",
      "9.0      1990\n",
      "10.0     1558\n",
      "11.0     1241\n",
      "12.0      955\n",
      "13.0      795\n",
      "14.0      669\n",
      "dtype: int64\n",
      "AxesSubplot(0.125,0.125;0.775x0.755)\n"
     ]
    },
    {
     "data": {
      "image/png": "[encoded data removed]",
      "text/plain": [
       "<Figure size 432x288 with 1 Axes>"
      ]
     },
     "metadata": {},
     "output_type": "display_data"
    }
   ],
   "source": [
    "show_group_stats_viz(processed_df, PREDICTOR_FIELD)"
   ]
  },
  {
   "cell_type": "markdown",
   "metadata": {},
   "source": [
    "#### train dataset"
   ]
  },
  {
   "cell_type": "code",
   "execution_count": 29,
   "metadata": {},
   "outputs": [
    {
     "name": "stdout",
     "output_type": "stream",
     "text": [
      "time_in_hospital\n",
      "1.0     6411\n",
      "2.0     7391\n",
      "3.0     7607\n",
      "4.0     5750\n",
      "5.0     4113\n",
      "6.0     3128\n",
      "7.0     2367\n",
      "8.0     1794\n",
      "9.0     1218\n",
      "10.0     952\n",
      "11.0     708\n",
      "12.0     581\n",
      "13.0     487\n",
      "14.0     403\n",
      "dtype: int64\n",
      "AxesSubplot(0.125,0.125;0.775x0.755)\n"
     ]
    },
    {
     "data": {
      "image/png": "[encoded data removed]",
      "text/plain": [
       "<Figure size 432x288 with 1 Axes>"
      ]
     },
     "metadata": {},
     "output_type": "display_data"
    }
   ],
   "source": [
    "show_group_stats_viz(d_train, PREDICTOR_FIELD)"
   ]
  },
  {
   "cell_type": "markdown",
   "metadata": {},
   "source": [
    "#### validation dataset"
   ]
  },
  {
   "cell_type": "code",
   "execution_count": 30,
   "metadata": {},
   "outputs": [
    {
     "name": "stdout",
     "output_type": "stream",
     "text": [
      "time_in_hospital\n",
      "1.0     2113\n",
      "2.0     2522\n",
      "3.0     2533\n",
      "4.0     1878\n",
      "5.0     1391\n",
      "6.0     1023\n",
      "7.0      825\n",
      "8.0      595\n",
      "9.0      400\n",
      "10.0     296\n",
      "11.0     268\n",
      "12.0     166\n",
      "13.0     161\n",
      "14.0     133\n",
      "dtype: int64\n",
      "AxesSubplot(0.125,0.125;0.775x0.755)\n"
     ]
    },
    {
     "data": {
      "image/png": "[encoded data removed]",
      "text/plain": [
       "<Figure size 432x288 with 1 Axes>"
      ]
     },
     "metadata": {},
     "output_type": "display_data"
    }
   ],
   "source": [
    "show_group_stats_viz(d_val, PREDICTOR_FIELD)"
   ]
  },
  {
   "cell_type": "markdown",
   "metadata": {},
   "source": [
    "#### test dataset"
   ]
  },
  {
   "cell_type": "code",
   "execution_count": 31,
   "metadata": {},
   "outputs": [
    {
     "name": "stdout",
     "output_type": "stream",
     "text": [
      "time_in_hospital\n",
      "1.0     2193\n",
      "2.0     2484\n",
      "3.0     2561\n",
      "4.0     1939\n",
      "5.0     1335\n",
      "6.0     1020\n",
      "7.0      807\n",
      "8.0      530\n",
      "9.0      372\n",
      "10.0     310\n",
      "11.0     265\n",
      "12.0     208\n",
      "13.0     147\n",
      "14.0     133\n",
      "dtype: int64\n",
      "AxesSubplot(0.125,0.125;0.775x0.755)\n"
     ]
    },
    {
     "data": {
      "image/png": "[encoded data removed]",
      "text/plain": [
       "<Figure size 432x288 with 1 Axes>"
      ]
     },
     "metadata": {},
     "output_type": "display_data"
    }
   ],
   "source": [
    "show_group_stats_viz(d_test, PREDICTOR_FIELD)"
   ]
  },
  {
   "cell_type": "markdown",
   "metadata": {},
   "source": [
    "### Comment: the distribution of time_in_hospital is the same in all the datasets (train, validation, test). Most of the patients spend between 1-4 days in hospital. From the point of view of the drug's study (requiring 5-7 days) this means that not all the patients are good candidate. But we have in each datasets thousands of patients spending more than 5 days. "
   ]
  },
  {
   "cell_type": "markdown",
   "metadata": {},
   "source": [
    "## Demographic Group Analysis"
   ]
  },
  {
   "cell_type": "markdown",
   "metadata": {},
   "source": [
    "We should check that our partitions/splits of the dataset are similar in terms of their demographic profiles. Below you can see how we might visualize and analyze the full dataset vs. the partitions.\n",
    "\n",
    "### entire dataset: distribution of gender"
   ]
  },
  {
   "cell_type": "code",
   "execution_count": 32,
   "metadata": {},
   "outputs": [
    {
     "name": "stdout",
     "output_type": "stream",
     "text": [
      "gender\n",
      "Female             38025\n",
      "Male               33490\n",
      "Unknown/Invalid        3\n",
      "dtype: int64\n",
      "AxesSubplot(0.125,0.125;0.775x0.755)\n"
     ]
    },
    {
     "data": {
      "image/png": "[encoded data removed]",
      "text/plain": [
       "<Figure size 432x288 with 1 Axes>"
      ]
     },
     "metadata": {},
     "output_type": "display_data"
    }
   ],
   "source": [
    "# Full dataset before splitting\n",
    "patient_demo_features = ['race', 'gender', 'age', 'patient_nbr']\n",
    "patient_group_analysis_df = processed_df[patient_demo_features].groupby('patient_nbr').head(1).reset_index(drop=True)\n",
    "show_group_stats_viz(patient_group_analysis_df, 'gender')"
   ]
  },
  {
   "cell_type": "markdown",
   "metadata": {},
   "source": [
    "### train dataset"
   ]
  },
  {
   "cell_type": "code",
   "execution_count": 34,
   "metadata": {},
   "outputs": [
    {
     "name": "stdout",
     "output_type": "stream",
     "text": [
      "gender\n",
      "Female    22779\n",
      "Male      20131\n",
      "dtype: int64\n",
      "AxesSubplot(0.125,0.125;0.775x0.755)\n"
     ]
    },
    {
     "data": {
      "image/png": "[encoded data removed]",
      "text/plain": [
       "<Figure size 432x288 with 1 Axes>"
      ]
     },
     "metadata": {},
     "output_type": "display_data"
    }
   ],
   "source": [
    "# Training partition\n",
    "show_group_stats_viz(d_train, 'gender')"
   ]
  },
  {
   "cell_type": "markdown",
   "metadata": {},
   "source": [
    "### validation dataset"
   ]
  },
  {
   "cell_type": "code",
   "execution_count": 35,
   "metadata": {},
   "outputs": [
    {
     "name": "stdout",
     "output_type": "stream",
     "text": [
      "gender\n",
      "Female             7566\n",
      "Male               6737\n",
      "Unknown/Invalid       1\n",
      "dtype: int64\n",
      "AxesSubplot(0.125,0.125;0.775x0.755)\n"
     ]
    },
    {
     "data": {
      "image/png": "[encoded data removed]",
      "text/plain": [
       "<Figure size 432x288 with 1 Axes>"
      ]
     },
     "metadata": {},
     "output_type": "display_data"
    }
   ],
   "source": [
    "# validation partition\n",
    "show_group_stats_viz(d_val, 'gender')"
   ]
  },
  {
   "cell_type": "markdown",
   "metadata": {},
   "source": [
    "### test dataset"
   ]
  },
  {
   "cell_type": "code",
   "execution_count": 36,
   "metadata": {},
   "outputs": [
    {
     "name": "stdout",
     "output_type": "stream",
     "text": [
      "gender\n",
      "Female             7680\n",
      "Male               6622\n",
      "Unknown/Invalid       2\n",
      "dtype: int64\n",
      "AxesSubplot(0.125,0.125;0.775x0.755)\n"
     ]
    },
    {
     "data": {
      "image/png": "[encoded data removed]",
      "text/plain": [
       "<Figure size 432x288 with 1 Axes>"
      ]
     },
     "metadata": {},
     "output_type": "display_data"
    }
   ],
   "source": [
    "# Test partition\n",
    "show_group_stats_viz(d_test, 'gender')"
   ]
  },
  {
   "cell_type": "markdown",
   "metadata": {},
   "source": [
    "### the distribution for gender is the same in the three dataset. There is a slight majority of women. For same (3) patients gender is unknown/unspecified/other"
   ]
  },
  {
   "cell_type": "markdown",
   "metadata": {},
   "source": [
    "## Convert Dataset Splits to TF Dataset"
   ]
  },
  {
   "cell_type": "markdown",
   "metadata": {},
   "source": [
    "We have provided you the function to convert the Pandas dataframe to TF tensors using the TF Dataset API. \n",
    "Please note that this is not a scalable method and for larger datasets, the 'make_csv_dataset' method is recommended -https://www.tensorflow.org/api_docs/python/tf/data/experimental/make_csv_dataset."
   ]
  },
  {
   "cell_type": "code",
   "execution_count": 37,
   "metadata": {},
   "outputs": [],
   "source": [
    "# Convert dataset from Pandas dataframes to TF dataset \n",
    "batch_size = 128\n",
    "\n",
    "diabetes_train_ds = df_to_dataset(d_train, PREDICTOR_FIELD, batch_size=batch_size)\n",
    "diabetes_val_ds = df_to_dataset(d_val, PREDICTOR_FIELD, batch_size=batch_size)\n",
    "diabetes_test_ds = df_to_dataset(d_test, PREDICTOR_FIELD, batch_size=batch_size)"
   ]
  },
  {
   "cell_type": "code",
   "execution_count": 38,
   "metadata": {},
   "outputs": [],
   "source": [
    "# We use this sample of the dataset to show transformations later\n",
    "diabetes_batch = next(iter(diabetes_train_ds))[0]\n",
    "\n",
    "def demo(feature_column, example_batch):\n",
    "    feature_layer = layers.DenseFeatures(feature_column)\n",
    "    print(feature_layer(example_batch))"
   ]
  },
  {
   "cell_type": "markdown",
   "metadata": {},
   "source": [
    "# 4. Create Categorical Features with TF Feature Columns"
   ]
  },
  {
   "cell_type": "markdown",
   "metadata": {},
   "source": [
    "## Build Vocabulary for Categorical Features"
   ]
  },
  {
   "cell_type": "markdown",
   "metadata": {},
   "source": [
    "Before we can create the TF categorical features, we must first create the vocab files with the unique values for a given field that are from the **training** dataset. Below we have provided a function that you can use that only requires providing the pandas train dataset partition and the list of the categorical columns in a list format. The output variable 'vocab_file_list' will be a list of the file paths that can be used in the next step for creating the categorical features."
   ]
  },
  {
   "cell_type": "code",
   "execution_count": 39,
   "metadata": {},
   "outputs": [],
   "source": [
    "# create the dir before\n",
    "vocab_file_list = build_vocab_files(d_train, student_categorical_col_list)"
   ]
  },
  {
   "cell_type": "markdown",
   "metadata": {},
   "source": [
    "## Create Categorical Features with Tensorflow Feature Column API"
   ]
  },
  {
   "cell_type": "markdown",
   "metadata": {},
   "source": [
    "**Question 7**: Using the vocab file list from above that was derived fromt the features you selected earlier, please create categorical features with the Tensorflow Feature Column API, https://www.tensorflow.org/api_docs/python/tf/feature_column. Below is a function to help guide you."
   ]
  },
  {
   "cell_type": "code",
   "execution_count": 40,
   "metadata": {},
   "outputs": [
    {
     "data": {
      "text/plain": [
       "['change',\n",
       " 'readmitted',\n",
       " 'race',\n",
       " 'gender',\n",
       " 'age',\n",
       " 'Acarbose',\n",
       " 'Glimepiride',\n",
       " 'Glipizide',\n",
       " 'Glipizide_And_Metformin_Hcl',\n",
       " 'Glipizide_And_Metformin_Hydrochloride',\n",
       " 'Glyburide',\n",
       " 'Glyburide_And_Metformin_Hydrochloride',\n",
       " 'Glyburide-metformin_Hydrochloride',\n",
       " 'Human_Insulin',\n",
       " 'Insulin_Human',\n",
       " 'Metformin_Hcl',\n",
       " 'Metformin_Hydrochloride',\n",
       " 'Miglitol',\n",
       " 'NA',\n",
       " 'Nateglinide',\n",
       " 'Pioglitazone',\n",
       " 'Pioglitazone_Hydrochloride_And_Glimepiride',\n",
       " 'Repaglinide',\n",
       " 'Rosiglitazone_Maleate',\n",
       " 'Tolazamide',\n",
       " 'Tolbutamide']"
      ]
     },
     "execution_count": 40,
     "metadata": {},
     "output_type": "execute_result"
    }
   ],
   "source": [
    "student_categorical_col_list"
   ]
  },
  {
   "cell_type": "code",
   "execution_count": 42,
   "metadata": {},
   "outputs": [],
   "source": [
    "%autoreload\n",
    "\n",
    "tf_cat_col_list = create_tf_categorical_feature_cols(student_categorical_col_list)"
   ]
  },
  {
   "cell_type": "code",
   "execution_count": 43,
   "metadata": {},
   "outputs": [
    {
     "name": "stdout",
     "output_type": "stream",
     "text": [
      "Example categorical field:\n",
      "IndicatorColumn(categorical_column=VocabularyFileCategoricalColumn(key='change', vocabulary_file='./diabetes_vocab/change_vocab.txt', vocabulary_size=3, num_oov_buckets=1, dtype=tf.string, default_value=-1))\n",
      "tf.Tensor(\n",
      "[[0. 1. 0. 0.]\n",
      " [0. 0. 1. 0.]\n",
      " [0. 1. 0. 0.]\n",
      " [0. 1. 0. 0.]\n",
      " [0. 0. 1. 0.]\n",
      " [0. 1. 0. 0.]\n",
      " [0. 0. 1. 0.]\n",
      " [0. 1. 0. 0.]\n",
      " [0. 1. 0. 0.]\n",
      " [0. 1. 0. 0.]\n",
      " [0. 1. 0. 0.]\n",
      " [0. 0. 1. 0.]\n",
      " [0. 1. 0. 0.]\n",
      " [0. 1. 0. 0.]\n",
      " [0. 1. 0. 0.]\n",
      " [0. 1. 0. 0.]\n",
      " [0. 0. 1. 0.]\n",
      " [0. 1. 0. 0.]\n",
      " [0. 0. 1. 0.]\n",
      " [0. 1. 0. 0.]\n",
      " [0. 0. 1. 0.]\n",
      " [0. 1. 0. 0.]\n",
      " [0. 0. 1. 0.]\n",
      " [0. 1. 0. 0.]\n",
      " [0. 1. 0. 0.]\n",
      " [0. 1. 0. 0.]\n",
      " [0. 1. 0. 0.]\n",
      " [0. 0. 1. 0.]\n",
      " [0. 0. 1. 0.]\n",
      " [0. 1. 0. 0.]\n",
      " [0. 1. 0. 0.]\n",
      " [0. 1. 0. 0.]\n",
      " [0. 0. 1. 0.]\n",
      " [0. 1. 0. 0.]\n",
      " [0. 0. 1. 0.]\n",
      " [0. 0. 1. 0.]\n",
      " [0. 1. 0. 0.]\n",
      " [0. 1. 0. 0.]\n",
      " [0. 0. 1. 0.]\n",
      " [0. 1. 0. 0.]\n",
      " [0. 1. 0. 0.]\n",
      " [0. 0. 1. 0.]\n",
      " [0. 1. 0. 0.]\n",
      " [0. 1. 0. 0.]\n",
      " [0. 0. 1. 0.]\n",
      " [0. 1. 0. 0.]\n",
      " [0. 0. 1. 0.]\n",
      " [0. 0. 1. 0.]\n",
      " [0. 1. 0. 0.]\n",
      " [0. 1. 0. 0.]\n",
      " [0. 1. 0. 0.]\n",
      " [0. 1. 0. 0.]\n",
      " [0. 1. 0. 0.]\n",
      " [0. 1. 0. 0.]\n",
      " [0. 0. 1. 0.]\n",
      " [0. 0. 1. 0.]\n",
      " [0. 1. 0. 0.]\n",
      " [0. 0. 1. 0.]\n",
      " [0. 0. 1. 0.]\n",
      " [0. 1. 0. 0.]\n",
      " [0. 1. 0. 0.]\n",
      " [0. 0. 1. 0.]\n",
      " [0. 0. 1. 0.]\n",
      " [0. 0. 1. 0.]\n",
      " [0. 1. 0. 0.]\n",
      " [0. 1. 0. 0.]\n",
      " [0. 0. 1. 0.]\n",
      " [0. 1. 0. 0.]\n",
      " [0. 0. 1. 0.]\n",
      " [0. 1. 0. 0.]\n",
      " [0. 0. 1. 0.]\n",
      " [0. 1. 0. 0.]\n",
      " [0. 1. 0. 0.]\n",
      " [0. 0. 1. 0.]\n",
      " [0. 1. 0. 0.]\n",
      " [0. 1. 0. 0.]\n",
      " [0. 1. 0. 0.]\n",
      " [0. 1. 0. 0.]\n",
      " [0. 0. 1. 0.]\n",
      " [0. 1. 0. 0.]\n",
      " [0. 1. 0. 0.]\n",
      " [0. 0. 1. 0.]\n",
      " [0. 0. 1. 0.]\n",
      " [0. 1. 0. 0.]\n",
      " [0. 0. 1. 0.]\n",
      " [0. 1. 0. 0.]\n",
      " [0. 1. 0. 0.]\n",
      " [0. 0. 1. 0.]\n",
      " [0. 0. 1. 0.]\n",
      " [0. 1. 0. 0.]\n",
      " [0. 0. 1. 0.]\n",
      " [0. 1. 0. 0.]\n",
      " [0. 0. 1. 0.]\n",
      " [0. 0. 1. 0.]\n",
      " [0. 0. 1. 0.]\n",
      " [0. 1. 0. 0.]\n",
      " [0. 0. 1. 0.]\n",
      " [0. 1. 0. 0.]\n",
      " [0. 0. 1. 0.]\n",
      " [0. 1. 0. 0.]\n",
      " [0. 1. 0. 0.]\n",
      " [0. 0. 1. 0.]\n",
      " [0. 0. 1. 0.]\n",
      " [0. 1. 0. 0.]\n",
      " [0. 0. 1. 0.]\n",
      " [0. 0. 1. 0.]\n",
      " [0. 1. 0. 0.]\n",
      " [0. 0. 1. 0.]\n",
      " [0. 1. 0. 0.]\n",
      " [0. 0. 1. 0.]\n",
      " [0. 1. 0. 0.]\n",
      " [0. 0. 1. 0.]\n",
      " [0. 0. 1. 0.]\n",
      " [0. 0. 1. 0.]\n",
      " [0. 1. 0. 0.]\n",
      " [0. 0. 1. 0.]\n",
      " [0. 1. 0. 0.]\n",
      " [0. 1. 0. 0.]\n",
      " [0. 1. 0. 0.]\n",
      " [0. 1. 0. 0.]\n",
      " [0. 1. 0. 0.]\n",
      " [0. 0. 1. 0.]\n",
      " [0. 1. 0. 0.]\n",
      " [0. 1. 0. 0.]\n",
      " [0. 0. 1. 0.]\n",
      " [0. 0. 1. 0.]\n",
      " [0. 1. 0. 0.]\n",
      " [0. 1. 0. 0.]], shape=(128, 4), dtype=float32)\n"
     ]
    }
   ],
   "source": [
    "test_cat_var1 = tf_cat_col_list[0]\n",
    "print(\"Example categorical field:\\n{}\".format(test_cat_var1))\n",
    "demo(test_cat_var1, diabetes_batch)"
   ]
  },
  {
   "cell_type": "markdown",
   "metadata": {},
   "source": [
    "# 5. Create Numerical Features with TF Feature Columns"
   ]
  },
  {
   "cell_type": "markdown",
   "metadata": {},
   "source": [
    "**Question 8**: Using the TF Feature Column API(https://www.tensorflow.org/api_docs/python/tf/feature_column/), please create normalized Tensorflow numeric features for the model. Try to use the z-score normalizer function below to help as well as the 'calculate_stats_from_train_data' function."
   ]
  },
  {
   "cell_type": "code",
   "execution_count": 44,
   "metadata": {},
   "outputs": [],
   "source": [
    "from student_utils import create_tf_numeric_feature"
   ]
  },
  {
   "cell_type": "markdown",
   "metadata": {},
   "source": [
    "For simplicity the create_tf_numerical_feature_cols function below uses the same normalizer function across all features(z-score normalization) but if you have time feel free to analyze and adapt the normalizer based off the statistical distributions. You may find this as a good resource in determining which transformation fits best for the data https://developers.google.com/machine-learning/data-prep/transform/normalization.\n"
   ]
  },
  {
   "cell_type": "code",
   "execution_count": 45,
   "metadata": {},
   "outputs": [],
   "source": [
    "%autoreload\n",
    "\n",
    "def calculate_stats_from_train_data(df, col):\n",
    "    mean = df[col].describe()['mean']\n",
    "    std = df[col].describe()['std']\n",
    "    return mean, std\n",
    "\n",
    "def create_tf_numerical_feature_cols(numerical_col_list, train_df):\n",
    "    tf_numeric_col_list = []\n",
    "    for c in numerical_col_list:\n",
    "        mean, std = calculate_stats_from_train_data(train_df, c)\n",
    "\n",
    "        tf_numeric_feature = create_tf_numeric_feature(c, mean, std)\n",
    "        tf_numeric_col_list.append(tf_numeric_feature)\n",
    "    return tf_numeric_col_list"
   ]
  },
  {
   "cell_type": "code",
   "execution_count": 46,
   "metadata": {},
   "outputs": [],
   "source": [
    "%autoreload\n",
    "\n",
    "tf_cont_col_list = create_tf_numerical_feature_cols(student_numerical_col_list, d_train)"
   ]
  },
  {
   "cell_type": "code",
   "execution_count": 47,
   "metadata": {},
   "outputs": [
    {
     "name": "stdout",
     "output_type": "stream",
     "text": [
      "Example continuous field:\n",
      "NumericColumn(key='number_outpatient', shape=(1,), default_value=(0,), dtype=tf.float32, normalizer_fn=<function normalize_numeric_with_zscore.<locals>.norm_func at 0x7f974849f320>)\n",
      "\n",
      "tf.Tensor(\n",
      "[[-0.26764515]\n",
      " [-0.26764515]\n",
      " [-0.26764515]\n",
      " [-0.26764515]\n",
      " [-0.26764515]\n",
      " [-0.26764515]\n",
      " [-0.26764515]\n",
      " [-0.26764515]\n",
      " [-0.26764515]\n",
      " [-0.26764515]\n",
      " [-0.26764515]\n",
      " [-0.26764515]\n",
      " [-0.26764515]\n",
      " [ 0.6930921 ]\n",
      " [-0.26764515]\n",
      " [-0.26764515]\n",
      " [ 0.6930921 ]\n",
      " [-0.26764515]\n",
      " [-0.26764515]\n",
      " [-0.26764515]\n",
      " [-0.26764515]\n",
      " [-0.26764515]\n",
      " [-0.26764515]\n",
      " [ 0.6930921 ]\n",
      " [-0.26764515]\n",
      " [-0.26764515]\n",
      " [-0.26764515]\n",
      " [-0.26764515]\n",
      " [-0.26764515]\n",
      " [-0.26764515]\n",
      " [ 0.6930921 ]\n",
      " [-0.26764515]\n",
      " [-0.26764515]\n",
      " [ 0.6930921 ]\n",
      " [-0.26764515]\n",
      " [ 1.6538293 ]\n",
      " [-0.26764515]\n",
      " [-0.26764515]\n",
      " [-0.26764515]\n",
      " [-0.26764515]\n",
      " [-0.26764515]\n",
      " [-0.26764515]\n",
      " [-0.26764515]\n",
      " [-0.26764515]\n",
      " [-0.26764515]\n",
      " [ 0.6930921 ]\n",
      " [-0.26764515]\n",
      " [-0.26764515]\n",
      " [-0.26764515]\n",
      " [-0.26764515]\n",
      " [ 0.6930921 ]\n",
      " [-0.26764515]\n",
      " [-0.26764515]\n",
      " [-0.26764515]\n",
      " [-0.26764515]\n",
      " [-0.26764515]\n",
      " [ 3.5753038 ]\n",
      " [-0.26764515]\n",
      " [-0.26764515]\n",
      " [-0.26764515]\n",
      " [-0.26764515]\n",
      " [ 1.6538293 ]\n",
      " [-0.26764515]\n",
      " [-0.26764515]\n",
      " [-0.26764515]\n",
      " [-0.26764515]\n",
      " [-0.26764515]\n",
      " [-0.26764515]\n",
      " [ 0.6930921 ]\n",
      " [ 1.6538293 ]\n",
      " [-0.26764515]\n",
      " [-0.26764515]\n",
      " [ 0.6930921 ]\n",
      " [-0.26764515]\n",
      " [-0.26764515]\n",
      " [-0.26764515]\n",
      " [-0.26764515]\n",
      " [-0.26764515]\n",
      " [-0.26764515]\n",
      " [-0.26764515]\n",
      " [-0.26764515]\n",
      " [-0.26764515]\n",
      " [-0.26764515]\n",
      " [-0.26764515]\n",
      " [-0.26764515]\n",
      " [-0.26764515]\n",
      " [-0.26764515]\n",
      " [-0.26764515]\n",
      " [-0.26764515]\n",
      " [-0.26764515]\n",
      " [-0.26764515]\n",
      " [-0.26764515]\n",
      " [ 0.6930921 ]\n",
      " [-0.26764515]\n",
      " [-0.26764515]\n",
      " [-0.26764515]\n",
      " [-0.26764515]\n",
      " [-0.26764515]\n",
      " [-0.26764515]\n",
      " [-0.26764515]\n",
      " [-0.26764515]\n",
      " [-0.26764515]\n",
      " [-0.26764515]\n",
      " [-0.26764515]\n",
      " [-0.26764515]\n",
      " [-0.26764515]\n",
      " [-0.26764515]\n",
      " [ 1.6538293 ]\n",
      " [-0.26764515]\n",
      " [-0.26764515]\n",
      " [-0.26764515]\n",
      " [-0.26764515]\n",
      " [-0.26764515]\n",
      " [-0.26764515]\n",
      " [-0.26764515]\n",
      " [-0.26764515]\n",
      " [-0.26764515]\n",
      " [-0.26764515]\n",
      " [-0.26764515]\n",
      " [-0.26764515]\n",
      " [-0.26764515]\n",
      " [ 0.6930921 ]\n",
      " [-0.26764515]\n",
      " [-0.26764515]\n",
      " [-0.26764515]\n",
      " [-0.26764515]\n",
      " [-0.26764515]\n",
      " [-0.26764515]], shape=(128, 1), dtype=float32)\n"
     ]
    }
   ],
   "source": [
    "test_cont_var1 = tf_cont_col_list[0]\n",
    "print(\"Example continuous field:\\n{}\\n\".format(test_cont_var1))\n",
    "demo(test_cont_var1, diabetes_batch)"
   ]
  },
  {
   "cell_type": "markdown",
   "metadata": {},
   "source": [
    "# 6. Build Deep Learning Regression Model with Sequential API and TF Probability Layers"
   ]
  },
  {
   "cell_type": "markdown",
   "metadata": {},
   "source": [
    "## Use DenseFeatures to combine features for model"
   ]
  },
  {
   "cell_type": "markdown",
   "metadata": {},
   "source": [
    "Now that we have prepared categorical and numerical features using Tensorflow's Feature Column API, we can combine them into a dense vector representation for the model. Below we will create this new input layer, which we will call 'claim_feature_layer'."
   ]
  },
  {
   "cell_type": "code",
   "execution_count": 48,
   "metadata": {},
   "outputs": [],
   "source": [
    "claim_feature_columns = tf_cat_col_list + tf_cont_col_list\n",
    "claim_feature_layer = tf.keras.layers.DenseFeatures(claim_feature_columns, name='layer0')"
   ]
  },
  {
   "cell_type": "markdown",
   "metadata": {},
   "source": [
    "## Build Sequential API Model from DenseFeatures and TF Probability Layers"
   ]
  },
  {
   "cell_type": "markdown",
   "metadata": {},
   "source": [
    "Below we have provided some boilerplate code for building a model that connects the Sequential API, DenseFeatures, and Tensorflow Probability layers into a deep learning model. There are many opportunities to further optimize and explore different architectures through benchmarking and testing approaches in various research papers, loss and evaluation metrics, learning curves, hyperparameter tuning, TF probability layers, etc. Feel free to modify and explore as you wish."
   ]
  },
  {
   "cell_type": "markdown",
   "metadata": {},
   "source": [
    "**OPTIONAL**: Come up with a more optimal neural network architecture and hyperparameters. Share the process in discovering the architecture and hyperparameters."
   ]
  },
  {
   "cell_type": "code",
   "execution_count": 49,
   "metadata": {},
   "outputs": [],
   "source": [
    "import logging\n",
    "# added to remove TF warnings !\n",
    "logger = tf.get_logger()\n",
    "logger.setLevel(logging.ERROR)\n",
    "        \n",
    "def build_sequential_model(feature_layer, n_units):\n",
    "    model = tf.keras.Sequential([\n",
    "        feature_layer,\n",
    "        tf.keras.layers.Dense(n_units, activation='relu', name='layer1'),\n",
    "        tf.keras.layers.Dropout(0.2),\n",
    "        # I prefer same number in the layers... the NN will decide\n",
    "        tf.keras.layers.Dense(n_units, activation='relu', name='layer2'),\n",
    "        tf.keras.layers.Dropout(0.2),\n",
    "        tf.keras.layers.Dense(n_units, activation='relu', name='layer3'),\n",
    "        \n",
    "        tfp.layers.DenseVariational(1+1, posterior_mean_field, prior_trainable, name='layer4'),\n",
    "        tfp.layers.DistributionLambda(\n",
    "            lambda t:tfp.distributions.Normal(loc=t[..., :1],\n",
    "                                             scale=1e-3 + tf.math.softplus(0.01 * t[...,1:])\n",
    "                                             )\n",
    "        , name='layer5'),\n",
    "    ])\n",
    "    return model\n",
    "\n",
    "# separate build from train, because I need to save the weights with best val_mse (with the Checkpoint callback)\n",
    "def build_diabetes_model(feature_layer, loss_metric='mse', n_units=128):\n",
    "    print('')\n",
    "    print('Training with n_units =', n_units)\n",
    "    \n",
    "    model = build_sequential_model(feature_layer, n_units)\n",
    "    model.compile(optimizer='adam', loss=loss_metric, metrics=[loss_metric])\n",
    "    \n",
    "    return model"
   ]
  },
  {
   "cell_type": "code",
   "execution_count": 50,
   "metadata": {},
   "outputs": [
    {
     "name": "stdout",
     "output_type": "stream",
     "text": [
      "\n",
      "Training with n_units = 192\n",
      "Epoch 1/50\n",
      "336/336 [==============================] - 7s 13ms/step - loss: 28.8099 - mse: 28.6759 - val_loss: 18.6576 - val_mse: 17.9347\n",
      "\n",
      "Epoch 00001: val_mse improved from inf to 17.93468, saving model to model_prob\n",
      "Epoch 2/50\n",
      "336/336 [==============================] - 3s 8ms/step - loss: 17.3735 - mse: 16.6244 - val_loss: 13.7457 - val_mse: 12.6940\n",
      "\n",
      "Epoch 00002: val_mse improved from 17.93468 to 12.69405, saving model to model_prob\n",
      "Epoch 3/50\n",
      "336/336 [==============================] - 3s 8ms/step - loss: 13.4465 - mse: 12.4786 - val_loss: 12.2542 - val_mse: 11.1877\n",
      "\n",
      "Epoch 00003: val_mse improved from 12.69405 to 11.18767, saving model to model_prob\n",
      "Epoch 4/50\n",
      "336/336 [==============================] - 3s 8ms/step - loss: 12.0715 - mse: 11.1655 - val_loss: 11.3422 - val_mse: 10.4623\n",
      "\n",
      "Epoch 00004: val_mse improved from 11.18767 to 10.46234, saving model to model_prob\n",
      "Epoch 5/50\n",
      "336/336 [==============================] - 3s 9ms/step - loss: 10.9736 - mse: 10.2800 - val_loss: 10.0355 - val_mse: 9.2275\n",
      "\n",
      "Epoch 00005: val_mse improved from 10.46234 to 9.22749, saving model to model_prob\n",
      "Epoch 6/50\n",
      "336/336 [==============================] - 4s 10ms/step - loss: 10.2529 - mse: 9.4815 - val_loss: 9.8990 - val_mse: 9.2652\n",
      "\n",
      "Epoch 00006: val_mse did not improve from 9.22749\n",
      "Epoch 7/50\n",
      "336/336 [==============================] - 3s 9ms/step - loss: 9.8570 - mse: 9.2310 - val_loss: 9.0094 - val_mse: 8.5713\n",
      "\n",
      "Epoch 00007: val_mse improved from 9.22749 to 8.57130, saving model to model_prob\n",
      "Epoch 8/50\n",
      "336/336 [==============================] - 4s 10ms/step - loss: 9.9295 - mse: 9.2808 - val_loss: 10.2590 - val_mse: 9.5500\n",
      "\n",
      "Epoch 00008: val_mse did not improve from 8.57130\n",
      "Epoch 9/50\n",
      "336/336 [==============================] - 4s 9ms/step - loss: 9.4695 - mse: 8.8252 - val_loss: 8.6262 - val_mse: 7.9365\n",
      "\n",
      "Epoch 00009: val_mse improved from 8.57130 to 7.93648, saving model to model_prob\n",
      "Epoch 10/50\n",
      "336/336 [==============================] - 4s 11ms/step - loss: 9.3207 - mse: 8.6513 - val_loss: 8.8803 - val_mse: 8.3888\n",
      "\n",
      "Epoch 00010: val_mse did not improve from 7.93648\n",
      "Epoch 11/50\n",
      "336/336 [==============================] - 4s 9ms/step - loss: 8.5676 - mse: 8.0040 - val_loss: 9.1821 - val_mse: 8.6914\n",
      "\n",
      "Epoch 00011: val_mse did not improve from 7.93648\n",
      "Epoch 12/50\n",
      "336/336 [==============================] - 4s 11ms/step - loss: 9.2961 - mse: 8.7287 - val_loss: 8.8473 - val_mse: 8.1849\n",
      "\n",
      "Epoch 00012: val_mse did not improve from 7.93648\n",
      "Epoch 13/50\n",
      "336/336 [==============================] - 4s 9ms/step - loss: 8.5723 - mse: 8.0772 - val_loss: 8.5116 - val_mse: 8.0298\n",
      "\n",
      "Epoch 00013: val_mse did not improve from 7.93648\n",
      "Epoch 14/50\n",
      "336/336 [==============================] - 4s 9ms/step - loss: 8.2392 - mse: 7.6660 - val_loss: 8.4485 - val_mse: 7.8643\n",
      "\n",
      "Epoch 00014: val_mse improved from 7.93648 to 7.86426, saving model to model_prob\n",
      "Epoch 15/50\n",
      "336/336 [==============================] - 4s 11ms/step - loss: 8.5055 - mse: 8.0504 - val_loss: 8.7934 - val_mse: 8.3758\n",
      "\n",
      "Epoch 00015: val_mse did not improve from 7.86426\n",
      "Epoch 16/50\n",
      "336/336 [==============================] - 3s 9ms/step - loss: 8.2642 - mse: 7.6793 - val_loss: 8.2242 - val_mse: 7.7367\n",
      "\n",
      "Epoch 00016: val_mse improved from 7.86426 to 7.73670, saving model to model_prob\n",
      "Epoch 17/50\n",
      "336/336 [==============================] - 4s 9ms/step - loss: 8.4862 - mse: 7.9339 - val_loss: 8.4278 - val_mse: 8.0237\n",
      "\n",
      "Epoch 00017: val_mse did not improve from 7.73670\n",
      "Epoch 18/50\n",
      "336/336 [==============================] - 4s 9ms/step - loss: 8.4918 - mse: 7.9019 - val_loss: 8.2223 - val_mse: 7.7694\n",
      "\n",
      "Epoch 00018: val_mse did not improve from 7.73670\n",
      "Epoch 19/50\n",
      "336/336 [==============================] - 4s 12ms/step - loss: 8.2469 - mse: 7.6183 - val_loss: 7.9948 - val_mse: 7.7073\n",
      "\n",
      "Epoch 00019: val_mse improved from 7.73670 to 7.70727, saving model to model_prob\n",
      "Epoch 20/50\n",
      "336/336 [==============================] - 4s 10ms/step - loss: 8.0356 - mse: 7.5122 - val_loss: 8.0682 - val_mse: 7.4634\n",
      "\n",
      "Epoch 00020: val_mse improved from 7.70727 to 7.46336, saving model to model_prob\n",
      "Epoch 21/50\n",
      "336/336 [==============================] - 4s 11ms/step - loss: 7.9713 - mse: 7.5744 - val_loss: 8.3522 - val_mse: 7.7769\n",
      "\n",
      "Epoch 00021: val_mse did not improve from 7.46336\n",
      "Epoch 22/50\n",
      "336/336 [==============================] - 4s 10ms/step - loss: 8.2274 - mse: 7.7414 - val_loss: 8.2806 - val_mse: 7.6281\n",
      "\n",
      "Epoch 00022: val_mse did not improve from 7.46336\n",
      "Epoch 23/50\n",
      "336/336 [==============================] - 5s 12ms/step - loss: 8.2482 - mse: 7.7382 - val_loss: 8.0638 - val_mse: 7.4707\n",
      "\n",
      "Epoch 00023: val_mse did not improve from 7.46336\n",
      "Epoch 24/50\n",
      "336/336 [==============================] - 4s 11ms/step - loss: 7.9693 - mse: 7.3334 - val_loss: 8.1265 - val_mse: 7.5904\n",
      "\n",
      "Epoch 00024: val_mse did not improve from 7.46336\n",
      "Epoch 25/50\n",
      "336/336 [==============================] - 5s 12ms/step - loss: 7.8652 - mse: 7.4388 - val_loss: 7.8743 - val_mse: 7.2766\n",
      "\n",
      "Epoch 00025: val_mse improved from 7.46336 to 7.27659, saving model to model_prob\n",
      "Epoch 26/50\n",
      "336/336 [==============================] - 6s 16ms/step - loss: 7.7432 - mse: 7.2375 - val_loss: 8.1490 - val_mse: 7.6308\n",
      "\n",
      "Epoch 00026: val_mse did not improve from 7.27659\n",
      "Epoch 27/50\n",
      "336/336 [==============================] - 8s 23ms/step - loss: 7.9431 - mse: 7.4644 - val_loss: 7.6385 - val_mse: 7.1815\n",
      "\n",
      "Epoch 00027: val_mse improved from 7.27659 to 7.18149, saving model to model_prob\n",
      "Epoch 28/50\n",
      "336/336 [==============================] - 9s 21ms/step - loss: 7.6485 - mse: 7.0235 - val_loss: 7.9628 - val_mse: 7.5429\n",
      "\n",
      "Epoch 00028: val_mse did not improve from 7.18149\n",
      "Epoch 29/50\n",
      "336/336 [==============================] - 5s 14ms/step - loss: 7.7339 - mse: 7.2960 - val_loss: 7.7404 - val_mse: 7.2653\n",
      "\n",
      "Epoch 00029: val_mse did not improve from 7.18149\n",
      "Epoch 30/50\n",
      "336/336 [==============================] - 4s 11ms/step - loss: 7.7061 - mse: 7.2485 - val_loss: 7.7335 - val_mse: 7.2986\n",
      "\n",
      "Epoch 00030: val_mse did not improve from 7.18149\n",
      "Epoch 31/50\n",
      "336/336 [==============================] - 5s 12ms/step - loss: 7.6197 - mse: 7.1000 - val_loss: 7.7935 - val_mse: 7.2906\n",
      "\n",
      "Epoch 00031: val_mse did not improve from 7.18149\n",
      "Epoch 32/50\n",
      "336/336 [==============================] - 5s 13ms/step - loss: 7.8926 - mse: 7.3881 - val_loss: 7.7127 - val_mse: 7.3012\n",
      "\n",
      "Epoch 00032: val_mse did not improve from 7.18149\n",
      "Epoch 33/50\n",
      "336/336 [==============================] - 5s 12ms/step - loss: 7.5845 - mse: 7.0866 - val_loss: 7.9374 - val_mse: 7.4956\n",
      "\n",
      "Epoch 00033: val_mse did not improve from 7.18149\n",
      "Epoch 34/50\n",
      "336/336 [==============================] - 4s 11ms/step - loss: 7.6430 - mse: 7.1682 - val_loss: 7.9870 - val_mse: 7.4064\n",
      "\n",
      "Epoch 00034: val_mse did not improve from 7.18149\n",
      "Epoch 35/50\n",
      "336/336 [==============================] - 4s 11ms/step - loss: 7.6782 - mse: 7.1486 - val_loss: 8.1443 - val_mse: 7.6201\n",
      "\n",
      "Epoch 00035: val_mse did not improve from 7.18149\n",
      "Epoch 36/50\n",
      "336/336 [==============================] - 5s 14ms/step - loss: 7.6754 - mse: 7.1484 - val_loss: 7.8616 - val_mse: 7.3611\n",
      "\n",
      "Epoch 00036: val_mse did not improve from 7.18149\n",
      "Epoch 37/50\n",
      "336/336 [==============================] - 4s 11ms/step - loss: 7.7711 - mse: 7.1181 - val_loss: 7.8026 - val_mse: 7.3356\n",
      "\n",
      "Epoch 00037: val_mse did not improve from 7.18149\n",
      "Epoch 38/50\n",
      "336/336 [==============================] - 5s 12ms/step - loss: 7.4601 - mse: 6.9604 - val_loss: 7.6207 - val_mse: 7.2214\n",
      "\n",
      "Epoch 00038: val_mse did not improve from 7.18149\n",
      "Epoch 39/50\n",
      "336/336 [==============================] - 5s 12ms/step - loss: 7.2491 - mse: 6.7800 - val_loss: 7.8330 - val_mse: 7.2144\n",
      "\n",
      "Epoch 00039: val_mse did not improve from 7.18149\n",
      "Epoch 40/50\n",
      "336/336 [==============================] - 5s 12ms/step - loss: 7.5005 - mse: 7.0070 - val_loss: 7.6058 - val_mse: 7.0522\n",
      "\n",
      "Epoch 00040: val_mse improved from 7.18149 to 7.05217, saving model to model_prob\n",
      "Epoch 41/50\n",
      "336/336 [==============================] - 5s 12ms/step - loss: 7.1839 - mse: 6.6727 - val_loss: 7.8616 - val_mse: 7.1468\n",
      "\n",
      "Epoch 00041: val_mse did not improve from 7.05217\n",
      "Epoch 42/50\n",
      "336/336 [==============================] - 4s 11ms/step - loss: 7.5425 - mse: 6.9564 - val_loss: 7.8382 - val_mse: 7.3645\n",
      "\n",
      "Epoch 00042: val_mse did not improve from 7.05217\n",
      "Epoch 43/50\n",
      "336/336 [==============================] - 5s 12ms/step - loss: 7.3983 - mse: 6.8272 - val_loss: 7.5563 - val_mse: 7.0905\n",
      "\n",
      "Epoch 00043: val_mse did not improve from 7.05217\n",
      "Epoch 44/50\n",
      "336/336 [==============================] - 4s 10ms/step - loss: 7.2706 - mse: 6.8370 - val_loss: 7.6798 - val_mse: 7.2289\n",
      "\n",
      "Epoch 00044: val_mse did not improve from 7.05217\n",
      "Epoch 45/50\n",
      "336/336 [==============================] - 4s 11ms/step - loss: 7.3751 - mse: 6.8695 - val_loss: 7.9370 - val_mse: 7.3896\n",
      "\n",
      "Epoch 00045: val_mse did not improve from 7.05217\n",
      "Epoch 46/50\n",
      "336/336 [==============================] - 4s 11ms/step - loss: 7.3956 - mse: 6.8959 - val_loss: 8.1377 - val_mse: 7.4834\n",
      "\n",
      "Epoch 00046: val_mse did not improve from 7.05217\n",
      "Epoch 47/50\n",
      "336/336 [==============================] - 5s 12ms/step - loss: 7.3428 - mse: 6.8889 - val_loss: 7.7659 - val_mse: 7.1896\n",
      "\n",
      "Epoch 00047: val_mse did not improve from 7.05217\n",
      "Epoch 48/50\n",
      "336/336 [==============================] - 5s 13ms/step - loss: 7.2324 - mse: 6.7245 - val_loss: 8.1370 - val_mse: 7.6774\n",
      "\n",
      "Epoch 00048: val_mse did not improve from 7.05217\n",
      "Epoch 49/50\n",
      "336/336 [==============================] - 5s 12ms/step - loss: 7.4160 - mse: 6.9222 - val_loss: 7.6116 - val_mse: 7.1364\n",
      "\n",
      "Epoch 00049: val_mse did not improve from 7.05217\n",
      "Epoch 50/50\n",
      "336/336 [==============================] - 5s 13ms/step - loss: 7.4334 - mse: 6.8476 - val_loss: 7.8669 - val_mse: 7.3003\n",
      "\n",
      "Epoch 00050: val_mse did not improve from 7.05217\n",
      "\n",
      "Elapsed time: 227.6\n"
     ]
    }
   ],
   "source": [
    "# from hyper-parameters' tuning work\n",
    "N_UNITS = 192\n",
    "\n",
    "tStart = time.time()\n",
    "\n",
    "loss_metric='mse'\n",
    "\n",
    "diabetes_model = build_diabetes_model(claim_feature_layer, n_units=N_UNITS)\n",
    "\n",
    "early_stop = tf.keras.callbacks.EarlyStopping(monitor='mse', patience=10, verbose=1)\n",
    "    \n",
    "sv = tf.keras.callbacks.ModelCheckpoint('model_prob', monitor='val_mse', verbose=1, save_best_only=True,\n",
    "                                            save_weights_only=True, mode='min', save_freq='epoch')\n",
    "    \n",
    "history = diabetes_model.fit(diabetes_train_ds, validation_data=diabetes_val_ds,\n",
    "                        callbacks=[early_stop, sv],\n",
    "                        epochs=50, verbose=1)\n",
    "    \n",
    "tEla = round(time.time() - tStart, 1)\n",
    "print('')\n",
    "print('Elapsed time:', tEla)"
   ]
  },
  {
   "cell_type": "code",
   "execution_count": 51,
   "metadata": {},
   "outputs": [],
   "source": [
    "def plot_loss(hist, skip):\n",
    "    plt.figure(figsize=(14,6))\n",
    "    \n",
    "    plt.plot(hist.history['loss'][skip:], label='Training loss')\n",
    "    plt.plot(hist.history['val_loss'][skip:], label='Validation loss')\n",
    "    plt.title('Loss')\n",
    "    plt.legend(loc='upper right')\n",
    "    plt.ylabel('loss')\n",
    "    plt.xlabel('epoch')\n",
    "    plt.grid(True)\n",
    "    plt.show();"
   ]
  },
  {
   "cell_type": "code",
   "execution_count": 52,
   "metadata": {},
   "outputs": [
    {
     "data": {
      "image/png": "[encoded data removed]",
      "text/plain": [
       "<Figure size 1008x432 with 1 Axes>"
      ]
     },
     "metadata": {},
     "output_type": "display_data"
    }
   ],
   "source": [
    "plot_loss(history, 2)"
   ]
  },
  {
   "cell_type": "code",
   "execution_count": 53,
   "metadata": {},
   "outputs": [],
   "source": [
    "def plot_mse(hist, skip):\n",
    "    plt.figure(figsize=(14,6))\n",
    "    \n",
    "    plt.plot(hist.history['mse'][skip:], label='Training mse')\n",
    "    plt.plot(hist.history['val_mse'][skip:], label='Validation mse')\n",
    "    plt.title('Mse')\n",
    "    plt.legend(loc='upper right')\n",
    "    plt.ylabel('mse')\n",
    "    plt.xlabel('epoch')\n",
    "    plt.grid(True)\n",
    "    plt.show();"
   ]
  },
  {
   "cell_type": "code",
   "execution_count": 54,
   "metadata": {},
   "outputs": [
    {
     "data": {
      "image/png": "[encoded data removed]",
      "text/plain": [
       "<Figure size 1008x432 with 1 Axes>"
      ]
     },
     "metadata": {},
     "output_type": "display_data"
    }
   ],
   "source": [
    "plot_mse(history, 2)"
   ]
  },
  {
   "cell_type": "code",
   "execution_count": 55,
   "metadata": {},
   "outputs": [
    {
     "name": "stdout",
     "output_type": "stream",
     "text": [
      "Loading best model...\n",
      "\n",
      "Training with n_units = 192\n"
     ]
    },
    {
     "data": {
      "text/plain": [
       "<tensorflow.python.training.tracking.util.CheckpointLoadStatus at 0x7f974b50f7d0>"
      ]
     },
     "execution_count": 55,
     "metadata": {},
     "output_type": "execute_result"
    }
   ],
   "source": [
    "# loading best weights\n",
    "print('Loading best model...')\n",
    "\n",
    "diabetes_model = build_diabetes_model(claim_feature_layer,  n_units=N_UNITS)\n",
    "\n",
    "diabetes_model.load_weights('model_prob')"
   ]
  },
  {
   "cell_type": "markdown",
   "metadata": {},
   "source": [
    "## Show Model Uncertainty Range with TF Probability"
   ]
  },
  {
   "cell_type": "markdown",
   "metadata": {},
   "source": [
    "**Question 9**: Now that we have trained a model with TF Probability layers, we can extract the mean and standard deviation for each prediction. Please fill in the answer for the m and s variables below. The code for getting the predictions is provided for you below."
   ]
  },
  {
   "cell_type": "code",
   "execution_count": 56,
   "metadata": {},
   "outputs": [],
   "source": [
    "feature_list = student_categorical_col_list + student_numerical_col_list\n",
    "diabetes_x_tst = dict(d_test[feature_list])\n",
    "\n",
    "# diabetes_yhat = diabetes_model(diabetes_x_tst)\n",
    "preds = diabetes_model.predict(diabetes_test_ds)"
   ]
  },
  {
   "cell_type": "code",
   "execution_count": 57,
   "metadata": {},
   "outputs": [],
   "source": [
    "%autoreload\n",
    "\n",
    "from student_utils import get_mean_std_from_preds\n",
    "\n",
    "# every time I apply the model I have a different value, for the DenseVariational layer\n",
    "# therefore I need to average\n",
    "# see: https://blog.tensorflow.org/2019/03/regression-with-probabilistic-layers-in.html\n",
    "N = 512\n",
    "\n",
    "avg_m = 0. \n",
    "avg_s = 0.\n",
    "\n",
    "for i in range(N):\n",
    "    diabetes_yhat = diabetes_model(diabetes_x_tst)\n",
    "    m, s = get_mean_std_from_preds(diabetes_yhat)\n",
    "    avg_m += m\n",
    "    avg_s += s\n",
    "\n",
    "avg_m = avg_m/tf.cast(N, tf.float32)\n",
    "avg_s = avg_s/tf.cast(N, tf.float32)"
   ]
  },
  {
   "cell_type": "markdown",
   "metadata": {},
   "source": [
    "## Show Prediction Output "
   ]
  },
  {
   "cell_type": "code",
   "execution_count": 58,
   "metadata": {},
   "outputs": [],
   "source": [
    "prob_outputs = {\n",
    "    \"pred\": preds.flatten(),\n",
    "    \"actual_value\": d_test['time_in_hospital'].values,\n",
    "    \"pred_mean\": avg_m.numpy().flatten(),\n",
    "    \"pred_std\": avg_s.numpy().flatten()\n",
    "}\n",
    "prob_output_df = pd.DataFrame(prob_outputs)"
   ]
  },
  {
   "cell_type": "code",
   "execution_count": 59,
   "metadata": {},
   "outputs": [
    {
     "data": {
      "text/html": [
       "<div>\n",
       "<style scoped>\n",
       "    .dataframe tbody tr th:only-of-type {\n",
       "        vertical-align: middle;\n",
       "    }\n",
       "\n",
       "    .dataframe tbody tr th {\n",
       "        vertical-align: top;\n",
       "    }\n",
       "\n",
       "    .dataframe thead th {\n",
       "        text-align: right;\n",
       "    }\n",
       "</style>\n",
       "<table border=\"1\" class=\"dataframe\">\n",
       "  <thead>\n",
       "    <tr style=\"text-align: right;\">\n",
       "      <th></th>\n",
       "      <th>pred</th>\n",
       "      <th>actual_value</th>\n",
       "      <th>pred_mean</th>\n",
       "      <th>pred_std</th>\n",
       "    </tr>\n",
       "  </thead>\n",
       "  <tbody>\n",
       "    <tr>\n",
       "      <th>0</th>\n",
       "      <td>2.193155</td>\n",
       "      <td>1.0</td>\n",
       "      <td>3.598635</td>\n",
       "      <td>0.693628</td>\n",
       "    </tr>\n",
       "    <tr>\n",
       "      <th>1</th>\n",
       "      <td>5.317574</td>\n",
       "      <td>2.0</td>\n",
       "      <td>3.209491</td>\n",
       "      <td>0.693594</td>\n",
       "    </tr>\n",
       "    <tr>\n",
       "      <th>2</th>\n",
       "      <td>7.536895</td>\n",
       "      <td>4.0</td>\n",
       "      <td>2.920343</td>\n",
       "      <td>0.693566</td>\n",
       "    </tr>\n",
       "    <tr>\n",
       "      <th>3</th>\n",
       "      <td>6.486522</td>\n",
       "      <td>4.0</td>\n",
       "      <td>4.298427</td>\n",
       "      <td>0.693599</td>\n",
       "    </tr>\n",
       "    <tr>\n",
       "      <th>4</th>\n",
       "      <td>3.687894</td>\n",
       "      <td>12.0</td>\n",
       "      <td>7.204350</td>\n",
       "      <td>0.693632</td>\n",
       "    </tr>\n",
       "    <tr>\n",
       "      <th>5</th>\n",
       "      <td>8.032022</td>\n",
       "      <td>3.0</td>\n",
       "      <td>2.641346</td>\n",
       "      <td>0.693558</td>\n",
       "    </tr>\n",
       "    <tr>\n",
       "      <th>6</th>\n",
       "      <td>3.932108</td>\n",
       "      <td>2.0</td>\n",
       "      <td>2.616347</td>\n",
       "      <td>0.693550</td>\n",
       "    </tr>\n",
       "    <tr>\n",
       "      <th>7</th>\n",
       "      <td>7.389812</td>\n",
       "      <td>1.0</td>\n",
       "      <td>2.405956</td>\n",
       "      <td>0.693556</td>\n",
       "    </tr>\n",
       "    <tr>\n",
       "      <th>8</th>\n",
       "      <td>4.710483</td>\n",
       "      <td>1.0</td>\n",
       "      <td>3.435714</td>\n",
       "      <td>0.693585</td>\n",
       "    </tr>\n",
       "    <tr>\n",
       "      <th>9</th>\n",
       "      <td>4.331904</td>\n",
       "      <td>4.0</td>\n",
       "      <td>2.738413</td>\n",
       "      <td>0.693562</td>\n",
       "    </tr>\n",
       "    <tr>\n",
       "      <th>10</th>\n",
       "      <td>3.506948</td>\n",
       "      <td>2.0</td>\n",
       "      <td>3.949910</td>\n",
       "      <td>0.693583</td>\n",
       "    </tr>\n",
       "    <tr>\n",
       "      <th>11</th>\n",
       "      <td>4.492876</td>\n",
       "      <td>3.0</td>\n",
       "      <td>4.372605</td>\n",
       "      <td>0.693592</td>\n",
       "    </tr>\n",
       "    <tr>\n",
       "      <th>12</th>\n",
       "      <td>4.764479</td>\n",
       "      <td>6.0</td>\n",
       "      <td>3.786158</td>\n",
       "      <td>0.693619</td>\n",
       "    </tr>\n",
       "    <tr>\n",
       "      <th>13</th>\n",
       "      <td>5.711545</td>\n",
       "      <td>1.0</td>\n",
       "      <td>5.276890</td>\n",
       "      <td>0.693583</td>\n",
       "    </tr>\n",
       "    <tr>\n",
       "      <th>14</th>\n",
       "      <td>5.997994</td>\n",
       "      <td>3.0</td>\n",
       "      <td>4.555498</td>\n",
       "      <td>0.693581</td>\n",
       "    </tr>\n",
       "    <tr>\n",
       "      <th>15</th>\n",
       "      <td>4.680763</td>\n",
       "      <td>5.0</td>\n",
       "      <td>3.139669</td>\n",
       "      <td>0.693595</td>\n",
       "    </tr>\n",
       "    <tr>\n",
       "      <th>16</th>\n",
       "      <td>6.580340</td>\n",
       "      <td>4.0</td>\n",
       "      <td>4.281869</td>\n",
       "      <td>0.693614</td>\n",
       "    </tr>\n",
       "    <tr>\n",
       "      <th>17</th>\n",
       "      <td>4.944100</td>\n",
       "      <td>3.0</td>\n",
       "      <td>2.672848</td>\n",
       "      <td>0.693550</td>\n",
       "    </tr>\n",
       "    <tr>\n",
       "      <th>18</th>\n",
       "      <td>3.225146</td>\n",
       "      <td>1.0</td>\n",
       "      <td>3.037397</td>\n",
       "      <td>0.693581</td>\n",
       "    </tr>\n",
       "    <tr>\n",
       "      <th>19</th>\n",
       "      <td>7.721199</td>\n",
       "      <td>5.0</td>\n",
       "      <td>4.840934</td>\n",
       "      <td>0.693580</td>\n",
       "    </tr>\n",
       "  </tbody>\n",
       "</table>\n",
       "</div>"
      ],
      "text/plain": [
       "        pred  actual_value  pred_mean  pred_std\n",
       "0   2.193155           1.0   3.598635  0.693628\n",
       "1   5.317574           2.0   3.209491  0.693594\n",
       "2   7.536895           4.0   2.920343  0.693566\n",
       "3   6.486522           4.0   4.298427  0.693599\n",
       "4   3.687894          12.0   7.204350  0.693632\n",
       "5   8.032022           3.0   2.641346  0.693558\n",
       "6   3.932108           2.0   2.616347  0.693550\n",
       "7   7.389812           1.0   2.405956  0.693556\n",
       "8   4.710483           1.0   3.435714  0.693585\n",
       "9   4.331904           4.0   2.738413  0.693562\n",
       "10  3.506948           2.0   3.949910  0.693583\n",
       "11  4.492876           3.0   4.372605  0.693592\n",
       "12  4.764479           6.0   3.786158  0.693619\n",
       "13  5.711545           1.0   5.276890  0.693583\n",
       "14  5.997994           3.0   4.555498  0.693581\n",
       "15  4.680763           5.0   3.139669  0.693595\n",
       "16  6.580340           4.0   4.281869  0.693614\n",
       "17  4.944100           3.0   2.672848  0.693550\n",
       "18  3.225146           1.0   3.037397  0.693581\n",
       "19  7.721199           5.0   4.840934  0.693580"
      ]
     },
     "execution_count": 59,
     "metadata": {},
     "output_type": "execute_result"
    }
   ],
   "source": [
    "prob_output_df.head(20)"
   ]
  },
  {
   "cell_type": "markdown",
   "metadata": {},
   "source": [
    "## Convert Regression Output to Classification Output for Patient Selection"
   ]
  },
  {
   "cell_type": "markdown",
   "metadata": {},
   "source": [
    "**Question 10**: Given the output predictions, convert it to a binary label for whether the patient meets the time criteria or does not (HINT: use the mean prediction numpy array). The expected output is a numpy array with a 1 or 0 based off if the prediction meets or doesnt meet the criteria."
   ]
  },
  {
   "cell_type": "code",
   "execution_count": 64,
   "metadata": {},
   "outputs": [
    {
     "name": "stdout",
     "output_type": "stream",
     "text": [
      "get_student_binary_prediction---> Predicted positive: 4806\n"
     ]
    }
   ],
   "source": [
    "%autoreload\n",
    "\n",
    "from student_utils import get_student_binary_prediction\n",
    "\n",
    "# modified intrdoucing. a threshold\n",
    "# the value used here for the threshold (4.6) is justified for the computation done for question 11 (see below)\n",
    "# It is the threshold that maximizes the F1-score\n",
    "student_binary_prediction = get_student_binary_prediction(prob_output_df, 'pred_mean', threshold=4.6)"
   ]
  },
  {
   "cell_type": "markdown",
   "metadata": {},
   "source": [
    "### Add Binary Prediction to Test Dataframe"
   ]
  },
  {
   "cell_type": "markdown",
   "metadata": {},
   "source": [
    "Using the student_binary_prediction output that is a numpy array with binary labels, we can use this to add to a dataframe to better visualize and also to prepare the data for the Aequitas toolkit. The Aequitas toolkit requires that the predictions be mapped to a binary label for the predictions (called 'score' field) and the actual value (called 'label_value')."
   ]
  },
  {
   "cell_type": "code",
   "execution_count": 61,
   "metadata": {},
   "outputs": [],
   "source": [
    "def add_pred_to_test(test_df, pred_np, demo_col_list):\n",
    "    for c in demo_col_list:\n",
    "        test_df[c] = test_df[c].astype(str)\n",
    "    test_df['score'] = pred_np\n",
    "    test_df['label_value'] = test_df['time_in_hospital'].apply(lambda x: 1 if x >=5 else 0)\n",
    "    return test_df\n",
    "\n",
    "pred_test_df = add_pred_to_test(d_test, student_binary_prediction, ['race', 'gender'])"
   ]
  },
  {
   "cell_type": "code",
   "execution_count": 131,
   "metadata": {},
   "outputs": [
    {
     "data": {
      "text/html": [
       "<div>\n",
       "<style scoped>\n",
       "    .dataframe tbody tr th:only-of-type {\n",
       "        vertical-align: middle;\n",
       "    }\n",
       "\n",
       "    .dataframe tbody tr th {\n",
       "        vertical-align: top;\n",
       "    }\n",
       "\n",
       "    .dataframe thead th {\n",
       "        text-align: right;\n",
       "    }\n",
       "</style>\n",
       "<table border=\"1\" class=\"dataframe\">\n",
       "  <thead>\n",
       "    <tr style=\"text-align: right;\">\n",
       "      <th></th>\n",
       "      <th>patient_nbr</th>\n",
       "      <th>gender</th>\n",
       "      <th>race</th>\n",
       "      <th>time_in_hospital</th>\n",
       "      <th>score</th>\n",
       "      <th>label_value</th>\n",
       "    </tr>\n",
       "  </thead>\n",
       "  <tbody>\n",
       "    <tr>\n",
       "      <th>42730</th>\n",
       "      <td>52603497</td>\n",
       "      <td>Male</td>\n",
       "      <td>Caucasian</td>\n",
       "      <td>1.0</td>\n",
       "      <td>0</td>\n",
       "      <td>0</td>\n",
       "    </tr>\n",
       "    <tr>\n",
       "      <th>33088</th>\n",
       "      <td>40451508</td>\n",
       "      <td>Female</td>\n",
       "      <td>Caucasian</td>\n",
       "      <td>2.0</td>\n",
       "      <td>0</td>\n",
       "      <td>0</td>\n",
       "    </tr>\n",
       "    <tr>\n",
       "      <th>44619</th>\n",
       "      <td>38807748</td>\n",
       "      <td>Male</td>\n",
       "      <td>Caucasian</td>\n",
       "      <td>4.0</td>\n",
       "      <td>0</td>\n",
       "      <td>0</td>\n",
       "    </tr>\n",
       "    <tr>\n",
       "      <th>18705</th>\n",
       "      <td>1349262</td>\n",
       "      <td>Female</td>\n",
       "      <td>?</td>\n",
       "      <td>4.0</td>\n",
       "      <td>0</td>\n",
       "      <td>0</td>\n",
       "    </tr>\n",
       "    <tr>\n",
       "      <th>33430</th>\n",
       "      <td>106664841</td>\n",
       "      <td>Female</td>\n",
       "      <td>Caucasian</td>\n",
       "      <td>12.0</td>\n",
       "      <td>1</td>\n",
       "      <td>1</td>\n",
       "    </tr>\n",
       "    <tr>\n",
       "      <th>23696</th>\n",
       "      <td>17841375</td>\n",
       "      <td>Female</td>\n",
       "      <td>Caucasian</td>\n",
       "      <td>3.0</td>\n",
       "      <td>0</td>\n",
       "      <td>0</td>\n",
       "    </tr>\n",
       "    <tr>\n",
       "      <th>43350</th>\n",
       "      <td>97396200</td>\n",
       "      <td>Male</td>\n",
       "      <td>AfricanAmerican</td>\n",
       "      <td>2.0</td>\n",
       "      <td>0</td>\n",
       "      <td>0</td>\n",
       "    </tr>\n",
       "    <tr>\n",
       "      <th>70777</th>\n",
       "      <td>132368810</td>\n",
       "      <td>Female</td>\n",
       "      <td>Caucasian</td>\n",
       "      <td>1.0</td>\n",
       "      <td>0</td>\n",
       "      <td>0</td>\n",
       "    </tr>\n",
       "    <tr>\n",
       "      <th>8395</th>\n",
       "      <td>23385321</td>\n",
       "      <td>Female</td>\n",
       "      <td>Caucasian</td>\n",
       "      <td>1.0</td>\n",
       "      <td>0</td>\n",
       "      <td>0</td>\n",
       "    </tr>\n",
       "    <tr>\n",
       "      <th>36287</th>\n",
       "      <td>92532573</td>\n",
       "      <td>Female</td>\n",
       "      <td>Caucasian</td>\n",
       "      <td>4.0</td>\n",
       "      <td>0</td>\n",
       "      <td>0</td>\n",
       "    </tr>\n",
       "  </tbody>\n",
       "</table>\n",
       "</div>"
      ],
      "text/plain": [
       "       patient_nbr  gender             race  time_in_hospital  score  \\\n",
       "42730     52603497    Male        Caucasian               1.0      0   \n",
       "33088     40451508  Female        Caucasian               2.0      0   \n",
       "44619     38807748    Male        Caucasian               4.0      0   \n",
       "18705      1349262  Female                ?               4.0      0   \n",
       "33430    106664841  Female        Caucasian              12.0      1   \n",
       "23696     17841375  Female        Caucasian               3.0      0   \n",
       "43350     97396200    Male  AfricanAmerican               2.0      0   \n",
       "70777    132368810  Female        Caucasian               1.0      0   \n",
       "8395      23385321  Female        Caucasian               1.0      0   \n",
       "36287     92532573  Female        Caucasian               4.0      0   \n",
       "\n",
       "       label_value  \n",
       "42730            0  \n",
       "33088            0  \n",
       "44619            0  \n",
       "18705            0  \n",
       "33430            1  \n",
       "23696            0  \n",
       "43350            0  \n",
       "70777            0  \n",
       "8395             0  \n",
       "36287            0  "
      ]
     },
     "execution_count": 131,
     "metadata": {},
     "output_type": "execute_result"
    }
   ],
   "source": [
    "pred_test_df[['patient_nbr', 'gender', 'race', 'time_in_hospital', 'score', 'label_value']].head(10)"
   ]
  },
  {
   "cell_type": "markdown",
   "metadata": {},
   "source": [
    "#### the dataframe is ready for using **AEquitas** toolkit. It has score and label_value. Attribute to be used for bias analysis are: gender and race"
   ]
  },
  {
   "cell_type": "markdown",
   "metadata": {},
   "source": [
    "## Model Evaluation Metrics "
   ]
  },
  {
   "cell_type": "markdown",
   "metadata": {},
   "source": [
    "**Question 11**: Now it is time to use the newly created binary labels in the 'pred_test_df' dataframe to evaluate the model with some common classification metrics. Please create a report summary of the performance of the model and be sure to give the ROC AUC, F1 score(weighted), class precision and recall scores. "
   ]
  },
  {
   "cell_type": "markdown",
   "metadata": {},
   "source": [
    "For the report please be sure to include the following three parts:\n",
    "- With a non-technical audience in mind, explain the precision-recall tradeoff in regard to how you have optimized your model.\n",
    "\n",
    "- What are some areas of improvement for future iterations?"
   ]
  },
  {
   "cell_type": "code",
   "execution_count": 171,
   "metadata": {},
   "outputs": [
    {
     "name": "stdout",
     "output_type": "stream",
     "text": [
      "Compute for THRESHOLD: 2.0\n",
      "get_student_binary_prediction---> Predicted positive: 14304\n",
      "Compute for THRESHOLD: 2.2\n",
      "get_student_binary_prediction---> Predicted positive: 13555\n",
      "Compute for THRESHOLD: 2.4\n",
      "get_student_binary_prediction---> Predicted positive: 12631\n",
      "Compute for THRESHOLD: 2.6\n",
      "get_student_binary_prediction---> Predicted positive: 11898\n",
      "Compute for THRESHOLD: 2.8\n",
      "get_student_binary_prediction---> Predicted positive: 11155\n"
     ]
    },
    {
     "name": "stderr",
     "output_type": "stream",
     "text": [
      "/Users/lsaetta/opt/anaconda3/envs/udacity-ehr-env/lib/python3.7/site-packages/sklearn/metrics/_classification.py:1245: UndefinedMetricWarning: Precision is ill-defined and being set to 0.0 in labels with no predicted samples. Use `zero_division` parameter to control this behavior.\n",
      "  _warn_prf(average, modifier, msg_start, len(result))\n"
     ]
    },
    {
     "name": "stdout",
     "output_type": "stream",
     "text": [
      "Compute for THRESHOLD: 3.0\n",
      "get_student_binary_prediction---> Predicted positive: 10395\n",
      "Compute for THRESHOLD: 3.2\n",
      "get_student_binary_prediction---> Predicted positive: 9593\n",
      "Compute for THRESHOLD: 3.4\n",
      "get_student_binary_prediction---> Predicted positive: 8828\n",
      "Compute for THRESHOLD: 3.6\n",
      "get_student_binary_prediction---> Predicted positive: 8109\n",
      "Compute for THRESHOLD: 3.8\n",
      "get_student_binary_prediction---> Predicted positive: 7455\n",
      "Compute for THRESHOLD: 4.0\n",
      "get_student_binary_prediction---> Predicted positive: 6805\n",
      "Compute for THRESHOLD: 4.2\n",
      "get_student_binary_prediction---> Predicted positive: 6165\n",
      "Compute for THRESHOLD: 4.4\n",
      "get_student_binary_prediction---> Predicted positive: 5515\n",
      "Compute for THRESHOLD: 4.6\n",
      "get_student_binary_prediction---> Predicted positive: 4806\n",
      "Compute for THRESHOLD: 4.8\n",
      "get_student_binary_prediction---> Predicted positive: 4088\n",
      "Compute for THRESHOLD: 5.0\n",
      "get_student_binary_prediction---> Predicted positive: 3631\n",
      "Compute for THRESHOLD: 5.2\n",
      "get_student_binary_prediction---> Predicted positive: 3273\n",
      "Compute for THRESHOLD: 5.4\n",
      "get_student_binary_prediction---> Predicted positive: 2932\n",
      "Compute for THRESHOLD: 5.6\n",
      "get_student_binary_prediction---> Predicted positive: 2641\n",
      "Compute for THRESHOLD: 5.8\n",
      "get_student_binary_prediction---> Predicted positive: 2321\n"
     ]
    }
   ],
   "source": [
    "%autoreload\n",
    "from sklearn.metrics import confusion_matrix, precision_score, recall_score, f1_score, accuracy_score\n",
    "\n",
    "# do the computation for different thresholds\n",
    "threshold_list = [round(thr, 1) for thr in np.arange(2.0, 6.0, 0.20)] \n",
    "\n",
    "acc_list = []\n",
    "prec_list = []\n",
    "rec_list = []\n",
    "f1_list = []\n",
    "conf_mat_list = []\n",
    "tpr_list = []\n",
    "fpr_list = []\n",
    "\n",
    "for thr in threshold_list:\n",
    "    print('Compute for THRESHOLD:', thr)\n",
    "    \n",
    "    student_binary_prediction = get_student_binary_prediction(prob_output_df, 'pred_mean', threshold=thr)\n",
    "    \n",
    "    pred_test_df = add_pred_to_test(d_test, student_binary_prediction, ['race', 'gender'])\n",
    "    \n",
    "    y_true = pred_test_df['label_value'].values\n",
    "    y_preds = pred_test_df['score'].values\n",
    "    \n",
    "    conf_mat = confusion_matrix(y_true, y_preds)\n",
    "    tn, fp, fn, tp = conf_mat.ravel()\n",
    "    \n",
    "    acc = accuracy_score(y_true, y_preds)\n",
    "    precision = precision_score(y_true, y_preds, average='weighted')\n",
    "    recall = recall_score(y_true, y_preds, average='weighted')\n",
    "    f1 = f1_score(y_true, y_preds, average='weighted')\n",
    "    tpr = round(tp/float(tp + fn), 2)\n",
    "    fpr = round(fp/float(fp + tn), 2)\n",
    "    \n",
    "    acc_list.append(acc)\n",
    "    prec_list.append(precision)\n",
    "    rec_list.append(recall)\n",
    "    f1_list.append(f1)\n",
    "    conf_mat_list.append([tn, fp, fn, tp])\n",
    "    tpr_list.append(tpr)\n",
    "    fpr_list.append(fpr)\n",
    "    \n",
    "# build the results dataframe\n",
    "stats_df = pd.DataFrame(list(zip(threshold_list, conf_mat_list, acc_list, prec_list, rec_list, f1_list)), \n",
    "               columns =['thr', 'conf_mat [tn, fp, fn, tp]', 'acc', 'prec', 'rec', 'f1'])"
   ]
  },
  {
   "cell_type": "code",
   "execution_count": 172,
   "metadata": {},
   "outputs": [
    {
     "data": {
      "text/html": [
       "<div>\n",
       "<style scoped>\n",
       "    .dataframe tbody tr th:only-of-type {\n",
       "        vertical-align: middle;\n",
       "    }\n",
       "\n",
       "    .dataframe tbody tr th {\n",
       "        vertical-align: top;\n",
       "    }\n",
       "\n",
       "    .dataframe thead th {\n",
       "        text-align: right;\n",
       "    }\n",
       "</style>\n",
       "<table border=\"1\" class=\"dataframe\">\n",
       "  <thead>\n",
       "    <tr style=\"text-align: right;\">\n",
       "      <th></th>\n",
       "      <th>thr</th>\n",
       "      <th>conf_mat [tn, fp, fn, tp]</th>\n",
       "      <th>acc</th>\n",
       "      <th>prec</th>\n",
       "      <th>rec</th>\n",
       "      <th>f1</th>\n",
       "    </tr>\n",
       "  </thead>\n",
       "  <tbody>\n",
       "    <tr>\n",
       "      <th>0</th>\n",
       "      <td>2.0</td>\n",
       "      <td>[0, 9177, 0, 5127]</td>\n",
       "      <td>0.358431</td>\n",
       "      <td>0.128473</td>\n",
       "      <td>0.358431</td>\n",
       "      <td>0.189149</td>\n",
       "    </tr>\n",
       "    <tr>\n",
       "      <th>1</th>\n",
       "      <td>2.2</td>\n",
       "      <td>[712, 8465, 37, 5090]</td>\n",
       "      <td>0.405621</td>\n",
       "      <td>0.744469</td>\n",
       "      <td>0.405621</td>\n",
       "      <td>0.287353</td>\n",
       "    </tr>\n",
       "    <tr>\n",
       "      <th>2</th>\n",
       "      <td>2.4</td>\n",
       "      <td>[1555, 7622, 118, 5009]</td>\n",
       "      <td>0.458893</td>\n",
       "      <td>0.738459</td>\n",
       "      <td>0.458893</td>\n",
       "      <td>0.386102</td>\n",
       "    </tr>\n",
       "    <tr>\n",
       "      <th>3</th>\n",
       "      <td>2.6</td>\n",
       "      <td>[2198, 6979, 208, 4919]</td>\n",
       "      <td>0.497553</td>\n",
       "      <td>0.734291</td>\n",
       "      <td>0.497553</td>\n",
       "      <td>0.450611</td>\n",
       "    </tr>\n",
       "    <tr>\n",
       "      <th>4</th>\n",
       "      <td>2.8</td>\n",
       "      <td>[2837, 6340, 312, 4815]</td>\n",
       "      <td>0.534955</td>\n",
       "      <td>0.732718</td>\n",
       "      <td>0.534955</td>\n",
       "      <td>0.507326</td>\n",
       "    </tr>\n",
       "    <tr>\n",
       "      <th>5</th>\n",
       "      <td>3.0</td>\n",
       "      <td>[3475, 5702, 434, 4693]</td>\n",
       "      <td>0.571029</td>\n",
       "      <td>0.732158</td>\n",
       "      <td>0.571029</td>\n",
       "      <td>0.557478</td>\n",
       "    </tr>\n",
       "    <tr>\n",
       "      <th>6</th>\n",
       "      <td>3.2</td>\n",
       "      <td>[4110, 5067, 601, 4526]</td>\n",
       "      <td>0.603747</td>\n",
       "      <td>0.728830</td>\n",
       "      <td>0.603747</td>\n",
       "      <td>0.600146</td>\n",
       "    </tr>\n",
       "    <tr>\n",
       "      <th>7</th>\n",
       "      <td>3.4</td>\n",
       "      <td>[4708, 4469, 768, 4359]</td>\n",
       "      <td>0.633879</td>\n",
       "      <td>0.728572</td>\n",
       "      <td>0.633879</td>\n",
       "      <td>0.636191</td>\n",
       "    </tr>\n",
       "    <tr>\n",
       "      <th>8</th>\n",
       "      <td>3.6</td>\n",
       "      <td>[5259, 3918, 936, 4191]</td>\n",
       "      <td>0.660654</td>\n",
       "      <td>0.729884</td>\n",
       "      <td>0.660654</td>\n",
       "      <td>0.665966</td>\n",
       "    </tr>\n",
       "    <tr>\n",
       "      <th>9</th>\n",
       "      <td>3.8</td>\n",
       "      <td>[5722, 3455, 1127, 4000]</td>\n",
       "      <td>0.679670</td>\n",
       "      <td>0.728316</td>\n",
       "      <td>0.679670</td>\n",
       "      <td>0.686039</td>\n",
       "    </tr>\n",
       "    <tr>\n",
       "      <th>10</th>\n",
       "      <td>4.0</td>\n",
       "      <td>[6168, 3009, 1331, 3796]</td>\n",
       "      <td>0.696588</td>\n",
       "      <td>0.727638</td>\n",
       "      <td>0.696588</td>\n",
       "      <td>0.702658</td>\n",
       "    </tr>\n",
       "    <tr>\n",
       "      <th>11</th>\n",
       "      <td>4.2</td>\n",
       "      <td>[6591, 2586, 1548, 3579]</td>\n",
       "      <td>0.710990</td>\n",
       "      <td>0.727627</td>\n",
       "      <td>0.710990</td>\n",
       "      <td>0.715611</td>\n",
       "    </tr>\n",
       "    <tr>\n",
       "      <th>12</th>\n",
       "      <td>4.4</td>\n",
       "      <td>[7029, 2148, 1760, 3367]</td>\n",
       "      <td>0.726790</td>\n",
       "      <td>0.731923</td>\n",
       "      <td>0.726790</td>\n",
       "      <td>0.728820</td>\n",
       "    </tr>\n",
       "    <tr>\n",
       "      <th>13</th>\n",
       "      <td>4.6</td>\n",
       "      <td>[7438, 1739, 2060, 3067]</td>\n",
       "      <td>0.734410</td>\n",
       "      <td>0.731157</td>\n",
       "      <td>0.734410</td>\n",
       "      <td>0.732401</td>\n",
       "    </tr>\n",
       "    <tr>\n",
       "      <th>14</th>\n",
       "      <td>4.8</td>\n",
       "      <td>[7835, 1342, 2381, 2746]</td>\n",
       "      <td>0.739723</td>\n",
       "      <td>0.732807</td>\n",
       "      <td>0.739723</td>\n",
       "      <td>0.732022</td>\n",
       "    </tr>\n",
       "    <tr>\n",
       "      <th>15</th>\n",
       "      <td>5.0</td>\n",
       "      <td>[8082, 1095, 2591, 2536]</td>\n",
       "      <td>0.742310</td>\n",
       "      <td>0.736159</td>\n",
       "      <td>0.742310</td>\n",
       "      <td>0.730012</td>\n",
       "    </tr>\n",
       "    <tr>\n",
       "      <th>16</th>\n",
       "      <td>5.2</td>\n",
       "      <td>[8248, 929, 2783, 2344]</td>\n",
       "      <td>0.740492</td>\n",
       "      <td>0.736403</td>\n",
       "      <td>0.740492</td>\n",
       "      <td>0.723758</td>\n",
       "    </tr>\n",
       "    <tr>\n",
       "      <th>17</th>\n",
       "      <td>5.4</td>\n",
       "      <td>[8409, 768, 2963, 2164]</td>\n",
       "      <td>0.739164</td>\n",
       "      <td>0.738951</td>\n",
       "      <td>0.739164</td>\n",
       "      <td>0.717573</td>\n",
       "    </tr>\n",
       "    <tr>\n",
       "      <th>18</th>\n",
       "      <td>5.6</td>\n",
       "      <td>[8527, 650, 3136, 1991]</td>\n",
       "      <td>0.735319</td>\n",
       "      <td>0.739275</td>\n",
       "      <td>0.735319</td>\n",
       "      <td>0.708753</td>\n",
       "    </tr>\n",
       "    <tr>\n",
       "      <th>19</th>\n",
       "      <td>5.8</td>\n",
       "      <td>[8653, 524, 3330, 1797]</td>\n",
       "      <td>0.730565</td>\n",
       "      <td>0.740791</td>\n",
       "      <td>0.730565</td>\n",
       "      <td>0.697675</td>\n",
       "    </tr>\n",
       "  </tbody>\n",
       "</table>\n",
       "</div>"
      ],
      "text/plain": [
       "    thr conf_mat [tn, fp, fn, tp]       acc      prec       rec        f1\n",
       "0   2.0        [0, 9177, 0, 5127]  0.358431  0.128473  0.358431  0.189149\n",
       "1   2.2     [712, 8465, 37, 5090]  0.405621  0.744469  0.405621  0.287353\n",
       "2   2.4   [1555, 7622, 118, 5009]  0.458893  0.738459  0.458893  0.386102\n",
       "3   2.6   [2198, 6979, 208, 4919]  0.497553  0.734291  0.497553  0.450611\n",
       "4   2.8   [2837, 6340, 312, 4815]  0.534955  0.732718  0.534955  0.507326\n",
       "5   3.0   [3475, 5702, 434, 4693]  0.571029  0.732158  0.571029  0.557478\n",
       "6   3.2   [4110, 5067, 601, 4526]  0.603747  0.728830  0.603747  0.600146\n",
       "7   3.4   [4708, 4469, 768, 4359]  0.633879  0.728572  0.633879  0.636191\n",
       "8   3.6   [5259, 3918, 936, 4191]  0.660654  0.729884  0.660654  0.665966\n",
       "9   3.8  [5722, 3455, 1127, 4000]  0.679670  0.728316  0.679670  0.686039\n",
       "10  4.0  [6168, 3009, 1331, 3796]  0.696588  0.727638  0.696588  0.702658\n",
       "11  4.2  [6591, 2586, 1548, 3579]  0.710990  0.727627  0.710990  0.715611\n",
       "12  4.4  [7029, 2148, 1760, 3367]  0.726790  0.731923  0.726790  0.728820\n",
       "13  4.6  [7438, 1739, 2060, 3067]  0.734410  0.731157  0.734410  0.732401\n",
       "14  4.8  [7835, 1342, 2381, 2746]  0.739723  0.732807  0.739723  0.732022\n",
       "15  5.0  [8082, 1095, 2591, 2536]  0.742310  0.736159  0.742310  0.730012\n",
       "16  5.2   [8248, 929, 2783, 2344]  0.740492  0.736403  0.740492  0.723758\n",
       "17  5.4   [8409, 768, 2963, 2164]  0.739164  0.738951  0.739164  0.717573\n",
       "18  5.6   [8527, 650, 3136, 1991]  0.735319  0.739275  0.735319  0.708753\n",
       "19  5.8   [8653, 524, 3330, 1797]  0.730565  0.740791  0.730565  0.697675"
      ]
     },
     "execution_count": 172,
     "metadata": {},
     "output_type": "execute_result"
    }
   ],
   "source": [
    "stats_df.head(len(threshold_list))"
   ]
  },
  {
   "cell_type": "markdown",
   "metadata": {},
   "source": [
    "### Plots"
   ]
  },
  {
   "cell_type": "code",
   "execution_count": 173,
   "metadata": {},
   "outputs": [
    {
     "data": {
      "image/png": "[encoded data removed]",
      "text/plain": [
       "<Figure size 576x432 with 1 Axes>"
      ]
     },
     "metadata": {},
     "output_type": "display_data"
    }
   ],
   "source": [
    "# plot the f1 score vs threshold\n",
    "plt.figure(figsize=(8, 6))\n",
    "plt.plot(threshold_list, f1_list, '*-')\n",
    "plt.title('F1 score vs threshold')\n",
    "plt.xlabel('threshold')\n",
    "plt.ylabel('F1-score')\n",
    "plt.grid(True)\n",
    "plt.show()"
   ]
  },
  {
   "cell_type": "markdown",
   "metadata": {},
   "source": [
    "### from this plot we clearly see that for threshold = 4.6 the f1-score is maximum"
   ]
  },
  {
   "cell_type": "code",
   "execution_count": 174,
   "metadata": {},
   "outputs": [
    {
     "data": {
      "image/png": "[encoded data removed]",
      "text/plain": [
       "<Figure size 576x432 with 1 Axes>"
      ]
     },
     "metadata": {},
     "output_type": "display_data"
    }
   ],
   "source": [
    "# plot the ROC curve\n",
    "plt.figure(figsize=(8, 6))\n",
    "plt.plot(fpr_list, tpr_list, '*-')\n",
    "plt.title('ROC curve')\n",
    "plt.xlim((0.1, 0.7))\n",
    "plt.ylim((0.1, 0.9))\n",
    "plt.xlabel('fpr')\n",
    "plt.ylabel('tpr')\n",
    "plt.grid(True)\n",
    "plt.show()"
   ]
  },
  {
   "cell_type": "code",
   "execution_count": 180,
   "metadata": {},
   "outputs": [
    {
     "name": "stdout",
     "output_type": "stream",
     "text": [
      "ROC AUC:  0.77\n"
     ]
    }
   ],
   "source": [
    "# compute ROC AUC\n",
    "fpr_list_reverse = list(reversed(fpr_list))\n",
    "tpr_list_reverse = list(reversed(tpr_list))\n",
    "\n",
    "area = compute_area(fpr_list_reverse, tpr_list_reverse)\n",
    "\n",
    "print('ROC AUC: ', area)"
   ]
  },
  {
   "cell_type": "markdown",
   "metadata": {},
   "source": [
    "### TODO add summary here"
   ]
  },
  {
   "cell_type": "markdown",
   "metadata": {},
   "source": [
    "# 7. Evaluating Potential Model Biases with Aequitas Toolkit"
   ]
  },
  {
   "cell_type": "markdown",
   "metadata": {},
   "source": [
    "## Prepare Data For Aequitas Bias Toolkit "
   ]
  },
  {
   "cell_type": "markdown",
   "metadata": {},
   "source": [
    "Using the gender and race fields, we will prepare the data for the Aequitas Toolkit."
   ]
  },
  {
   "cell_type": "code",
   "execution_count": 132,
   "metadata": {},
   "outputs": [],
   "source": [
    "# Aequitas\n",
    "from aequitas.preprocessing import preprocess_input_df\n",
    "from aequitas.group import Group\n",
    "from aequitas.plotting import Plot\n",
    "from aequitas.bias import Bias\n",
    "from aequitas.fairness import Fairness\n",
    "\n",
    "# we take only needed cols\n",
    "ae_subset_df = pred_test_df[['race', 'gender', 'score', 'label_value']]\n",
    "\n",
    "ae_df, _ = preprocess_input_df(ae_subset_df)\n",
    "\n",
    "g = Group()\n",
    "xtab, _ = g.get_crosstabs(ae_df)"
   ]
  },
  {
   "cell_type": "code",
   "execution_count": null,
   "metadata": {},
   "outputs": [],
   "source": [
    "# a first result fpr and fnr are much different in hispanic than not in other races"
   ]
  },
  {
   "cell_type": "code",
   "execution_count": 134,
   "metadata": {},
   "outputs": [],
   "source": [
    "absolute_metrics = g.list_absolute_metrics(xtab)\n",
    "clean_xtab = xtab.fillna(-1)\n",
    "aqp = Plot()\n",
    "b = Bias()"
   ]
  },
  {
   "cell_type": "code",
   "execution_count": 135,
   "metadata": {},
   "outputs": [
    {
     "data": {
      "text/html": [
       "<div>\n",
       "<style scoped>\n",
       "    .dataframe tbody tr th:only-of-type {\n",
       "        vertical-align: middle;\n",
       "    }\n",
       "\n",
       "    .dataframe tbody tr th {\n",
       "        vertical-align: top;\n",
       "    }\n",
       "\n",
       "    .dataframe thead th {\n",
       "        text-align: right;\n",
       "    }\n",
       "</style>\n",
       "<table border=\"1\" class=\"dataframe\">\n",
       "  <thead>\n",
       "    <tr style=\"text-align: right;\">\n",
       "      <th></th>\n",
       "      <th>attribute_name</th>\n",
       "      <th>attribute_value</th>\n",
       "      <th>tpr</th>\n",
       "      <th>tnr</th>\n",
       "      <th>for</th>\n",
       "      <th>fdr</th>\n",
       "      <th>fpr</th>\n",
       "      <th>fnr</th>\n",
       "      <th>npv</th>\n",
       "      <th>precision</th>\n",
       "      <th>ppr</th>\n",
       "      <th>pprev</th>\n",
       "      <th>prev</th>\n",
       "    </tr>\n",
       "  </thead>\n",
       "  <tbody>\n",
       "    <tr>\n",
       "      <th>0</th>\n",
       "      <td>race</td>\n",
       "      <td>?</td>\n",
       "      <td>0.41</td>\n",
       "      <td>0.94</td>\n",
       "      <td>0.26</td>\n",
       "      <td>0.22</td>\n",
       "      <td>0.06</td>\n",
       "      <td>0.59</td>\n",
       "      <td>0.74</td>\n",
       "      <td>0.78</td>\n",
       "      <td>0.03</td>\n",
       "      <td>0.19</td>\n",
       "      <td>0.36</td>\n",
       "    </tr>\n",
       "    <tr>\n",
       "      <th>1</th>\n",
       "      <td>race</td>\n",
       "      <td>AfricanAmerican</td>\n",
       "      <td>0.34</td>\n",
       "      <td>0.94</td>\n",
       "      <td>0.28</td>\n",
       "      <td>0.23</td>\n",
       "      <td>0.06</td>\n",
       "      <td>0.66</td>\n",
       "      <td>0.72</td>\n",
       "      <td>0.77</td>\n",
       "      <td>0.18</td>\n",
       "      <td>0.16</td>\n",
       "      <td>0.36</td>\n",
       "    </tr>\n",
       "    <tr>\n",
       "      <th>2</th>\n",
       "      <td>race</td>\n",
       "      <td>Asian</td>\n",
       "      <td>0.30</td>\n",
       "      <td>0.95</td>\n",
       "      <td>0.23</td>\n",
       "      <td>0.31</td>\n",
       "      <td>0.05</td>\n",
       "      <td>0.70</td>\n",
       "      <td>0.77</td>\n",
       "      <td>0.69</td>\n",
       "      <td>0.01</td>\n",
       "      <td>0.12</td>\n",
       "      <td>0.28</td>\n",
       "    </tr>\n",
       "    <tr>\n",
       "      <th>3</th>\n",
       "      <td>race</td>\n",
       "      <td>Caucasian</td>\n",
       "      <td>0.35</td>\n",
       "      <td>0.94</td>\n",
       "      <td>0.28</td>\n",
       "      <td>0.22</td>\n",
       "      <td>0.06</td>\n",
       "      <td>0.65</td>\n",
       "      <td>0.72</td>\n",
       "      <td>0.78</td>\n",
       "      <td>0.75</td>\n",
       "      <td>0.16</td>\n",
       "      <td>0.36</td>\n",
       "    </tr>\n",
       "    <tr>\n",
       "      <th>4</th>\n",
       "      <td>race</td>\n",
       "      <td>Hispanic</td>\n",
       "      <td>0.27</td>\n",
       "      <td>0.95</td>\n",
       "      <td>0.25</td>\n",
       "      <td>0.28</td>\n",
       "      <td>0.05</td>\n",
       "      <td>0.73</td>\n",
       "      <td>0.75</td>\n",
       "      <td>0.72</td>\n",
       "      <td>0.01</td>\n",
       "      <td>0.11</td>\n",
       "      <td>0.30</td>\n",
       "    </tr>\n",
       "    <tr>\n",
       "      <th>5</th>\n",
       "      <td>race</td>\n",
       "      <td>Other</td>\n",
       "      <td>0.45</td>\n",
       "      <td>0.94</td>\n",
       "      <td>0.20</td>\n",
       "      <td>0.24</td>\n",
       "      <td>0.06</td>\n",
       "      <td>0.55</td>\n",
       "      <td>0.80</td>\n",
       "      <td>0.76</td>\n",
       "      <td>0.02</td>\n",
       "      <td>0.18</td>\n",
       "      <td>0.30</td>\n",
       "    </tr>\n",
       "    <tr>\n",
       "      <th>6</th>\n",
       "      <td>gender</td>\n",
       "      <td>Female</td>\n",
       "      <td>0.34</td>\n",
       "      <td>0.94</td>\n",
       "      <td>0.29</td>\n",
       "      <td>0.22</td>\n",
       "      <td>0.06</td>\n",
       "      <td>0.66</td>\n",
       "      <td>0.71</td>\n",
       "      <td>0.78</td>\n",
       "      <td>0.55</td>\n",
       "      <td>0.17</td>\n",
       "      <td>0.37</td>\n",
       "    </tr>\n",
       "    <tr>\n",
       "      <th>7</th>\n",
       "      <td>gender</td>\n",
       "      <td>Male</td>\n",
       "      <td>0.36</td>\n",
       "      <td>0.94</td>\n",
       "      <td>0.26</td>\n",
       "      <td>0.23</td>\n",
       "      <td>0.06</td>\n",
       "      <td>0.64</td>\n",
       "      <td>0.74</td>\n",
       "      <td>0.77</td>\n",
       "      <td>0.45</td>\n",
       "      <td>0.16</td>\n",
       "      <td>0.34</td>\n",
       "    </tr>\n",
       "    <tr>\n",
       "      <th>8</th>\n",
       "      <td>gender</td>\n",
       "      <td>Unknown/Invalid</td>\n",
       "      <td>1.00</td>\n",
       "      <td>1.00</td>\n",
       "      <td>0.00</td>\n",
       "      <td>0.00</td>\n",
       "      <td>0.00</td>\n",
       "      <td>0.00</td>\n",
       "      <td>1.00</td>\n",
       "      <td>1.00</td>\n",
       "      <td>0.00</td>\n",
       "      <td>0.50</td>\n",
       "      <td>0.50</td>\n",
       "    </tr>\n",
       "  </tbody>\n",
       "</table>\n",
       "</div>"
      ],
      "text/plain": [
       "  attribute_name  attribute_value   tpr   tnr   for   fdr   fpr   fnr   npv  \\\n",
       "0           race                ?  0.41  0.94  0.26  0.22  0.06  0.59  0.74   \n",
       "1           race  AfricanAmerican  0.34  0.94  0.28  0.23  0.06  0.66  0.72   \n",
       "2           race            Asian  0.30  0.95  0.23  0.31  0.05  0.70  0.77   \n",
       "3           race        Caucasian  0.35  0.94  0.28  0.22  0.06  0.65  0.72   \n",
       "4           race         Hispanic  0.27  0.95  0.25  0.28  0.05  0.73  0.75   \n",
       "5           race            Other  0.45  0.94  0.20  0.24  0.06  0.55  0.80   \n",
       "6         gender           Female  0.34  0.94  0.29  0.22  0.06  0.66  0.71   \n",
       "7         gender             Male  0.36  0.94  0.26  0.23  0.06  0.64  0.74   \n",
       "8         gender  Unknown/Invalid  1.00  1.00  0.00  0.00  0.00  0.00  1.00   \n",
       "\n",
       "   precision   ppr  pprev  prev  \n",
       "0       0.78  0.03   0.19  0.36  \n",
       "1       0.77  0.18   0.16  0.36  \n",
       "2       0.69  0.01   0.12  0.28  \n",
       "3       0.78  0.75   0.16  0.36  \n",
       "4       0.72  0.01   0.11  0.30  \n",
       "5       0.76  0.02   0.18  0.30  \n",
       "6       0.78  0.55   0.17  0.37  \n",
       "7       0.77  0.45   0.16  0.34  \n",
       "8       1.00  0.00   0.50  0.50  "
      ]
     },
     "execution_count": 135,
     "metadata": {},
     "output_type": "execute_result"
    }
   ],
   "source": [
    "# get a first idea\n",
    "xtab[['attribute_name', 'attribute_value'] + absolute_metrics].round(2)"
   ]
  },
  {
   "cell_type": "markdown",
   "metadata": {},
   "source": [
    "## Reference Group Selection"
   ]
  },
  {
   "cell_type": "markdown",
   "metadata": {},
   "source": [
    "Below we have chosen the reference group for our analysis but feel free to select another one."
   ]
  },
  {
   "cell_type": "code",
   "execution_count": null,
   "metadata": {},
   "outputs": [],
   "source": [
    "# test reference group with Caucasian Male\n",
    "bdf = b.get_disparity_predefined_groups(clean_xtab, \n",
    "                    original_df=ae_df, \n",
    "                    ref_groups_dict={'race':'Caucasian', 'gender':'Male'\n",
    "                                     }, \n",
    "                    alpha=0.05, \n",
    "                    check_significance=False)\n",
    "\n",
    "\n",
    "f = Fairness()\n",
    "fdf = f.get_group_value_fairness(bdf)"
   ]
  },
  {
   "cell_type": "markdown",
   "metadata": {},
   "source": [
    "## Race and Gender Bias Analysis for Patient Selection"
   ]
  },
  {
   "cell_type": "markdown",
   "metadata": {},
   "source": [
    "**Question 12**: For the gender and race fields, please plot two metrics that are important for patient selection below and state whether there is a significant bias in your model across any of the groups along with justification for your statement."
   ]
  },
  {
   "cell_type": "code",
   "execution_count": null,
   "metadata": {},
   "outputs": [],
   "source": [
    "# Plot two metrics\n",
    "\n",
    "# Is there significant bias in your model for either race or gender?"
   ]
  },
  {
   "cell_type": "markdown",
   "metadata": {},
   "source": [
    "## Fairness Analysis Example - Relative to a Reference Group "
   ]
  },
  {
   "cell_type": "markdown",
   "metadata": {},
   "source": [
    "**Question 13**: Earlier we defined our reference group and then calculated disparity metrics relative to this grouping. Please provide a visualization of the fairness evaluation for this reference group and analyze whether there is disparity."
   ]
  },
  {
   "cell_type": "code",
   "execution_count": null,
   "metadata": {},
   "outputs": [],
   "source": [
    "# Reference group fairness plot"
   ]
  },
  {
   "cell_type": "code",
   "execution_count": null,
   "metadata": {},
   "outputs": [],
   "source": []
  }
 ],
 "metadata": {
  "kernelspec": {
   "display_name": "udacity-ehr-env",
   "language": "python",
   "name": "udacity-ehr-env"
  },
  "language_info": {
   "codemirror_mode": {
    "name": "ipython",
    "version": 3
   },
   "file_extension": ".py",
   "mimetype": "text/x-python",
   "name": "python",
   "nbconvert_exporter": "python",
   "pygments_lexer": "ipython3",
   "version": "3.7.9"
  }
 },
 "nbformat": 4,
 "nbformat_minor": 4
}
